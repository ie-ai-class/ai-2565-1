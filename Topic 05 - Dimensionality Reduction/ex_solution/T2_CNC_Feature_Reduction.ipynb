{
 "cells": [
  {
   "cell_type": "markdown",
   "metadata": {},
   "source": [
    "# CNC Mill Tool Wear\n",
    "- https://www.kaggle.com/shasun/tool-wear-detection-in-cnc-mill\n",
    "- Predict \"Machining_Process\""
   ]
  },
  {
   "cell_type": "markdown",
   "metadata": {},
   "source": [
    "## Setup"
   ]
  },
  {
   "cell_type": "code",
   "execution_count": 4,
   "metadata": {},
   "outputs": [],
   "source": [
    "import numpy as np\n",
    "import matplotlib.pyplot as plt\n",
    "import pandas as pd\n",
    "from sklearn.model_selection import train_test_split\n",
    "from sklearn.preprocessing import StandardScaler\n",
    "from sklearn.metrics import accuracy_score\n",
    "from sklearn.decomposition import PCA\n",
    "from sklearn.discriminant_analysis import LinearDiscriminantAnalysis as LDA"
   ]
  },
  {
   "cell_type": "code",
   "execution_count": 5,
   "metadata": {},
   "outputs": [
    {
     "name": "stdout",
     "output_type": "stream",
     "text": [
      "c:\\Users\\nnnpo\\Coding\\class\\ai-class-2565-1\\Topic 02-2 - CNC Data\\Lecture\\Data_CNC_Processed\n"
     ]
    },
    {
     "data": {
      "text/html": [
       "<div>\n",
       "<style scoped>\n",
       "    .dataframe tbody tr th:only-of-type {\n",
       "        vertical-align: middle;\n",
       "    }\n",
       "\n",
       "    .dataframe tbody tr th {\n",
       "        vertical-align: top;\n",
       "    }\n",
       "\n",
       "    .dataframe thead th {\n",
       "        text-align: right;\n",
       "    }\n",
       "</style>\n",
       "<table border=\"1\" class=\"dataframe\">\n",
       "  <thead>\n",
       "    <tr style=\"text-align: right;\">\n",
       "      <th></th>\n",
       "      <th>X1_ActualPosition</th>\n",
       "      <th>X1_ActualVelocity</th>\n",
       "      <th>X1_ActualAcceleration</th>\n",
       "      <th>X1_CommandPosition</th>\n",
       "      <th>X1_CommandVelocity</th>\n",
       "      <th>X1_CommandAcceleration</th>\n",
       "      <th>X1_CurrentFeedback</th>\n",
       "      <th>X1_DCBusVoltage</th>\n",
       "      <th>X1_OutputCurrent</th>\n",
       "      <th>X1_OutputVoltage</th>\n",
       "      <th>...</th>\n",
       "      <th>S1_OutputCurrent</th>\n",
       "      <th>S1_OutputVoltage</th>\n",
       "      <th>S1_OutputPower</th>\n",
       "      <th>S1_SystemInertia</th>\n",
       "      <th>M1_CURRENT_PROGRAM_NUMBER</th>\n",
       "      <th>M1_sequence_number</th>\n",
       "      <th>M1_CURRENT_FEEDRATE</th>\n",
       "      <th>Machining_Process</th>\n",
       "      <th>feedrate</th>\n",
       "      <th>clamp_pressure</th>\n",
       "    </tr>\n",
       "  </thead>\n",
       "  <tbody>\n",
       "    <tr>\n",
       "      <th>0</th>\n",
       "      <td>198.0</td>\n",
       "      <td>0.0</td>\n",
       "      <td>0.00</td>\n",
       "      <td>198.0</td>\n",
       "      <td>0.0</td>\n",
       "      <td>0.000000</td>\n",
       "      <td>0.18</td>\n",
       "      <td>0.0207</td>\n",
       "      <td>329.0</td>\n",
       "      <td>2.77</td>\n",
       "      <td>...</td>\n",
       "      <td>329.0</td>\n",
       "      <td>0.0</td>\n",
       "      <td>6.960000e-07</td>\n",
       "      <td>12.0</td>\n",
       "      <td>1.0</td>\n",
       "      <td>0.0</td>\n",
       "      <td>50.0</td>\n",
       "      <td>7</td>\n",
       "      <td>6</td>\n",
       "      <td>4.0</td>\n",
       "    </tr>\n",
       "    <tr>\n",
       "      <th>1</th>\n",
       "      <td>198.0</td>\n",
       "      <td>-10.8</td>\n",
       "      <td>-350.00</td>\n",
       "      <td>198.0</td>\n",
       "      <td>-13.6</td>\n",
       "      <td>-358.000000</td>\n",
       "      <td>-10.90</td>\n",
       "      <td>0.1860</td>\n",
       "      <td>328.0</td>\n",
       "      <td>23.30</td>\n",
       "      <td>...</td>\n",
       "      <td>328.0</td>\n",
       "      <td>0.0</td>\n",
       "      <td>-5.270000e-07</td>\n",
       "      <td>12.0</td>\n",
       "      <td>1.0</td>\n",
       "      <td>4.0</td>\n",
       "      <td>50.0</td>\n",
       "      <td>7</td>\n",
       "      <td>6</td>\n",
       "      <td>4.0</td>\n",
       "    </tr>\n",
       "    <tr>\n",
       "      <th>2</th>\n",
       "      <td>196.0</td>\n",
       "      <td>-17.8</td>\n",
       "      <td>-6.25</td>\n",
       "      <td>196.0</td>\n",
       "      <td>-17.9</td>\n",
       "      <td>-0.000095</td>\n",
       "      <td>-8.59</td>\n",
       "      <td>0.1400</td>\n",
       "      <td>328.0</td>\n",
       "      <td>30.60</td>\n",
       "      <td>...</td>\n",
       "      <td>328.0</td>\n",
       "      <td>0.0</td>\n",
       "      <td>9.100000e-07</td>\n",
       "      <td>12.0</td>\n",
       "      <td>1.0</td>\n",
       "      <td>7.0</td>\n",
       "      <td>50.0</td>\n",
       "      <td>7</td>\n",
       "      <td>6</td>\n",
       "      <td>4.0</td>\n",
       "    </tr>\n",
       "  </tbody>\n",
       "</table>\n",
       "<p>3 rows × 50 columns</p>\n",
       "</div>"
      ],
      "text/plain": [
       "   X1_ActualPosition  X1_ActualVelocity  X1_ActualAcceleration  \\\n",
       "0              198.0                0.0                   0.00   \n",
       "1              198.0              -10.8                -350.00   \n",
       "2              196.0              -17.8                  -6.25   \n",
       "\n",
       "   X1_CommandPosition  X1_CommandVelocity  X1_CommandAcceleration  \\\n",
       "0               198.0                 0.0                0.000000   \n",
       "1               198.0               -13.6             -358.000000   \n",
       "2               196.0               -17.9               -0.000095   \n",
       "\n",
       "   X1_CurrentFeedback  X1_DCBusVoltage  X1_OutputCurrent  X1_OutputVoltage  \\\n",
       "0                0.18           0.0207             329.0              2.77   \n",
       "1              -10.90           0.1860             328.0             23.30   \n",
       "2               -8.59           0.1400             328.0             30.60   \n",
       "\n",
       "   ...  S1_OutputCurrent  S1_OutputVoltage  S1_OutputPower  S1_SystemInertia  \\\n",
       "0  ...             329.0               0.0    6.960000e-07              12.0   \n",
       "1  ...             328.0               0.0   -5.270000e-07              12.0   \n",
       "2  ...             328.0               0.0    9.100000e-07              12.0   \n",
       "\n",
       "   M1_CURRENT_PROGRAM_NUMBER  M1_sequence_number  M1_CURRENT_FEEDRATE  \\\n",
       "0                        1.0                 0.0                 50.0   \n",
       "1                        1.0                 4.0                 50.0   \n",
       "2                        1.0                 7.0                 50.0   \n",
       "\n",
       "   Machining_Process  feedrate  clamp_pressure  \n",
       "0                  7         6             4.0  \n",
       "1                  7         6             4.0  \n",
       "2                  7         6             4.0  \n",
       "\n",
       "[3 rows x 50 columns]"
      ]
     },
     "execution_count": 5,
     "metadata": {},
     "output_type": "execute_result"
    }
   ],
   "source": [
    "import os\n",
    "path_parent = os.path.dirname(os.getcwd())\n",
    "saveFolder = os.path.join(path_parent, 'Topic 02-2 - CNC Data', 'Lecture', 'Data_CNC_Processed')\n",
    "print(saveFolder)\n",
    "#saveFolder = '..\\Topic 02 - Classification\\Data_CNC_Processed'\n",
    "filename = 'pred_machining_process'\n",
    "compression = 'gzip'\n",
    "df = pd.read_pickle(f'{saveFolder}/{filename}.pkl',compression=compression)\n",
    "df.head(3)"
   ]
  },
  {
   "cell_type": "markdown",
   "metadata": {},
   "source": [
    "# Transform X with variance selector"
   ]
  },
  {
   "cell_type": "code",
   "execution_count": 6,
   "metadata": {},
   "outputs": [
    {
     "name": "stdout",
     "output_type": "stream",
     "text": [
      "Chosen columns:\n",
      "------------------------------\n",
      "X1_ActualPosition, X1_ActualVelocity, X1_ActualAcceleration, X1_CommandPosition, X1_CommandVelocity, X1_CommandAcceleration, X1_CurrentFeedback, X1_DCBusVoltage, X1_OutputCurrent, X1_OutputVoltage, X1_OutputPower, Y1_ActualPosition, Y1_ActualVelocity, Y1_ActualAcceleration, Y1_CommandPosition, Y1_CommandVelocity, Y1_CommandAcceleration, Y1_CurrentFeedback, Y1_DCBusVoltage, Y1_OutputCurrent, Y1_OutputVoltage, Y1_OutputPower, Z1_ActualPosition, Z1_ActualVelocity, Z1_ActualAcceleration, Z1_CommandPosition, Z1_CommandVelocity, Z1_CommandAcceleration, S1_ActualPosition, S1_ActualVelocity, S1_ActualAcceleration, S1_CommandPosition, S1_CommandVelocity, S1_CommandAcceleration, S1_CurrentFeedback, S1_DCBusVoltage, S1_OutputCurrent, S1_OutputVoltage, S1_OutputPower, M1_CURRENT_PROGRAM_NUMBER, M1_sequence_number, M1_CURRENT_FEEDRATE, feedrate, clamp_pressure\n",
      "\n",
      "Removed columns:\n",
      "------------------------------\n",
      "Z1_CurrentFeedback, Z1_DCBusVoltage, Z1_OutputCurrent, Z1_OutputVoltage, S1_SystemInertia\n"
     ]
    },
    {
     "data": {
      "text/html": [
       "<div>\n",
       "<style scoped>\n",
       "    .dataframe tbody tr th:only-of-type {\n",
       "        vertical-align: middle;\n",
       "    }\n",
       "\n",
       "    .dataframe tbody tr th {\n",
       "        vertical-align: top;\n",
       "    }\n",
       "\n",
       "    .dataframe thead th {\n",
       "        text-align: right;\n",
       "    }\n",
       "</style>\n",
       "<table border=\"1\" class=\"dataframe\">\n",
       "  <thead>\n",
       "    <tr style=\"text-align: right;\">\n",
       "      <th></th>\n",
       "      <th>X1_ActualPosition</th>\n",
       "      <th>X1_ActualVelocity</th>\n",
       "      <th>X1_ActualAcceleration</th>\n",
       "      <th>X1_CommandPosition</th>\n",
       "      <th>X1_CommandVelocity</th>\n",
       "      <th>X1_CommandAcceleration</th>\n",
       "      <th>X1_CurrentFeedback</th>\n",
       "      <th>X1_DCBusVoltage</th>\n",
       "      <th>X1_OutputCurrent</th>\n",
       "      <th>X1_OutputVoltage</th>\n",
       "      <th>...</th>\n",
       "      <th>S1_CurrentFeedback</th>\n",
       "      <th>S1_DCBusVoltage</th>\n",
       "      <th>S1_OutputCurrent</th>\n",
       "      <th>S1_OutputVoltage</th>\n",
       "      <th>S1_OutputPower</th>\n",
       "      <th>M1_CURRENT_PROGRAM_NUMBER</th>\n",
       "      <th>M1_sequence_number</th>\n",
       "      <th>M1_CURRENT_FEEDRATE</th>\n",
       "      <th>feedrate</th>\n",
       "      <th>clamp_pressure</th>\n",
       "    </tr>\n",
       "  </thead>\n",
       "  <tbody>\n",
       "    <tr>\n",
       "      <th>0</th>\n",
       "      <td>198.0</td>\n",
       "      <td>0.0</td>\n",
       "      <td>0.00</td>\n",
       "      <td>198.0</td>\n",
       "      <td>0.0</td>\n",
       "      <td>0.000000</td>\n",
       "      <td>0.18</td>\n",
       "      <td>0.0207</td>\n",
       "      <td>329.0</td>\n",
       "      <td>2.77</td>\n",
       "      <td>...</td>\n",
       "      <td>0.524</td>\n",
       "      <td>2.740000e-19</td>\n",
       "      <td>329.0</td>\n",
       "      <td>0.0</td>\n",
       "      <td>6.960000e-07</td>\n",
       "      <td>1.0</td>\n",
       "      <td>0.0</td>\n",
       "      <td>50.0</td>\n",
       "      <td>6.0</td>\n",
       "      <td>4.0</td>\n",
       "    </tr>\n",
       "    <tr>\n",
       "      <th>1</th>\n",
       "      <td>198.0</td>\n",
       "      <td>-10.8</td>\n",
       "      <td>-350.00</td>\n",
       "      <td>198.0</td>\n",
       "      <td>-13.6</td>\n",
       "      <td>-358.000000</td>\n",
       "      <td>-10.90</td>\n",
       "      <td>0.1860</td>\n",
       "      <td>328.0</td>\n",
       "      <td>23.30</td>\n",
       "      <td>...</td>\n",
       "      <td>-0.288</td>\n",
       "      <td>2.740000e-19</td>\n",
       "      <td>328.0</td>\n",
       "      <td>0.0</td>\n",
       "      <td>-5.270000e-07</td>\n",
       "      <td>1.0</td>\n",
       "      <td>4.0</td>\n",
       "      <td>50.0</td>\n",
       "      <td>6.0</td>\n",
       "      <td>4.0</td>\n",
       "    </tr>\n",
       "    <tr>\n",
       "      <th>2</th>\n",
       "      <td>196.0</td>\n",
       "      <td>-17.8</td>\n",
       "      <td>-6.25</td>\n",
       "      <td>196.0</td>\n",
       "      <td>-17.9</td>\n",
       "      <td>-0.000095</td>\n",
       "      <td>-8.59</td>\n",
       "      <td>0.1400</td>\n",
       "      <td>328.0</td>\n",
       "      <td>30.60</td>\n",
       "      <td>...</td>\n",
       "      <td>0.524</td>\n",
       "      <td>2.740000e-19</td>\n",
       "      <td>328.0</td>\n",
       "      <td>0.0</td>\n",
       "      <td>9.100000e-07</td>\n",
       "      <td>1.0</td>\n",
       "      <td>7.0</td>\n",
       "      <td>50.0</td>\n",
       "      <td>6.0</td>\n",
       "      <td>4.0</td>\n",
       "    </tr>\n",
       "    <tr>\n",
       "      <th>3</th>\n",
       "      <td>194.0</td>\n",
       "      <td>-18.0</td>\n",
       "      <td>0.00</td>\n",
       "      <td>194.0</td>\n",
       "      <td>-17.9</td>\n",
       "      <td>-0.000095</td>\n",
       "      <td>-6.11</td>\n",
       "      <td>0.1300</td>\n",
       "      <td>327.0</td>\n",
       "      <td>30.30</td>\n",
       "      <td>...</td>\n",
       "      <td>-0.180</td>\n",
       "      <td>2.740000e-19</td>\n",
       "      <td>328.0</td>\n",
       "      <td>0.0</td>\n",
       "      <td>1.070000e-06</td>\n",
       "      <td>1.0</td>\n",
       "      <td>7.0</td>\n",
       "      <td>50.0</td>\n",
       "      <td>6.0</td>\n",
       "      <td>4.0</td>\n",
       "    </tr>\n",
       "    <tr>\n",
       "      <th>4</th>\n",
       "      <td>193.0</td>\n",
       "      <td>-17.9</td>\n",
       "      <td>-18.80</td>\n",
       "      <td>192.0</td>\n",
       "      <td>-17.9</td>\n",
       "      <td>0.000095</td>\n",
       "      <td>-5.70</td>\n",
       "      <td>0.1140</td>\n",
       "      <td>328.0</td>\n",
       "      <td>30.50</td>\n",
       "      <td>...</td>\n",
       "      <td>0.226</td>\n",
       "      <td>2.740000e-19</td>\n",
       "      <td>328.0</td>\n",
       "      <td>0.0</td>\n",
       "      <td>1.960000e-06</td>\n",
       "      <td>1.0</td>\n",
       "      <td>7.0</td>\n",
       "      <td>50.0</td>\n",
       "      <td>6.0</td>\n",
       "      <td>4.0</td>\n",
       "    </tr>\n",
       "  </tbody>\n",
       "</table>\n",
       "<p>5 rows × 44 columns</p>\n",
       "</div>"
      ],
      "text/plain": [
       "   X1_ActualPosition  X1_ActualVelocity  X1_ActualAcceleration  \\\n",
       "0              198.0                0.0                   0.00   \n",
       "1              198.0              -10.8                -350.00   \n",
       "2              196.0              -17.8                  -6.25   \n",
       "3              194.0              -18.0                   0.00   \n",
       "4              193.0              -17.9                 -18.80   \n",
       "\n",
       "   X1_CommandPosition  X1_CommandVelocity  X1_CommandAcceleration  \\\n",
       "0               198.0                 0.0                0.000000   \n",
       "1               198.0               -13.6             -358.000000   \n",
       "2               196.0               -17.9               -0.000095   \n",
       "3               194.0               -17.9               -0.000095   \n",
       "4               192.0               -17.9                0.000095   \n",
       "\n",
       "   X1_CurrentFeedback  X1_DCBusVoltage  X1_OutputCurrent  X1_OutputVoltage  \\\n",
       "0                0.18           0.0207             329.0              2.77   \n",
       "1              -10.90           0.1860             328.0             23.30   \n",
       "2               -8.59           0.1400             328.0             30.60   \n",
       "3               -6.11           0.1300             327.0             30.30   \n",
       "4               -5.70           0.1140             328.0             30.50   \n",
       "\n",
       "   ...  S1_CurrentFeedback  S1_DCBusVoltage  S1_OutputCurrent  \\\n",
       "0  ...               0.524     2.740000e-19             329.0   \n",
       "1  ...              -0.288     2.740000e-19             328.0   \n",
       "2  ...               0.524     2.740000e-19             328.0   \n",
       "3  ...              -0.180     2.740000e-19             328.0   \n",
       "4  ...               0.226     2.740000e-19             328.0   \n",
       "\n",
       "   S1_OutputVoltage  S1_OutputPower  M1_CURRENT_PROGRAM_NUMBER  \\\n",
       "0               0.0    6.960000e-07                        1.0   \n",
       "1               0.0   -5.270000e-07                        1.0   \n",
       "2               0.0    9.100000e-07                        1.0   \n",
       "3               0.0    1.070000e-06                        1.0   \n",
       "4               0.0    1.960000e-06                        1.0   \n",
       "\n",
       "   M1_sequence_number  M1_CURRENT_FEEDRATE  feedrate  clamp_pressure  \n",
       "0                 0.0                 50.0       6.0             4.0  \n",
       "1                 4.0                 50.0       6.0             4.0  \n",
       "2                 7.0                 50.0       6.0             4.0  \n",
       "3                 7.0                 50.0       6.0             4.0  \n",
       "4                 7.0                 50.0       6.0             4.0  \n",
       "\n",
       "[5 rows x 44 columns]"
      ]
     },
     "execution_count": 6,
     "metadata": {},
     "output_type": "execute_result"
    }
   ],
   "source": [
    "from sklearn.feature_selection import VarianceThreshold\n",
    "\n",
    "colsX = np.array([item for item in df.columns if item not in 'Machining_Process'])\n",
    "X = df[colsX].values\n",
    "y = df['Machining_Process'].values\n",
    "\n",
    "# Creating object\n",
    "sel = VarianceThreshold(threshold=0)\n",
    "\n",
    "# Fitting\n",
    "sel.fit(X)\n",
    "\n",
    "# Boolean\n",
    "sup = sel.get_support()\n",
    "cols_sel = colsX[sup]\n",
    "print(f'Chosen columns:')\n",
    "print('-'*30)\n",
    "print(*cols_sel, sep=', ')\n",
    "\n",
    "cols_rem = colsX[np.logical_not(sup)]\n",
    "print(f'\\nRemoved columns:')\n",
    "print('-'*30)\n",
    "print(*cols_rem, sep=', ')\n",
    "\n",
    "X = sel.transform(X)\n",
    "dfX = pd.DataFrame(data=X, columns=cols_sel)\n",
    "dfX.head()"
   ]
  },
  {
   "cell_type": "markdown",
   "metadata": {},
   "source": [
    "## Visualization"
   ]
  },
  {
   "cell_type": "code",
   "execution_count": 7,
   "metadata": {},
   "outputs": [],
   "source": [
    "X_std = StandardScaler().fit_transform(X)"
   ]
  },
  {
   "cell_type": "code",
   "execution_count": 8,
   "metadata": {},
   "outputs": [
    {
     "data": {
      "image/png": "[encoded data removed]",
      "text/plain": [
       "<Figure size 432x288 with 1 Axes>"
      ]
     },
     "metadata": {
      "needs_background": "light"
     },
     "output_type": "display_data"
    }
   ],
   "source": [
    "import seaborn as sns\n",
    "\n",
    "X_std_pca = PCA(n_components=2).fit_transform(X_std)\n",
    "\n",
    "n_cols = np.unique(y).shape[0]\n",
    "colors = np.array(sns.color_palette(n_colors=n_cols))\n",
    "markers=['.',',','o','v','^','<','>','1','2','3','4','8','s','p','P','*','h','H','+','x','X','D','d','|','_']\n",
    "markers = markers[:n_cols]\n",
    "\n",
    "fig, ax = plt.subplots()\n",
    "for l, c, m in zip(np.unique(y), colors, markers):\n",
    "    ax.scatter(X_std_pca[y == l, 0], X_std_pca[y == l, 1], color=c, label=l, marker=m)\n",
    "ax.set_xlabel(\"PC 1\")\n",
    "ax.set_ylabel(\"PC 2\")\n",
    "ax.legend(bbox_to_anchor=(1.04,1), loc=\"upper left\")\n",
    "plt.tight_layout()\n",
    "plt.show()"
   ]
  },
  {
   "cell_type": "code",
   "execution_count": 9,
   "metadata": {},
   "outputs": [
    {
     "data": {
      "image/png": "[encoded data removed]",
      "text/plain": [
       "<Figure size 432x288 with 1 Axes>"
      ]
     },
     "metadata": {
      "needs_background": "light"
     },
     "output_type": "display_data"
    }
   ],
   "source": [
    "X_std_lda = LDA(n_components=2).fit_transform(X_std, y)\n",
    "\n",
    "fig, ax = plt.subplots()\n",
    "for l, c, m in zip(np.unique(y), colors, markers):\n",
    "    ax.scatter(X_std_lda[y == l, 0], X_std_lda[y == l, 1], color=c, label=l, marker=m)\n",
    "ax.set_xlabel(\"Component 1\")\n",
    "ax.set_ylabel(\"Component 2\")\n",
    "ax.legend(bbox_to_anchor=(1.04,1), loc=\"upper left\")\n",
    "plt.tight_layout()\n",
    "plt.show()"
   ]
  },
  {
   "cell_type": "markdown",
   "metadata": {},
   "source": [
    "### Explained variance ratio"
   ]
  },
  {
   "cell_type": "code",
   "execution_count": 10,
   "metadata": {},
   "outputs": [
    {
     "data": {
      "image/png": "[encoded data removed]",
      "text/plain": [
       "<Figure size 432x288 with 1 Axes>"
      ]
     },
     "metadata": {
      "needs_background": "light"
     },
     "output_type": "display_data"
    }
   ],
   "source": [
    "pca = PCA(n_components=44).fit(X_std)\n",
    "\n",
    "plt.bar(range(1, pca.n_components+1), pca.explained_variance_ratio_, alpha=0.5, align='center')\n",
    "plt.step(range(1, pca.n_components+1), np.cumsum(pca.explained_variance_ratio_), where='mid')\n",
    "plt.ylabel('Explained variance ratio')\n",
    "plt.xlabel('Principal components')\n",
    "plt.show()"
   ]
  },
  {
   "cell_type": "code",
   "execution_count": 11,
   "metadata": {},
   "outputs": [
    {
     "data": {
      "image/png": "[encoded data removed]",
      "text/plain": [
       "<Figure size 432x288 with 1 Axes>"
      ]
     },
     "metadata": {
      "needs_background": "light"
     },
     "output_type": "display_data"
    }
   ],
   "source": [
    "lda = LDA(n_components=7).fit(X_std, y)\n",
    "\n",
    "plt.bar(range(1, 8), lda.explained_variance_ratio_, alpha=0.5, align='center')\n",
    "plt.step(range(1, 8), np.cumsum(lda.explained_variance_ratio_), where='mid')\n",
    "plt.ylabel('\"discriminability\" ratio')\n",
    "plt.xlabel('Linear Discriminants')\n",
    "plt.show()"
   ]
  },
  {
   "cell_type": "markdown",
   "metadata": {},
   "source": [
    "## Training with classifier"
   ]
  },
  {
   "cell_type": "code",
   "execution_count": 12,
   "metadata": {},
   "outputs": [],
   "source": [
    "from sklearn.linear_model import LogisticRegression as LR\n",
    "from sklearn.svm import SVC\n",
    "from sklearn.neighbors import KNeighborsClassifier as KNN\n",
    "from sklearn.tree import DecisionTreeClassifier as DT\n",
    "from sklearn.ensemble import RandomForestClassifier as RF\n",
    "\n",
    "paramSetAll = {\n",
    "    \"lr\": {\"clf\": LR, \"solver\": \"liblinear\", \"C\": 10000, \"max_iter\": 100},\n",
    "    \"knn\": {\"clf\":KNN, \"n_neighbors\": 5, \"p\": 1, \"algorithm\": \"auto\",},\n",
    "    \"dt\": {\"clf\":DT, \"criterion\": \"gini\", \"max_depth\": 100},\n",
    "    \"rf\": {\"clf\": RF,\n",
    "        \"criterion\": \"gini\",\n",
    "        \"n_estimators\": 50,\n",
    "        \"max_samples\": None,\n",
    "        \"max_features\": \"auto\",\n",
    "        \"max_depth\": None,\n",
    "    },\n",
    "}"
   ]
  },
  {
   "cell_type": "code",
   "execution_count": 13,
   "metadata": {},
   "outputs": [],
   "source": [
    "def training(X_train, y_train, X_test, y_test):\n",
    "\n",
    "    for name, paramsSet in paramSetAll.items():\n",
    "\n",
    "        clf = paramsSet['clf']\n",
    "        params = { k:v for k, v in paramsSet.items() if k != 'clf' }\n",
    "\n",
    "        #clf = LogisticRegression()\n",
    "        clf = clf(**params)\n",
    "\n",
    "        # Training\n",
    "        clf.fit(X_train, y_train)\n",
    "\n",
    "        # Accuracy scores\n",
    "        y_pred = clf.predict(X_train)\n",
    "        acc_train = accuracy_score(y_train, y_pred)\n",
    "\n",
    "        y_pred = clf.predict(X_test)\n",
    "        acc_test = accuracy_score(y_test, y_pred)\n",
    "\n",
    "        print(f'Classifier: {name:5s}, Train Acc: {acc_train:4.2f}, Test Acc: {acc_test:4.2f}')\n",
    "    print(f\"--------------------------------------------------\")"
   ]
  },
  {
   "cell_type": "code",
   "execution_count": 14,
   "metadata": {},
   "outputs": [
    {
     "name": "stdout",
     "output_type": "stream",
     "text": [
      "(17700, 44)\n"
     ]
    }
   ],
   "source": [
    "# Split\n",
    "X_train, X_test, y_train, y_test = train_test_split(X, y, test_size=0.3, random_state=0, stratify=y)\n",
    "\n",
    "# Standardize\n",
    "stdsc = StandardScaler()\n",
    "X_train_std = stdsc.fit_transform(X_train)\n",
    "X_test_std = stdsc.transform(X_test)\n",
    "print(X_train_std.shape)"
   ]
  },
  {
   "cell_type": "code",
   "execution_count": 15,
   "metadata": {},
   "outputs": [
    {
     "name": "stdout",
     "output_type": "stream",
     "text": [
      "Classifier: lr   , Train Acc: 0.20, Test Acc: 0.19\n",
      "Classifier: knn  , Train Acc: 0.66, Test Acc: 0.45\n",
      "Classifier: dt   , Train Acc: 1.00, Test Acc: 0.63\n",
      "Classifier: rf   , Train Acc: 1.00, Test Acc: 0.69\n",
      "--------------------------------------------------\n"
     ]
    }
   ],
   "source": [
    "# No transformation\n",
    "training(X_train_std, y_train, X_test_std, y_test)"
   ]
  },
  {
   "cell_type": "code",
   "execution_count": 16,
   "metadata": {},
   "outputs": [
    {
     "name": "stdout",
     "output_type": "stream",
     "text": [
      "Number of components: 15\n",
      "Classifier: lr   , Train Acc: 0.17, Test Acc: 0.17\n",
      "Classifier: knn  , Train Acc: 0.57, Test Acc: 0.34\n",
      "Classifier: dt   , Train Acc: 1.00, Test Acc: 0.29\n",
      "Classifier: rf   , Train Acc: 1.00, Test Acc: 0.38\n",
      "--------------------------------------------------\n",
      "Number of components: 20\n",
      "Classifier: lr   , Train Acc: 0.18, Test Acc: 0.18\n",
      "Classifier: knn  , Train Acc: 0.59, Test Acc: 0.37\n",
      "Classifier: dt   , Train Acc: 1.00, Test Acc: 0.30\n",
      "Classifier: rf   , Train Acc: 1.00, Test Acc: 0.40\n",
      "--------------------------------------------------\n",
      "Number of components: 25\n",
      "Classifier: lr   , Train Acc: 0.20, Test Acc: 0.20\n",
      "Classifier: knn  , Train Acc: 0.59, Test Acc: 0.38\n",
      "Classifier: dt   , Train Acc: 1.00, Test Acc: 0.30\n",
      "Classifier: rf   , Train Acc: 1.00, Test Acc: 0.41\n",
      "--------------------------------------------------\n",
      "Number of components: 30\n",
      "Classifier: lr   , Train Acc: 0.20, Test Acc: 0.19\n",
      "Classifier: knn  , Train Acc: 0.60, Test Acc: 0.39\n",
      "Classifier: dt   , Train Acc: 1.00, Test Acc: 0.30\n",
      "Classifier: rf   , Train Acc: 1.00, Test Acc: 0.41\n",
      "--------------------------------------------------\n"
     ]
    }
   ],
   "source": [
    "for n_components in [15, 20, 25, 30]:\n",
    "    print(f'Number of components: {n_components}')\n",
    "    pca = PCA(n_components=n_components)\n",
    "    X_train_std_trans = pca.fit_transform(X_train_std)\n",
    "    X_test_std_trans = pca.transform(X_test_std)\n",
    "    training(X_train_std_trans, y_train, X_test_std_trans, y_test)"
   ]
  },
  {
   "cell_type": "code",
   "execution_count": 17,
   "metadata": {},
   "outputs": [
    {
     "name": "stdout",
     "output_type": "stream",
     "text": [
      "Number of components: 2\n",
      "Classifier: lr   , Train Acc: 0.18, Test Acc: 0.18\n",
      "Classifier: knn  , Train Acc: 0.42, Test Acc: 0.16\n",
      "Classifier: dt   , Train Acc: 1.00, Test Acc: 0.16\n",
      "Classifier: rf   , Train Acc: 1.00, Test Acc: 0.17\n",
      "--------------------------------------------------\n",
      "Number of components: 3\n",
      "Classifier: lr   , Train Acc: 0.18, Test Acc: 0.18\n",
      "Classifier: knn  , Train Acc: 0.43, Test Acc: 0.19\n",
      "Classifier: dt   , Train Acc: 1.00, Test Acc: 0.18\n",
      "Classifier: rf   , Train Acc: 1.00, Test Acc: 0.19\n",
      "--------------------------------------------------\n",
      "Number of components: 4\n",
      "Classifier: lr   , Train Acc: 0.19, Test Acc: 0.19\n",
      "Classifier: knn  , Train Acc: 0.45, Test Acc: 0.20\n",
      "Classifier: dt   , Train Acc: 1.00, Test Acc: 0.19\n",
      "Classifier: rf   , Train Acc: 1.00, Test Acc: 0.22\n",
      "--------------------------------------------------\n",
      "Number of components: 5\n",
      "Classifier: lr   , Train Acc: 0.19, Test Acc: 0.20\n",
      "Classifier: knn  , Train Acc: 0.48, Test Acc: 0.23\n",
      "Classifier: dt   , Train Acc: 1.00, Test Acc: 0.20\n",
      "Classifier: rf   , Train Acc: 1.00, Test Acc: 0.24\n",
      "--------------------------------------------------\n",
      "Number of components: 6\n",
      "Classifier: lr   , Train Acc: 0.20, Test Acc: 0.19\n",
      "Classifier: knn  , Train Acc: 0.49, Test Acc: 0.25\n",
      "Classifier: dt   , Train Acc: 1.00, Test Acc: 0.21\n",
      "Classifier: rf   , Train Acc: 1.00, Test Acc: 0.26\n",
      "--------------------------------------------------\n",
      "Number of components: 7\n",
      "Classifier: lr   , Train Acc: 0.20, Test Acc: 0.19\n",
      "Classifier: knn  , Train Acc: 0.50, Test Acc: 0.26\n",
      "Classifier: dt   , Train Acc: 1.00, Test Acc: 0.21\n",
      "Classifier: rf   , Train Acc: 1.00, Test Acc: 0.28\n",
      "--------------------------------------------------\n"
     ]
    }
   ],
   "source": [
    "for n_components in range(2,8):\n",
    "    print(f'Number of components: {n_components}')\n",
    "    lda = LDA(n_components=n_components)\n",
    "    X_train_std_trans = lda.fit_transform(X_train_std, y_train)\n",
    "    X_test_std_trans = lda.transform(X_test_std)\n",
    "    training(X_train_std_trans, y_train, X_test_std_trans, y_test)"
   ]
  },
  {
   "cell_type": "markdown",
   "metadata": {},
   "source": [
    "### Discussion for worse accuracy\n",
    "- I think that to be fair I should re optimize the parameters for the dimensional reduction case.\n",
    "- Also, maybe the data is not too bad at the beginning.\n",
    "- Sometime, the data is too big to calculate and PCA is necessary."
   ]
  },
  {
   "cell_type": "markdown",
   "metadata": {},
   "source": []
  }
 ],
 "metadata": {
  "kernelspec": {
   "display_name": "Python 3.9.7 ('base')",
   "language": "python",
   "name": "python3"
  },
  "language_info": {
   "codemirror_mode": {
    "name": "ipython",
    "version": 3
   },
   "file_extension": ".py",
   "mimetype": "text/x-python",
   "name": "python",
   "nbconvert_exporter": "python",
   "pygments_lexer": "ipython3",
   "version": "3.9.7"
  },
  "orig_nbformat": 4,
  "vscode": {
   "interpreter": {
    "hash": "79088bb772545dc9740b3f6fd02f1fa74686ae15b783fc1c2abf8492adb1c7fb"
   }
  }
 },
 "nbformat": 4,
 "nbformat_minor": 2
}
