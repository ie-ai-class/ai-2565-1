{
 "metadata": {
  "language_info": {
   "codemirror_mode": {
    "name": "ipython",
    "version": 3
   },
   "file_extension": ".py",
   "mimetype": "text/x-python",
   "name": "python",
   "nbconvert_exporter": "python",
   "pygments_lexer": "ipython3",
   "version": "3.8.8"
  },
  "orig_nbformat": 4,
  "kernelspec": {
   "name": "python3",
   "display_name": "Python 3.8.8 64-bit ('base': conda)"
  },
  "interpreter": {
   "hash": "be725e0de8fb3f5fda9b0118bdf797fa9814e28e467c1cce77c5b9910d8a1786"
  }
 },
 "nbformat": 4,
 "nbformat_minor": 2,
 "cells": [
  {
   "cell_type": "markdown",
   "source": [
    "# Breast Cancer\r\n",
    "- https://www.kaggle.com/shasun/tool-wear-detection-in-cnc-mill\r\n",
    "- Predict \"Machining_Process\""
   ],
   "metadata": {}
  },
  {
   "cell_type": "markdown",
   "source": [
    "## Setup"
   ],
   "metadata": {}
  },
  {
   "cell_type": "code",
   "execution_count": 10,
   "source": [
    "from sklearn.model_selection import train_test_split\r\n",
    "from sklearn.preprocessing import StandardScaler\r\n",
    "from sklearn.linear_model import LogisticRegression\r\n",
    "from sklearn.neighbors import KNeighborsClassifier\r\n",
    "import matplotlib.pyplot as plt\r\n",
    "import numpy as np\r\n",
    "from sklearn.ensemble import RandomForestClassifier\r\n",
    "from sklearn.datasets import load_breast_cancer\r\n",
    "import pandas as pd\r\n",
    "from sklearn.metrics import accuracy_score\r\n",
    "from sklearn.decomposition import PCA\r\n",
    "from sklearn.discriminant_analysis import LinearDiscriminantAnalysis as LDA"
   ],
   "outputs": [],
   "metadata": {}
  },
  {
   "cell_type": "markdown",
   "source": [
    "# Transform X with variance selector"
   ],
   "metadata": {}
  },
  {
   "cell_type": "code",
   "execution_count": 11,
   "source": [
    "from sklearn.feature_selection import VarianceThreshold\r\n",
    "\r\n",
    "dataObj = load_breast_cancer()\r\n",
    "X = dataObj.data\r\n",
    "y = dataObj.target\r\n",
    "colsX = dataObj.feature_names\r\n",
    "\r\n",
    "# Creating object\r\n",
    "sel = VarianceThreshold(threshold=0)\r\n",
    "\r\n",
    "# Fitting\r\n",
    "sel.fit(X)\r\n",
    "\r\n",
    "# Boolean\r\n",
    "sup = sel.get_support()\r\n",
    "cols_sel = colsX[sup]\r\n",
    "print(f'Chosen columns:')\r\n",
    "print('-'*30)\r\n",
    "print(*cols_sel, sep=', ')\r\n",
    "\r\n",
    "cols_rem = colsX[np.logical_not(sup)]\r\n",
    "print(f'\\nRemoved columns:')\r\n",
    "print('-'*30)\r\n",
    "print(*cols_rem, sep=', ')\r\n",
    "\r\n",
    "X = sel.transform(X)\r\n",
    "dfX = pd.DataFrame(data=X, columns=cols_sel)\r\n",
    "display(dfX.head())\r\n",
    "\r\n",
    "# Initialize dictionary to store selector\r\n",
    "sel = {}"
   ],
   "outputs": [
    {
     "output_type": "stream",
     "name": "stdout",
     "text": [
      "Chosen columns:\n",
      "------------------------------\n",
      "mean radius, mean texture, mean perimeter, mean area, mean smoothness, mean compactness, mean concavity, mean concave points, mean symmetry, mean fractal dimension, radius error, texture error, perimeter error, area error, smoothness error, compactness error, concavity error, concave points error, symmetry error, fractal dimension error, worst radius, worst texture, worst perimeter, worst area, worst smoothness, worst compactness, worst concavity, worst concave points, worst symmetry, worst fractal dimension\n",
      "\n",
      "Removed columns:\n",
      "------------------------------\n",
      "\n"
     ]
    },
    {
     "output_type": "display_data",
     "data": {
      "text/html": [
       "<div>\n",
       "<style scoped>\n",
       "    .dataframe tbody tr th:only-of-type {\n",
       "        vertical-align: middle;\n",
       "    }\n",
       "\n",
       "    .dataframe tbody tr th {\n",
       "        vertical-align: top;\n",
       "    }\n",
       "\n",
       "    .dataframe thead th {\n",
       "        text-align: right;\n",
       "    }\n",
       "</style>\n",
       "<table border=\"1\" class=\"dataframe\">\n",
       "  <thead>\n",
       "    <tr style=\"text-align: right;\">\n",
       "      <th></th>\n",
       "      <th>mean radius</th>\n",
       "      <th>mean texture</th>\n",
       "      <th>mean perimeter</th>\n",
       "      <th>mean area</th>\n",
       "      <th>mean smoothness</th>\n",
       "      <th>mean compactness</th>\n",
       "      <th>mean concavity</th>\n",
       "      <th>mean concave points</th>\n",
       "      <th>mean symmetry</th>\n",
       "      <th>mean fractal dimension</th>\n",
       "      <th>...</th>\n",
       "      <th>worst radius</th>\n",
       "      <th>worst texture</th>\n",
       "      <th>worst perimeter</th>\n",
       "      <th>worst area</th>\n",
       "      <th>worst smoothness</th>\n",
       "      <th>worst compactness</th>\n",
       "      <th>worst concavity</th>\n",
       "      <th>worst concave points</th>\n",
       "      <th>worst symmetry</th>\n",
       "      <th>worst fractal dimension</th>\n",
       "    </tr>\n",
       "  </thead>\n",
       "  <tbody>\n",
       "    <tr>\n",
       "      <th>0</th>\n",
       "      <td>17.99</td>\n",
       "      <td>10.38</td>\n",
       "      <td>122.80</td>\n",
       "      <td>1001.0</td>\n",
       "      <td>0.11840</td>\n",
       "      <td>0.27760</td>\n",
       "      <td>0.3001</td>\n",
       "      <td>0.14710</td>\n",
       "      <td>0.2419</td>\n",
       "      <td>0.07871</td>\n",
       "      <td>...</td>\n",
       "      <td>25.38</td>\n",
       "      <td>17.33</td>\n",
       "      <td>184.60</td>\n",
       "      <td>2019.0</td>\n",
       "      <td>0.1622</td>\n",
       "      <td>0.6656</td>\n",
       "      <td>0.7119</td>\n",
       "      <td>0.2654</td>\n",
       "      <td>0.4601</td>\n",
       "      <td>0.11890</td>\n",
       "    </tr>\n",
       "    <tr>\n",
       "      <th>1</th>\n",
       "      <td>20.57</td>\n",
       "      <td>17.77</td>\n",
       "      <td>132.90</td>\n",
       "      <td>1326.0</td>\n",
       "      <td>0.08474</td>\n",
       "      <td>0.07864</td>\n",
       "      <td>0.0869</td>\n",
       "      <td>0.07017</td>\n",
       "      <td>0.1812</td>\n",
       "      <td>0.05667</td>\n",
       "      <td>...</td>\n",
       "      <td>24.99</td>\n",
       "      <td>23.41</td>\n",
       "      <td>158.80</td>\n",
       "      <td>1956.0</td>\n",
       "      <td>0.1238</td>\n",
       "      <td>0.1866</td>\n",
       "      <td>0.2416</td>\n",
       "      <td>0.1860</td>\n",
       "      <td>0.2750</td>\n",
       "      <td>0.08902</td>\n",
       "    </tr>\n",
       "    <tr>\n",
       "      <th>2</th>\n",
       "      <td>19.69</td>\n",
       "      <td>21.25</td>\n",
       "      <td>130.00</td>\n",
       "      <td>1203.0</td>\n",
       "      <td>0.10960</td>\n",
       "      <td>0.15990</td>\n",
       "      <td>0.1974</td>\n",
       "      <td>0.12790</td>\n",
       "      <td>0.2069</td>\n",
       "      <td>0.05999</td>\n",
       "      <td>...</td>\n",
       "      <td>23.57</td>\n",
       "      <td>25.53</td>\n",
       "      <td>152.50</td>\n",
       "      <td>1709.0</td>\n",
       "      <td>0.1444</td>\n",
       "      <td>0.4245</td>\n",
       "      <td>0.4504</td>\n",
       "      <td>0.2430</td>\n",
       "      <td>0.3613</td>\n",
       "      <td>0.08758</td>\n",
       "    </tr>\n",
       "    <tr>\n",
       "      <th>3</th>\n",
       "      <td>11.42</td>\n",
       "      <td>20.38</td>\n",
       "      <td>77.58</td>\n",
       "      <td>386.1</td>\n",
       "      <td>0.14250</td>\n",
       "      <td>0.28390</td>\n",
       "      <td>0.2414</td>\n",
       "      <td>0.10520</td>\n",
       "      <td>0.2597</td>\n",
       "      <td>0.09744</td>\n",
       "      <td>...</td>\n",
       "      <td>14.91</td>\n",
       "      <td>26.50</td>\n",
       "      <td>98.87</td>\n",
       "      <td>567.7</td>\n",
       "      <td>0.2098</td>\n",
       "      <td>0.8663</td>\n",
       "      <td>0.6869</td>\n",
       "      <td>0.2575</td>\n",
       "      <td>0.6638</td>\n",
       "      <td>0.17300</td>\n",
       "    </tr>\n",
       "    <tr>\n",
       "      <th>4</th>\n",
       "      <td>20.29</td>\n",
       "      <td>14.34</td>\n",
       "      <td>135.10</td>\n",
       "      <td>1297.0</td>\n",
       "      <td>0.10030</td>\n",
       "      <td>0.13280</td>\n",
       "      <td>0.1980</td>\n",
       "      <td>0.10430</td>\n",
       "      <td>0.1809</td>\n",
       "      <td>0.05883</td>\n",
       "      <td>...</td>\n",
       "      <td>22.54</td>\n",
       "      <td>16.67</td>\n",
       "      <td>152.20</td>\n",
       "      <td>1575.0</td>\n",
       "      <td>0.1374</td>\n",
       "      <td>0.2050</td>\n",
       "      <td>0.4000</td>\n",
       "      <td>0.1625</td>\n",
       "      <td>0.2364</td>\n",
       "      <td>0.07678</td>\n",
       "    </tr>\n",
       "  </tbody>\n",
       "</table>\n",
       "<p>5 rows × 30 columns</p>\n",
       "</div>"
      ],
      "text/plain": [
       "   mean radius  mean texture  mean perimeter  mean area  mean smoothness  \\\n",
       "0        17.99         10.38          122.80     1001.0          0.11840   \n",
       "1        20.57         17.77          132.90     1326.0          0.08474   \n",
       "2        19.69         21.25          130.00     1203.0          0.10960   \n",
       "3        11.42         20.38           77.58      386.1          0.14250   \n",
       "4        20.29         14.34          135.10     1297.0          0.10030   \n",
       "\n",
       "   mean compactness  mean concavity  mean concave points  mean symmetry  \\\n",
       "0           0.27760          0.3001              0.14710         0.2419   \n",
       "1           0.07864          0.0869              0.07017         0.1812   \n",
       "2           0.15990          0.1974              0.12790         0.2069   \n",
       "3           0.28390          0.2414              0.10520         0.2597   \n",
       "4           0.13280          0.1980              0.10430         0.1809   \n",
       "\n",
       "   mean fractal dimension  ...  worst radius  worst texture  worst perimeter  \\\n",
       "0                 0.07871  ...         25.38          17.33           184.60   \n",
       "1                 0.05667  ...         24.99          23.41           158.80   \n",
       "2                 0.05999  ...         23.57          25.53           152.50   \n",
       "3                 0.09744  ...         14.91          26.50            98.87   \n",
       "4                 0.05883  ...         22.54          16.67           152.20   \n",
       "\n",
       "   worst area  worst smoothness  worst compactness  worst concavity  \\\n",
       "0      2019.0            0.1622             0.6656           0.7119   \n",
       "1      1956.0            0.1238             0.1866           0.2416   \n",
       "2      1709.0            0.1444             0.4245           0.4504   \n",
       "3       567.7            0.2098             0.8663           0.6869   \n",
       "4      1575.0            0.1374             0.2050           0.4000   \n",
       "\n",
       "   worst concave points  worst symmetry  worst fractal dimension  \n",
       "0                0.2654          0.4601                  0.11890  \n",
       "1                0.1860          0.2750                  0.08902  \n",
       "2                0.2430          0.3613                  0.08758  \n",
       "3                0.2575          0.6638                  0.17300  \n",
       "4                0.1625          0.2364                  0.07678  \n",
       "\n",
       "[5 rows x 30 columns]"
      ]
     },
     "metadata": {}
    }
   ],
   "metadata": {}
  },
  {
   "cell_type": "code",
   "execution_count": 12,
   "source": [
    "X_std = StandardScaler().fit_transform(X)"
   ],
   "outputs": [],
   "metadata": {}
  },
  {
   "cell_type": "code",
   "execution_count": 13,
   "source": [
    "import seaborn as sns\r\n",
    "\r\n",
    "X_std_pca = PCA(n_components=2).fit_transform(X_std)\r\n",
    "\r\n",
    "n_cols = np.unique(y).shape[0]\r\n",
    "colors = np.array(sns.color_palette(n_colors=n_cols))\r\n",
    "markers=['.',',','o','v','^','<','>','1','2','3','4','8','s','p','P','*','h','H','+','x','X','D','d','|','_']\r\n",
    "markers = markers[:n_cols]\r\n",
    "\r\n",
    "fig, ax = plt.subplots()\r\n",
    "for l, c, m in zip(np.unique(y), colors, markers):\r\n",
    "    ax.scatter(X_std_pca[y == l, 0], X_std_pca[y == l, 1], color=c, label=l, marker=m)\r\n",
    "ax.set_xlabel(\"PC 1\")\r\n",
    "ax.set_ylabel(\"PC 2\")\r\n",
    "ax.legend(bbox_to_anchor=(1.04,1), loc=\"upper left\")\r\n",
    "plt.tight_layout()\r\n",
    "plt.show()"
   ],
   "outputs": [
    {
     "output_type": "display_data",
     "data": {
      "image/png": "[encoded data removed]",
      "text/plain": [
       "<Figure size 432x288 with 1 Axes>"
      ]
     },
     "metadata": {
      "needs_background": "light"
     }
    }
   ],
   "metadata": {}
  },
  {
   "cell_type": "code",
   "execution_count": 17,
   "source": [
    "pca = PCA(n_components=30).fit(X_std)\r\n",
    "\r\n",
    "plt.bar(range(1, pca.n_components+1), pca.explained_variance_ratio_, alpha=0.5, align='center')\r\n",
    "plt.step(range(1, pca.n_components+1), np.cumsum(pca.explained_variance_ratio_), where='mid')\r\n",
    "plt.ylabel('Explained variance ratio')\r\n",
    "plt.xlabel('Principal components')\r\n",
    "plt.show()"
   ],
   "outputs": [
    {
     "output_type": "display_data",
     "data": {
      "image/png": "[encoded data removed]",
      "text/plain": [
       "<Figure size 432x288 with 1 Axes>"
      ]
     },
     "metadata": {
      "needs_background": "light"
     }
    }
   ],
   "metadata": {}
  },
  {
   "cell_type": "code",
   "execution_count": 18,
   "source": [
    "from sklearn.linear_model import LogisticRegression as LR\r\n",
    "from sklearn.svm import SVC\r\n",
    "from sklearn.neighbors import KNeighborsClassifier as KNN\r\n",
    "from sklearn.tree import DecisionTreeClassifier as DT\r\n",
    "from sklearn.ensemble import RandomForestClassifier as RF\r\n",
    "\r\n",
    "paramSetAll = {\r\n",
    "    \"lr\": {\"clf\": LR, \"solver\": \"liblinear\", \"C\": 10000, \"max_iter\": 100},\r\n",
    "    \"knn\": {\"clf\":KNN, \"n_neighbors\": 5, \"p\": 1, \"algorithm\": \"auto\",},\r\n",
    "    \"dt\": {\"clf\":DT, \"criterion\": \"gini\", \"max_depth\": 100},\r\n",
    "    \"rf\": {\"clf\": RF,\r\n",
    "        \"criterion\": \"gini\",\r\n",
    "        \"n_estimators\": 50,\r\n",
    "        \"max_samples\": None,\r\n",
    "        \"max_features\": \"auto\",\r\n",
    "        \"max_depth\": None,\r\n",
    "    },\r\n",
    "}"
   ],
   "outputs": [],
   "metadata": {}
  },
  {
   "cell_type": "code",
   "execution_count": 19,
   "source": [
    "def training(X_train, y_train, X_test, y_test):\r\n",
    "\r\n",
    "    for name, paramsSet in paramSetAll.items():\r\n",
    "\r\n",
    "        clf = paramsSet['clf']\r\n",
    "        params = { k:v for k, v in paramsSet.items() if k != 'clf' }\r\n",
    "\r\n",
    "        #clf = LogisticRegression()\r\n",
    "        clf = clf(**params)\r\n",
    "\r\n",
    "        # Training\r\n",
    "        clf.fit(X_train, y_train)\r\n",
    "\r\n",
    "        # Accuracy scores\r\n",
    "        y_pred = clf.predict(X_train)\r\n",
    "        acc_train = accuracy_score(y_train, y_pred)\r\n",
    "\r\n",
    "        y_pred = clf.predict(X_test)\r\n",
    "        acc_test = accuracy_score(y_test, y_pred)\r\n",
    "\r\n",
    "        print(f'Classifier: {name:5s}, Train Acc: {acc_train:4.2f}, Test Acc: {acc_test:4.2f}')\r\n",
    "    print(f\"--------------------------------------------------\")"
   ],
   "outputs": [],
   "metadata": {}
  },
  {
   "cell_type": "code",
   "execution_count": 20,
   "source": [
    "# Split\r\n",
    "X_train, X_test, y_train, y_test = train_test_split(X, y, test_size=0.3, random_state=0, stratify=y)\r\n",
    "\r\n",
    "# Standardize\r\n",
    "stdsc = StandardScaler()\r\n",
    "X_train_std = stdsc.fit_transform(X_train)\r\n",
    "X_test_std = stdsc.transform(X_test)\r\n",
    "print(X_train_std.shape)"
   ],
   "outputs": [
    {
     "output_type": "stream",
     "name": "stdout",
     "text": [
      "(398, 30)\n"
     ]
    }
   ],
   "metadata": {}
  },
  {
   "cell_type": "code",
   "execution_count": 21,
   "source": [
    "# No transformation\r\n",
    "training(X_train_std, y_train, X_test_std, y_test)"
   ],
   "outputs": [
    {
     "output_type": "stream",
     "name": "stdout",
     "text": [
      "Classifier: lr   , Train Acc: 1.00, Test Acc: 0.94\n",
      "Classifier: knn  , Train Acc: 0.98, Test Acc: 0.95\n",
      "Classifier: dt   , Train Acc: 1.00, Test Acc: 0.91\n",
      "Classifier: rf   , Train Acc: 1.00, Test Acc: 0.95\n",
      "--------------------------------------------------\n"
     ]
    }
   ],
   "metadata": {}
  },
  {
   "cell_type": "code",
   "execution_count": 22,
   "source": [
    "for n_components in [15, 20, 25, 30]:\r\n",
    "    print(f'Number of components: {n_components}')\r\n",
    "    pca = PCA(n_components=n_components)\r\n",
    "    X_train_std_trans = pca.fit_transform(X_train_std)\r\n",
    "    X_test_std_trans = pca.transform(X_test_std)\r\n",
    "    training(X_train_std_trans, y_train, X_test_std_trans, y_test)"
   ],
   "outputs": [
    {
     "output_type": "stream",
     "name": "stdout",
     "text": [
      "Number of components: 15\n",
      "Classifier: lr   , Train Acc: 0.99, Test Acc: 0.94\n",
      "Classifier: knn  , Train Acc: 0.99, Test Acc: 0.95\n",
      "Classifier: dt   , Train Acc: 1.00, Test Acc: 0.91\n",
      "Classifier: rf   , Train Acc: 1.00, Test Acc: 0.92\n",
      "--------------------------------------------------\n",
      "Number of components: 20\n",
      "Classifier: lr   , Train Acc: 0.99, Test Acc: 0.92\n",
      "Classifier: knn  , Train Acc: 0.99, Test Acc: 0.95\n",
      "Classifier: dt   , Train Acc: 1.00, Test Acc: 0.91\n",
      "Classifier: rf   , Train Acc: 1.00, Test Acc: 0.94\n",
      "--------------------------------------------------\n",
      "Number of components: 25\n",
      "Classifier: lr   , Train Acc: 1.00, Test Acc: 0.94\n",
      "Classifier: knn  , Train Acc: 0.98, Test Acc: 0.94\n",
      "Classifier: dt   , Train Acc: 1.00, Test Acc: 0.94\n",
      "Classifier: rf   , Train Acc: 1.00, Test Acc: 0.93\n",
      "--------------------------------------------------\n",
      "Number of components: 30\n",
      "Classifier: lr   , Train Acc: 1.00, Test Acc: 0.94\n",
      "Classifier: knn  , Train Acc: 0.98, Test Acc: 0.95\n",
      "Classifier: dt   , Train Acc: 1.00, Test Acc: 0.93\n",
      "Classifier: rf   , Train Acc: 1.00, Test Acc: 0.92\n",
      "--------------------------------------------------\n"
     ]
    }
   ],
   "metadata": {}
  },
  {
   "cell_type": "code",
   "execution_count": 23,
   "source": [
    "lda = LDA(n_components=1)\r\n",
    "X_train_std_trans = lda.fit_transform(X_train_std, y_train)\r\n",
    "X_test_std_trans = lda.transform(X_test_std)\r\n",
    "training(X_train_std_trans, y_train, X_test_std_trans, y_test)"
   ],
   "outputs": [
    {
     "output_type": "stream",
     "name": "stdout",
     "text": [
      "Classifier: lr   , Train Acc: 0.99, Test Acc: 0.95\n",
      "Classifier: knn  , Train Acc: 0.99, Test Acc: 0.95\n",
      "Classifier: dt   , Train Acc: 1.00, Test Acc: 0.95\n",
      "Classifier: rf   , Train Acc: 1.00, Test Acc: 0.95\n",
      "--------------------------------------------------\n"
     ]
    }
   ],
   "metadata": {}
  }
 ]
}