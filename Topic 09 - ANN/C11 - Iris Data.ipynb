{
 "cells": [
  {
   "cell_type": "markdown",
   "metadata": {},
   "source": [
    "# Iris dataset"
   ]
  },
  {
   "cell_type": "code",
   "execution_count": 1,
   "metadata": {},
   "outputs": [],
   "source": [
    "import tensorflow as tf\n",
    "from sklearn import datasets\n",
    "from sklearn.model_selection import train_test_split\n",
    "from sklearn.preprocessing import StandardScaler\n",
    "import matplotlib.pyplot as plt"
   ]
  },
  {
   "cell_type": "code",
   "execution_count": 2,
   "metadata": {},
   "outputs": [],
   "source": [
    "# Read data\n",
    "iris = datasets.load_iris()\n",
    "\n",
    "X = iris.data\n",
    "y = iris.target\n",
    "# Split data into training and testing data\n",
    "X_train, X_test, y_train, y_test = train_test_split(\n",
    "    X, y, test_size=0.3, random_state=1, stratify=y\n",
    ")\n",
    "# Standardization\n",
    "sc = StandardScaler()\n",
    "sc.fit(X_train)\n",
    "#X_train_std = sc.transform(X_train)\n",
    "#X_test_std = sc.transform(X_test)\n",
    "\n",
    "X_train_std = X_train\n",
    "X_test_std = X_test"
   ]
  },
  {
   "cell_type": "code",
   "execution_count": 3,
   "metadata": {},
   "outputs": [
    {
     "name": "stdout",
     "output_type": "stream",
     "text": [
      "Model: \"sequential\"\n",
      "_________________________________________________________________\n",
      "Layer (type)                 Output Shape              Param #   \n",
      "=================================================================\n",
      "hidden1 (Dense)              (None, 16)                80        \n",
      "_________________________________________________________________\n",
      "output (Dense)               (None, 3)                 51        \n",
      "=================================================================\n",
      "Total params: 131\n",
      "Trainable params: 131\n",
      "Non-trainable params: 0\n",
      "_________________________________________________________________\n"
     ]
    }
   ],
   "source": [
    "tf.keras.backend.clear_session()\n",
    "\n",
    "model = tf.keras.Sequential([\n",
    "    tf.keras.layers.InputLayer(input_shape=(4,)),\n",
    "    tf.keras.layers.Dense(units=16, activation='sigmoid', name='hidden1'),\n",
    "    tf.keras.layers.Dense(units=3, name='output', activation='softmax')\n",
    "    ])\n",
    "\n",
    "model.summary()\n",
    "\n",
    "model.compile(\n",
    "    optimizer='adam',\n",
    "    loss='sparse_categorical_crossentropy',\n",
    "    metrics=['accuracy'])"
   ]
  },
  {
   "cell_type": "code",
   "execution_count": 4,
   "metadata": {},
   "outputs": [
    {
     "name": "stdout",
     "output_type": "stream",
     "text": [
      "Epoch 1/100\n",
      "6/6 [==============================] - 0s 24ms/step - loss: 1.5741 - accuracy: 0.3404 - val_loss: 1.6363 - val_accuracy: 0.2727\n",
      "Epoch 2/100\n",
      "6/6 [==============================] - 0s 7ms/step - loss: 1.5052 - accuracy: 0.3404 - val_loss: 1.5716 - val_accuracy: 0.2727\n",
      "Epoch 3/100\n",
      "6/6 [==============================] - 0s 7ms/step - loss: 1.4414 - accuracy: 0.3404 - val_loss: 1.5127 - val_accuracy: 0.2727\n",
      "Epoch 4/100\n",
      "6/6 [==============================] - 0s 7ms/step - loss: 1.3818 - accuracy: 0.3404 - val_loss: 1.4635 - val_accuracy: 0.2727\n",
      "Epoch 5/100\n",
      "6/6 [==============================] - 0s 4ms/step - loss: 1.3305 - accuracy: 0.3404 - val_loss: 1.4178 - val_accuracy: 0.2727\n",
      "Epoch 6/100\n",
      "6/6 [==============================] - 0s 2ms/step - loss: 1.2826 - accuracy: 0.3404 - val_loss: 1.3739 - val_accuracy: 0.2727\n",
      "Epoch 7/100\n",
      "6/6 [==============================] - 0s 2ms/step - loss: 1.2407 - accuracy: 0.3404 - val_loss: 1.3349 - val_accuracy: 0.2727\n",
      "Epoch 8/100\n",
      "6/6 [==============================] - 0s 2ms/step - loss: 1.2003 - accuracy: 0.3404 - val_loss: 1.3020 - val_accuracy: 0.2727\n",
      "Epoch 9/100\n",
      "6/6 [==============================] - 0s 2ms/step - loss: 1.1709 - accuracy: 0.3404 - val_loss: 1.2724 - val_accuracy: 0.2727\n",
      "Epoch 10/100\n",
      "6/6 [==============================] - 0s 2ms/step - loss: 1.1426 - accuracy: 0.3404 - val_loss: 1.2453 - val_accuracy: 0.2727\n",
      "Epoch 11/100\n",
      "6/6 [==============================] - 0s 2ms/step - loss: 1.1176 - accuracy: 0.3404 - val_loss: 1.2213 - val_accuracy: 0.2727\n",
      "Epoch 12/100\n",
      "6/6 [==============================] - 0s 2ms/step - loss: 1.0974 - accuracy: 0.3404 - val_loss: 1.2013 - val_accuracy: 0.2727\n",
      "Epoch 13/100\n",
      "6/6 [==============================] - 0s 2ms/step - loss: 1.0788 - accuracy: 0.3404 - val_loss: 1.1842 - val_accuracy: 0.2727\n",
      "Epoch 14/100\n",
      "6/6 [==============================] - 0s 2ms/step - loss: 1.0632 - accuracy: 0.3404 - val_loss: 1.1672 - val_accuracy: 0.2727\n",
      "Epoch 15/100\n",
      "6/6 [==============================] - 0s 2ms/step - loss: 1.0514 - accuracy: 0.3404 - val_loss: 1.1502 - val_accuracy: 0.2727\n",
      "Epoch 16/100\n",
      "6/6 [==============================] - 0s 2ms/step - loss: 1.0386 - accuracy: 0.3404 - val_loss: 1.1335 - val_accuracy: 0.2727\n",
      "Epoch 17/100\n",
      "6/6 [==============================] - 0s 2ms/step - loss: 1.0270 - accuracy: 0.3404 - val_loss: 1.1208 - val_accuracy: 0.2727\n",
      "Epoch 18/100\n",
      "6/6 [==============================] - 0s 2ms/step - loss: 1.0186 - accuracy: 0.3404 - val_loss: 1.1056 - val_accuracy: 0.2727\n",
      "Epoch 19/100\n",
      "6/6 [==============================] - 0s 2ms/step - loss: 1.0096 - accuracy: 0.3936 - val_loss: 1.0930 - val_accuracy: 0.2727\n",
      "Epoch 20/100\n",
      "6/6 [==============================] - 0s 2ms/step - loss: 1.0021 - accuracy: 0.5638 - val_loss: 1.0799 - val_accuracy: 0.3636\n",
      "Epoch 21/100\n",
      "6/6 [==============================] - 0s 2ms/step - loss: 0.9945 - accuracy: 0.6809 - val_loss: 1.0689 - val_accuracy: 0.3636\n",
      "Epoch 22/100\n",
      "6/6 [==============================] - 0s 2ms/step - loss: 0.9888 - accuracy: 0.6596 - val_loss: 1.0555 - val_accuracy: 0.2727\n",
      "Epoch 23/100\n",
      "6/6 [==============================] - 0s 2ms/step - loss: 0.9816 - accuracy: 0.5851 - val_loss: 1.0453 - val_accuracy: 0.2727\n",
      "Epoch 24/100\n",
      "6/6 [==============================] - 0s 2ms/step - loss: 0.9751 - accuracy: 0.5213 - val_loss: 1.0360 - val_accuracy: 0.1818\n",
      "Epoch 25/100\n",
      "6/6 [==============================] - 0s 2ms/step - loss: 0.9693 - accuracy: 0.4574 - val_loss: 1.0251 - val_accuracy: 0.1818\n",
      "Epoch 26/100\n",
      "6/6 [==============================] - 0s 2ms/step - loss: 0.9632 - accuracy: 0.4574 - val_loss: 1.0145 - val_accuracy: 0.1818\n",
      "Epoch 27/100\n",
      "6/6 [==============================] - 0s 2ms/step - loss: 0.9579 - accuracy: 0.4149 - val_loss: 1.0035 - val_accuracy: 0.1818\n",
      "Epoch 28/100\n",
      "6/6 [==============================] - 0s 2ms/step - loss: 0.9513 - accuracy: 0.4255 - val_loss: 0.9935 - val_accuracy: 0.1818\n",
      "Epoch 29/100\n",
      "6/6 [==============================] - 0s 2ms/step - loss: 0.9453 - accuracy: 0.4468 - val_loss: 0.9810 - val_accuracy: 0.4545\n",
      "Epoch 30/100\n",
      "6/6 [==============================] - 0s 2ms/step - loss: 0.9389 - accuracy: 0.5000 - val_loss: 0.9721 - val_accuracy: 0.5455\n",
      "Epoch 31/100\n",
      "6/6 [==============================] - 0s 2ms/step - loss: 0.9327 - accuracy: 0.5957 - val_loss: 0.9631 - val_accuracy: 0.5455\n",
      "Epoch 32/100\n",
      "6/6 [==============================] - 0s 2ms/step - loss: 0.9269 - accuracy: 0.6383 - val_loss: 0.9511 - val_accuracy: 0.7273\n",
      "Epoch 33/100\n",
      "6/6 [==============================] - 0s 2ms/step - loss: 0.9195 - accuracy: 0.6596 - val_loss: 0.9398 - val_accuracy: 0.7273\n",
      "Epoch 34/100\n",
      "6/6 [==============================] - 0s 2ms/step - loss: 0.9134 - accuracy: 0.6702 - val_loss: 0.9290 - val_accuracy: 0.7273\n",
      "Epoch 35/100\n",
      "6/6 [==============================] - 0s 2ms/step - loss: 0.9062 - accuracy: 0.6809 - val_loss: 0.9178 - val_accuracy: 0.7273\n",
      "Epoch 36/100\n",
      "6/6 [==============================] - 0s 2ms/step - loss: 0.9008 - accuracy: 0.6809 - val_loss: 0.9041 - val_accuracy: 0.7273\n",
      "Epoch 37/100\n",
      "6/6 [==============================] - 0s 2ms/step - loss: 0.8933 - accuracy: 0.6809 - val_loss: 0.8896 - val_accuracy: 0.7273\n",
      "Epoch 38/100\n",
      "6/6 [==============================] - 0s 2ms/step - loss: 0.8857 - accuracy: 0.6809 - val_loss: 0.8798 - val_accuracy: 0.7273\n",
      "Epoch 39/100\n",
      "6/6 [==============================] - 0s 2ms/step - loss: 0.8788 - accuracy: 0.6809 - val_loss: 0.8730 - val_accuracy: 0.7273\n",
      "Epoch 40/100\n",
      "6/6 [==============================] - 0s 2ms/step - loss: 0.8718 - accuracy: 0.6809 - val_loss: 0.8614 - val_accuracy: 0.7273\n",
      "Epoch 41/100\n",
      "6/6 [==============================] - 0s 2ms/step - loss: 0.8653 - accuracy: 0.6809 - val_loss: 0.8521 - val_accuracy: 0.7273\n",
      "Epoch 42/100\n",
      "6/6 [==============================] - 0s 2ms/step - loss: 0.8579 - accuracy: 0.6809 - val_loss: 0.8409 - val_accuracy: 0.7273\n",
      "Epoch 43/100\n",
      "6/6 [==============================] - 0s 2ms/step - loss: 0.8507 - accuracy: 0.6809 - val_loss: 0.8297 - val_accuracy: 0.7273\n",
      "Epoch 44/100\n",
      "6/6 [==============================] - 0s 2ms/step - loss: 0.8438 - accuracy: 0.6809 - val_loss: 0.8189 - val_accuracy: 0.7273\n",
      "Epoch 45/100\n",
      "6/6 [==============================] - 0s 2ms/step - loss: 0.8368 - accuracy: 0.6809 - val_loss: 0.8101 - val_accuracy: 0.7273\n",
      "Epoch 46/100\n",
      "6/6 [==============================] - 0s 2ms/step - loss: 0.8303 - accuracy: 0.6915 - val_loss: 0.8050 - val_accuracy: 0.7273\n",
      "Epoch 47/100\n",
      "6/6 [==============================] - 0s 2ms/step - loss: 0.8229 - accuracy: 0.6809 - val_loss: 0.7955 - val_accuracy: 0.7273\n",
      "Epoch 48/100\n",
      "6/6 [==============================] - 0s 2ms/step - loss: 0.8159 - accuracy: 0.6809 - val_loss: 0.7846 - val_accuracy: 0.7273\n",
      "Epoch 49/100\n",
      "6/6 [==============================] - 0s 2ms/step - loss: 0.8085 - accuracy: 0.6809 - val_loss: 0.7754 - val_accuracy: 0.7273\n",
      "Epoch 50/100\n",
      "6/6 [==============================] - 0s 2ms/step - loss: 0.8013 - accuracy: 0.6809 - val_loss: 0.7691 - val_accuracy: 0.7273\n",
      "Epoch 51/100\n",
      "6/6 [==============================] - 0s 2ms/step - loss: 0.7938 - accuracy: 0.6809 - val_loss: 0.7606 - val_accuracy: 0.7273\n",
      "Epoch 52/100\n",
      "6/6 [==============================] - 0s 2ms/step - loss: 0.7866 - accuracy: 0.6809 - val_loss: 0.7502 - val_accuracy: 0.7273\n",
      "Epoch 53/100\n",
      "6/6 [==============================] - 0s 2ms/step - loss: 0.7787 - accuracy: 0.6915 - val_loss: 0.7437 - val_accuracy: 0.7273\n",
      "Epoch 54/100\n",
      "6/6 [==============================] - 0s 2ms/step - loss: 0.7715 - accuracy: 0.6809 - val_loss: 0.7347 - val_accuracy: 0.7273\n",
      "Epoch 55/100\n",
      "6/6 [==============================] - 0s 2ms/step - loss: 0.7636 - accuracy: 0.6915 - val_loss: 0.7265 - val_accuracy: 0.7273\n",
      "Epoch 56/100\n",
      "6/6 [==============================] - 0s 2ms/step - loss: 0.7565 - accuracy: 0.6915 - val_loss: 0.7182 - val_accuracy: 0.7273\n",
      "Epoch 57/100\n",
      "6/6 [==============================] - 0s 2ms/step - loss: 0.7494 - accuracy: 0.6915 - val_loss: 0.7069 - val_accuracy: 0.7273\n",
      "Epoch 58/100\n",
      "6/6 [==============================] - 0s 2ms/step - loss: 0.7417 - accuracy: 0.7128 - val_loss: 0.6986 - val_accuracy: 0.7273\n",
      "Epoch 59/100\n",
      "6/6 [==============================] - 0s 2ms/step - loss: 0.7346 - accuracy: 0.7128 - val_loss: 0.6927 - val_accuracy: 0.7273\n",
      "Epoch 60/100\n",
      "6/6 [==============================] - 0s 2ms/step - loss: 0.7278 - accuracy: 0.7128 - val_loss: 0.6838 - val_accuracy: 0.7273\n",
      "Epoch 61/100\n",
      "6/6 [==============================] - 0s 2ms/step - loss: 0.7212 - accuracy: 0.7128 - val_loss: 0.6732 - val_accuracy: 0.7273\n",
      "Epoch 62/100\n",
      "6/6 [==============================] - 0s 2ms/step - loss: 0.7143 - accuracy: 0.7128 - val_loss: 0.6657 - val_accuracy: 0.7273\n",
      "Epoch 63/100\n",
      "6/6 [==============================] - 0s 2ms/step - loss: 0.7077 - accuracy: 0.7128 - val_loss: 0.6572 - val_accuracy: 0.7273\n",
      "Epoch 64/100\n",
      "6/6 [==============================] - 0s 2ms/step - loss: 0.7015 - accuracy: 0.7447 - val_loss: 0.6485 - val_accuracy: 0.7273\n",
      "Epoch 65/100\n",
      "6/6 [==============================] - 0s 2ms/step - loss: 0.6953 - accuracy: 0.7553 - val_loss: 0.6396 - val_accuracy: 0.7273\n",
      "Epoch 66/100\n",
      "6/6 [==============================] - 0s 2ms/step - loss: 0.6894 - accuracy: 0.7553 - val_loss: 0.6306 - val_accuracy: 0.8182\n",
      "Epoch 67/100\n",
      "6/6 [==============================] - 0s 2ms/step - loss: 0.6831 - accuracy: 0.7553 - val_loss: 0.6241 - val_accuracy: 0.8182\n",
      "Epoch 68/100\n",
      "6/6 [==============================] - 0s 2ms/step - loss: 0.6773 - accuracy: 0.7553 - val_loss: 0.6173 - val_accuracy: 0.7273\n",
      "Epoch 69/100\n",
      "6/6 [==============================] - 0s 2ms/step - loss: 0.6717 - accuracy: 0.7553 - val_loss: 0.6086 - val_accuracy: 0.8182\n",
      "Epoch 70/100\n",
      "6/6 [==============================] - 0s 2ms/step - loss: 0.6657 - accuracy: 0.7553 - val_loss: 0.6014 - val_accuracy: 0.8182\n",
      "Epoch 71/100\n",
      "6/6 [==============================] - 0s 2ms/step - loss: 0.6601 - accuracy: 0.7553 - val_loss: 0.5937 - val_accuracy: 0.8182\n",
      "Epoch 72/100\n",
      "6/6 [==============================] - 0s 2ms/step - loss: 0.6546 - accuracy: 0.7553 - val_loss: 0.5867 - val_accuracy: 0.8182\n",
      "Epoch 73/100\n",
      "6/6 [==============================] - 0s 2ms/step - loss: 0.6492 - accuracy: 0.7553 - val_loss: 0.5793 - val_accuracy: 0.8182\n",
      "Epoch 74/100\n",
      "6/6 [==============================] - 0s 3ms/step - loss: 0.6438 - accuracy: 0.7766 - val_loss: 0.5722 - val_accuracy: 0.8182\n",
      "Epoch 75/100\n",
      "6/6 [==============================] - 0s 2ms/step - loss: 0.6389 - accuracy: 0.7979 - val_loss: 0.5626 - val_accuracy: 0.8182\n",
      "Epoch 76/100\n",
      "6/6 [==============================] - 0s 2ms/step - loss: 0.6331 - accuracy: 0.8191 - val_loss: 0.5555 - val_accuracy: 0.8182\n",
      "Epoch 77/100\n",
      "6/6 [==============================] - 0s 2ms/step - loss: 0.6279 - accuracy: 0.7979 - val_loss: 0.5497 - val_accuracy: 0.8182\n",
      "Epoch 78/100\n",
      "6/6 [==============================] - 0s 2ms/step - loss: 0.6229 - accuracy: 0.7979 - val_loss: 0.5436 - val_accuracy: 0.8182\n",
      "Epoch 79/100\n",
      "6/6 [==============================] - 0s 2ms/step - loss: 0.6175 - accuracy: 0.7979 - val_loss: 0.5368 - val_accuracy: 0.8182\n",
      "Epoch 80/100\n",
      "6/6 [==============================] - 0s 2ms/step - loss: 0.6126 - accuracy: 0.8085 - val_loss: 0.5296 - val_accuracy: 0.8182\n",
      "Epoch 81/100\n",
      "6/6 [==============================] - 0s 2ms/step - loss: 0.6076 - accuracy: 0.8298 - val_loss: 0.5215 - val_accuracy: 0.8182\n",
      "Epoch 82/100\n",
      "6/6 [==============================] - 0s 2ms/step - loss: 0.6025 - accuracy: 0.8404 - val_loss: 0.5153 - val_accuracy: 0.8182\n",
      "Epoch 83/100\n",
      "6/6 [==============================] - 0s 2ms/step - loss: 0.5980 - accuracy: 0.8404 - val_loss: 0.5078 - val_accuracy: 0.9091\n",
      "Epoch 84/100\n",
      "6/6 [==============================] - 0s 2ms/step - loss: 0.5928 - accuracy: 0.8511 - val_loss: 0.5022 - val_accuracy: 0.8182\n",
      "Epoch 85/100\n",
      "6/6 [==============================] - 0s 2ms/step - loss: 0.5880 - accuracy: 0.8404 - val_loss: 0.4969 - val_accuracy: 0.8182\n",
      "Epoch 86/100\n",
      "6/6 [==============================] - 0s 2ms/step - loss: 0.5835 - accuracy: 0.8404 - val_loss: 0.4931 - val_accuracy: 0.8182\n",
      "Epoch 87/100\n",
      "6/6 [==============================] - 0s 2ms/step - loss: 0.5791 - accuracy: 0.8404 - val_loss: 0.4856 - val_accuracy: 0.8182\n",
      "Epoch 88/100\n",
      "6/6 [==============================] - 0s 2ms/step - loss: 0.5744 - accuracy: 0.8404 - val_loss: 0.4814 - val_accuracy: 0.8182\n",
      "Epoch 89/100\n",
      "6/6 [==============================] - 0s 2ms/step - loss: 0.5700 - accuracy: 0.8511 - val_loss: 0.4737 - val_accuracy: 0.9091\n",
      "Epoch 90/100\n",
      "6/6 [==============================] - 0s 2ms/step - loss: 0.5654 - accuracy: 0.8511 - val_loss: 0.4685 - val_accuracy: 0.9091\n",
      "Epoch 91/100\n",
      "6/6 [==============================] - 0s 2ms/step - loss: 0.5610 - accuracy: 0.8511 - val_loss: 0.4623 - val_accuracy: 0.9091\n",
      "Epoch 92/100\n",
      "6/6 [==============================] - 0s 2ms/step - loss: 0.5570 - accuracy: 0.8511 - val_loss: 0.4593 - val_accuracy: 0.9091\n",
      "Epoch 93/100\n",
      "6/6 [==============================] - 0s 2ms/step - loss: 0.5526 - accuracy: 0.8511 - val_loss: 0.4528 - val_accuracy: 0.9091\n",
      "Epoch 94/100\n",
      "6/6 [==============================] - 0s 2ms/step - loss: 0.5487 - accuracy: 0.8723 - val_loss: 0.4462 - val_accuracy: 0.9091\n",
      "Epoch 95/100\n",
      "6/6 [==============================] - 0s 2ms/step - loss: 0.5444 - accuracy: 0.8830 - val_loss: 0.4412 - val_accuracy: 0.9091\n",
      "Epoch 96/100\n",
      "6/6 [==============================] - 0s 2ms/step - loss: 0.5406 - accuracy: 0.8830 - val_loss: 0.4357 - val_accuracy: 0.9091\n",
      "Epoch 97/100\n",
      "6/6 [==============================] - 0s 2ms/step - loss: 0.5369 - accuracy: 0.8936 - val_loss: 0.4309 - val_accuracy: 0.9091\n",
      "Epoch 98/100\n",
      "6/6 [==============================] - 0s 2ms/step - loss: 0.5328 - accuracy: 0.9043 - val_loss: 0.4264 - val_accuracy: 0.9091\n",
      "Epoch 99/100\n",
      "6/6 [==============================] - 0s 2ms/step - loss: 0.5294 - accuracy: 0.8936 - val_loss: 0.4253 - val_accuracy: 0.9091\n",
      "Epoch 100/100\n",
      "6/6 [==============================] - 0s 2ms/step - loss: 0.5253 - accuracy: 0.8830 - val_loss: 0.4211 - val_accuracy: 0.9091\n"
     ]
    }
   ],
   "source": [
    "tf_fit = model.fit(x=X_train_std, y=y_train,\n",
    "        batch_size=16,\n",
    "        validation_split=0.1,\n",
    "        epochs=100, \n",
    "        verbose=1)"
   ]
  },
  {
   "cell_type": "code",
   "execution_count": 5,
   "metadata": {},
   "outputs": [
    {
     "name": "stdout",
     "output_type": "stream",
     "text": [
      "loss                : ['1.57', '1.51', '1.44', '1.38', '1.33']\n",
      "accuracy            : ['0.34', '0.34', '0.34', '0.34', '0.34']\n",
      "val_loss            : ['1.64', '1.57', '1.51', '1.46', '1.42']\n",
      "val_accuracy        : ['0.27', '0.27', '0.27', '0.27', '0.27']\n"
     ]
    }
   ],
   "source": [
    "for key, val in tf_fit.history.items():\n",
    "    print( f'{key:20s}: {[ f\"{i:3.2f}\" for i in val[-6:]]}')"
   ]
  },
  {
   "cell_type": "code",
   "execution_count": 6,
   "metadata": {},
   "outputs": [
    {
     "data": {
      "text/plain": [
       "<matplotlib.legend.Legend at 0x14590b29f40>"
      ]
     },
     "execution_count": 6,
     "metadata": {},
     "output_type": "execute_result"
    },
    {
     "data": {
      "image/png": "[encoded data removed]",
      "text/plain": [
       "<Figure size 864x360 with 2 Axes>"
      ]
     },
     "metadata": {
      "needs_background": "light"
     },
     "output_type": "display_data"
    }
   ],
   "source": [
    "hist = tf_fit.history\n",
    "\n",
    "fig = plt.figure(figsize=(12, 5))\n",
    "ax = fig.add_subplot(1, 2, 1)\n",
    "ax.plot(hist['loss'], lw=3)\n",
    "ax.plot(hist['val_loss'], lw=3)\n",
    "ax.set_title('Training loss', size=15)\n",
    "ax.set_xlabel('Epoch', size=15)\n",
    "ax.tick_params(axis='both', which='major', labelsize=15)\n",
    "ax.legend(['train','val'])\n",
    "\n",
    "ax = fig.add_subplot(1, 2, 2)\n",
    "ax.plot(hist['accuracy'], lw=3)\n",
    "ax.plot(hist['val_accuracy'], lw=3)\n",
    "ax.set_title('Training accuracy', size=15)\n",
    "ax.set_xlabel('Epoch', size=15)\n",
    "ax.tick_params(axis='both', which='major', labelsize=15)\n",
    "plt.tight_layout()\n",
    "ax.legend(['train','val'])"
   ]
  },
  {
   "cell_type": "code",
   "execution_count": 7,
   "metadata": {},
   "outputs": [
    {
     "name": "stdout",
     "output_type": "stream",
     "text": [
      "Test loss: 0.5163   Test Acc.: 0.8889\n"
     ]
    }
   ],
   "source": [
    "results = model.evaluate(X_test_std, y_test, verbose=0)\n",
    "print(f'Test loss: {results[0]:.4f}   Test Acc.: {results[1]:.4f}')"
   ]
  },
  {
   "cell_type": "code",
   "execution_count": 8,
   "metadata": {},
   "outputs": [
    {
     "name": "stdout",
     "output_type": "stream",
     "text": [
      "[[0.0481398  0.33527547 0.6165847 ]\n",
      " [0.7878966  0.18357824 0.02852518]\n",
      " [0.78663206 0.18487129 0.02849667]]\n"
     ]
    }
   ],
   "source": [
    "y_hat = model(X_test_std[:3])\n",
    "print(y_hat.numpy())"
   ]
  },
  {
   "cell_type": "code",
   "execution_count": 9,
   "metadata": {},
   "outputs": [
    {
     "data": {
      "image/png": "[encoded data removed]",
      "text/plain": [
       "<Figure size 432x288 with 1 Axes>"
      ]
     },
     "metadata": {
      "needs_background": "light"
     },
     "output_type": "display_data"
    }
   ],
   "source": [
    "yp = y_hat.numpy()[0]\n",
    "xp = list(range(yp.shape[0]))\n",
    "plt.bar(xp, yp)\n",
    "plt.title('Softmax Values')\n",
    "plt.show()"
   ]
  }
 ],
 "metadata": {
  "interpreter": {
   "hash": "b4a387497f54fd22d04ab06f3cac2b317ccdf5aa3fbc31422dd91bb954740c85"
  },
  "kernelspec": {
   "display_name": "Python 3.8.0 64-bit ('tf': conda)",
   "name": "python3"
  },
  "language_info": {
   "codemirror_mode": {
    "name": "ipython",
    "version": 3
   },
   "file_extension": ".py",
   "mimetype": "text/x-python",
   "name": "python",
   "nbconvert_exporter": "python",
   "pygments_lexer": "ipython3",
   "version": "3.9.7"
  },
  "orig_nbformat": 4
 },
 "nbformat": 4,
 "nbformat_minor": 2
}
