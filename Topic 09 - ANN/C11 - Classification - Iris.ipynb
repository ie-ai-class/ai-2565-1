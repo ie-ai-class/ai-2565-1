{
 "cells": [
  {
   "cell_type": "markdown",
   "metadata": {},
   "source": [
    "# Iris dataset\n",
    "2 attributes"
   ]
  },
  {
   "cell_type": "code",
   "execution_count": 36,
   "metadata": {},
   "outputs": [],
   "source": [
    "import tensorflow as tf\n",
    "from sklearn import datasets\n",
    "from sklearn.model_selection import train_test_split\n",
    "from sklearn.preprocessing import StandardScaler\n",
    "import matplotlib.pyplot as plt\n",
    "import numpy as np"
   ]
  },
  {
   "cell_type": "code",
   "execution_count": 37,
   "metadata": {},
   "outputs": [],
   "source": [
    "# Read data\n",
    "iris = datasets.load_iris()\n",
    "\n",
    "# 2 Attributes\n",
    "X = iris.data[:, 2:4]\n",
    "y = iris.target\n",
    "\n",
    "# Split data into training and testing data\n",
    "X_train, X_test, y_train, y_test = train_test_split(\n",
    "    X, y, test_size=0.3, random_state=1, stratify=y\n",
    ")\n",
    "\n",
    "# Standardization\n",
    "sc = StandardScaler()\n",
    "sc.fit(X_train)\n",
    "X_train_std = sc.transform(X_train)\n",
    "X_test_std = sc.transform(X_test)"
   ]
  },
  {
   "cell_type": "markdown",
   "metadata": {},
   "source": [
    "## Model building"
   ]
  },
  {
   "cell_type": "code",
   "execution_count": 38,
   "metadata": {},
   "outputs": [
    {
     "name": "stdout",
     "output_type": "stream",
     "text": [
      "Model: \"sequential\"\n",
      "_________________________________________________________________\n",
      "Layer (type)                 Output Shape              Param #   \n",
      "=================================================================\n",
      "hidden1 (Dense)              (None, 16)                48        \n",
      "_________________________________________________________________\n",
      "output (Dense)               (None, 3)                 51        \n",
      "=================================================================\n",
      "Total params: 99\n",
      "Trainable params: 99\n",
      "Non-trainable params: 0\n",
      "_________________________________________________________________\n"
     ]
    }
   ],
   "source": [
    "tf.keras.backend.clear_session()\n",
    "\n",
    "model = tf.keras.Sequential([\n",
    "    tf.keras.layers.InputLayer(input_shape=(2,)),\n",
    "    tf.keras.layers.Dense(units=16, activation='sigmoid', name='hidden1'),\n",
    "    tf.keras.layers.Dense(units=3, name='output', activation='softmax')\n",
    "    ])\n",
    "\n",
    "model.summary()\n",
    "\n",
    "model.compile(\n",
    "    optimizer='adam',\n",
    "    loss='sparse_categorical_crossentropy',\n",
    "    metrics=['accuracy'])"
   ]
  },
  {
   "cell_type": "markdown",
   "metadata": {},
   "source": [
    "# Model training"
   ]
  },
  {
   "cell_type": "code",
   "execution_count": 39,
   "metadata": {},
   "outputs": [
    {
     "name": "stdout",
     "output_type": "stream",
     "text": [
      "Epoch 1/100\n",
      "6/6 [==============================] - 0s 27ms/step - loss: 1.2326 - accuracy: 0.2979 - val_loss: 1.0244 - val_accuracy: 0.6364\n",
      "Epoch 2/100\n",
      "6/6 [==============================] - 0s 5ms/step - loss: 1.2002 - accuracy: 0.2979 - val_loss: 1.0162 - val_accuracy: 0.6364\n",
      "Epoch 3/100\n",
      "6/6 [==============================] - 0s 5ms/step - loss: 1.1725 - accuracy: 0.3404 - val_loss: 1.0042 - val_accuracy: 0.7273\n",
      "Epoch 4/100\n",
      "6/6 [==============================] - 0s 5ms/step - loss: 1.1468 - accuracy: 0.4787 - val_loss: 0.9958 - val_accuracy: 0.7273\n",
      "Epoch 5/100\n",
      "6/6 [==============================] - 0s 5ms/step - loss: 1.1207 - accuracy: 0.6277 - val_loss: 0.9867 - val_accuracy: 0.7273\n",
      "Epoch 6/100\n",
      "6/6 [==============================] - 0s 5ms/step - loss: 1.1001 - accuracy: 0.6596 - val_loss: 0.9781 - val_accuracy: 0.7273\n",
      "Epoch 7/100\n",
      "6/6 [==============================] - 0s 5ms/step - loss: 1.0806 - accuracy: 0.6596 - val_loss: 0.9678 - val_accuracy: 0.7273\n",
      "Epoch 8/100\n",
      "6/6 [==============================] - 0s 5ms/step - loss: 1.0616 - accuracy: 0.6596 - val_loss: 0.9596 - val_accuracy: 0.7273\n",
      "Epoch 9/100\n",
      "6/6 [==============================] - 0s 5ms/step - loss: 1.0441 - accuracy: 0.6596 - val_loss: 0.9511 - val_accuracy: 0.7273\n",
      "Epoch 10/100\n",
      "6/6 [==============================] - 0s 5ms/step - loss: 1.0290 - accuracy: 0.6596 - val_loss: 0.9441 - val_accuracy: 0.7273\n",
      "Epoch 11/100\n",
      "6/6 [==============================] - 0s 4ms/step - loss: 1.0142 - accuracy: 0.6596 - val_loss: 0.9354 - val_accuracy: 0.7273\n",
      "Epoch 12/100\n",
      "6/6 [==============================] - 0s 4ms/step - loss: 1.0010 - accuracy: 0.6596 - val_loss: 0.9270 - val_accuracy: 0.7273\n",
      "Epoch 13/100\n",
      "6/6 [==============================] - 0s 5ms/step - loss: 0.9896 - accuracy: 0.6596 - val_loss: 0.9193 - val_accuracy: 0.7273\n",
      "Epoch 14/100\n",
      "6/6 [==============================] - 0s 5ms/step - loss: 0.9781 - accuracy: 0.6596 - val_loss: 0.9123 - val_accuracy: 0.7273\n",
      "Epoch 15/100\n",
      "6/6 [==============================] - 0s 5ms/step - loss: 0.9683 - accuracy: 0.6596 - val_loss: 0.9051 - val_accuracy: 0.7273\n",
      "Epoch 16/100\n",
      "6/6 [==============================] - 0s 5ms/step - loss: 0.9580 - accuracy: 0.6596 - val_loss: 0.8997 - val_accuracy: 0.7273\n",
      "Epoch 17/100\n",
      "6/6 [==============================] - 0s 5ms/step - loss: 0.9490 - accuracy: 0.6596 - val_loss: 0.8911 - val_accuracy: 0.7273\n",
      "Epoch 18/100\n",
      "6/6 [==============================] - 0s 5ms/step - loss: 0.9411 - accuracy: 0.6596 - val_loss: 0.8851 - val_accuracy: 0.7273\n",
      "Epoch 19/100\n",
      "6/6 [==============================] - 0s 5ms/step - loss: 0.9317 - accuracy: 0.6596 - val_loss: 0.8789 - val_accuracy: 0.7273\n",
      "Epoch 20/100\n",
      "6/6 [==============================] - 0s 5ms/step - loss: 0.9240 - accuracy: 0.6596 - val_loss: 0.8733 - val_accuracy: 0.7273\n",
      "Epoch 21/100\n",
      "6/6 [==============================] - 0s 4ms/step - loss: 0.9164 - accuracy: 0.6596 - val_loss: 0.8667 - val_accuracy: 0.7273\n",
      "Epoch 22/100\n",
      "6/6 [==============================] - 0s 5ms/step - loss: 0.9088 - accuracy: 0.6596 - val_loss: 0.8570 - val_accuracy: 0.7273\n",
      "Epoch 23/100\n",
      "6/6 [==============================] - 0s 5ms/step - loss: 0.9014 - accuracy: 0.6596 - val_loss: 0.8505 - val_accuracy: 0.7273\n",
      "Epoch 24/100\n",
      "6/6 [==============================] - 0s 5ms/step - loss: 0.8941 - accuracy: 0.6596 - val_loss: 0.8445 - val_accuracy: 0.7273\n",
      "Epoch 25/100\n",
      "6/6 [==============================] - 0s 5ms/step - loss: 0.8869 - accuracy: 0.6596 - val_loss: 0.8349 - val_accuracy: 0.7273\n",
      "Epoch 26/100\n",
      "6/6 [==============================] - 0s 5ms/step - loss: 0.8799 - accuracy: 0.6596 - val_loss: 0.8267 - val_accuracy: 0.7273\n",
      "Epoch 27/100\n",
      "6/6 [==============================] - 0s 5ms/step - loss: 0.8726 - accuracy: 0.6596 - val_loss: 0.8188 - val_accuracy: 0.7273\n",
      "Epoch 28/100\n",
      "6/6 [==============================] - 0s 4ms/step - loss: 0.8657 - accuracy: 0.6596 - val_loss: 0.8115 - val_accuracy: 0.7273\n",
      "Epoch 29/100\n",
      "6/6 [==============================] - 0s 4ms/step - loss: 0.8588 - accuracy: 0.6596 - val_loss: 0.8031 - val_accuracy: 0.7273\n",
      "Epoch 30/100\n",
      "6/6 [==============================] - 0s 5ms/step - loss: 0.8519 - accuracy: 0.6596 - val_loss: 0.7938 - val_accuracy: 0.7273\n",
      "Epoch 31/100\n",
      "6/6 [==============================] - 0s 5ms/step - loss: 0.8449 - accuracy: 0.6596 - val_loss: 0.7853 - val_accuracy: 0.7273\n",
      "Epoch 32/100\n",
      "6/6 [==============================] - 0s 5ms/step - loss: 0.8380 - accuracy: 0.6596 - val_loss: 0.7773 - val_accuracy: 0.7273\n",
      "Epoch 33/100\n",
      "6/6 [==============================] - 0s 4ms/step - loss: 0.8311 - accuracy: 0.6596 - val_loss: 0.7693 - val_accuracy: 0.7273\n",
      "Epoch 34/100\n",
      "6/6 [==============================] - 0s 4ms/step - loss: 0.8242 - accuracy: 0.6596 - val_loss: 0.7619 - val_accuracy: 0.7273\n",
      "Epoch 35/100\n",
      "6/6 [==============================] - 0s 5ms/step - loss: 0.8173 - accuracy: 0.6596 - val_loss: 0.7528 - val_accuracy: 0.7273\n",
      "Epoch 36/100\n",
      "6/6 [==============================] - 0s 5ms/step - loss: 0.8104 - accuracy: 0.6596 - val_loss: 0.7444 - val_accuracy: 0.7273\n",
      "Epoch 37/100\n",
      "6/6 [==============================] - 0s 5ms/step - loss: 0.8037 - accuracy: 0.6596 - val_loss: 0.7355 - val_accuracy: 0.7273\n",
      "Epoch 38/100\n",
      "6/6 [==============================] - 0s 5ms/step - loss: 0.7972 - accuracy: 0.6596 - val_loss: 0.7251 - val_accuracy: 0.7273\n",
      "Epoch 39/100\n",
      "6/6 [==============================] - 0s 5ms/step - loss: 0.7901 - accuracy: 0.6596 - val_loss: 0.7181 - val_accuracy: 0.7273\n",
      "Epoch 40/100\n",
      "6/6 [==============================] - 0s 4ms/step - loss: 0.7834 - accuracy: 0.6596 - val_loss: 0.7108 - val_accuracy: 0.7273\n",
      "Epoch 41/100\n",
      "6/6 [==============================] - 0s 5ms/step - loss: 0.7766 - accuracy: 0.6596 - val_loss: 0.7019 - val_accuracy: 0.7273\n",
      "Epoch 42/100\n",
      "6/6 [==============================] - 0s 4ms/step - loss: 0.7699 - accuracy: 0.6702 - val_loss: 0.6935 - val_accuracy: 0.7273\n",
      "Epoch 43/100\n",
      "6/6 [==============================] - 0s 5ms/step - loss: 0.7634 - accuracy: 0.6915 - val_loss: 0.6845 - val_accuracy: 0.7273\n",
      "Epoch 44/100\n",
      "6/6 [==============================] - 0s 5ms/step - loss: 0.7567 - accuracy: 0.7021 - val_loss: 0.6767 - val_accuracy: 0.7273\n",
      "Epoch 45/100\n",
      "6/6 [==============================] - 0s 5ms/step - loss: 0.7504 - accuracy: 0.7021 - val_loss: 0.6683 - val_accuracy: 0.7273\n",
      "Epoch 46/100\n",
      "6/6 [==============================] - 0s 5ms/step - loss: 0.7437 - accuracy: 0.7021 - val_loss: 0.6603 - val_accuracy: 0.7273\n",
      "Epoch 47/100\n",
      "6/6 [==============================] - 0s 5ms/step - loss: 0.7373 - accuracy: 0.7234 - val_loss: 0.6521 - val_accuracy: 0.7273\n",
      "Epoch 48/100\n",
      "6/6 [==============================] - 0s 5ms/step - loss: 0.7312 - accuracy: 0.7234 - val_loss: 0.6445 - val_accuracy: 0.7273\n",
      "Epoch 49/100\n",
      "6/6 [==============================] - 0s 4ms/step - loss: 0.7247 - accuracy: 0.7234 - val_loss: 0.6369 - val_accuracy: 0.7273\n",
      "Epoch 50/100\n",
      "6/6 [==============================] - 0s 5ms/step - loss: 0.7187 - accuracy: 0.7340 - val_loss: 0.6286 - val_accuracy: 0.7273\n",
      "Epoch 51/100\n",
      "6/6 [==============================] - 0s 5ms/step - loss: 0.7124 - accuracy: 0.7340 - val_loss: 0.6199 - val_accuracy: 0.7273\n",
      "Epoch 52/100\n",
      "6/6 [==============================] - 0s 5ms/step - loss: 0.7062 - accuracy: 0.7340 - val_loss: 0.6144 - val_accuracy: 0.7273\n",
      "Epoch 53/100\n",
      "6/6 [==============================] - 0s 4ms/step - loss: 0.7001 - accuracy: 0.7340 - val_loss: 0.6077 - val_accuracy: 0.7273\n",
      "Epoch 54/100\n",
      "6/6 [==============================] - 0s 5ms/step - loss: 0.6946 - accuracy: 0.7340 - val_loss: 0.6011 - val_accuracy: 0.7273\n",
      "Epoch 55/100\n",
      "6/6 [==============================] - 0s 5ms/step - loss: 0.6883 - accuracy: 0.7447 - val_loss: 0.5937 - val_accuracy: 0.8182\n",
      "Epoch 56/100\n",
      "6/6 [==============================] - 0s 5ms/step - loss: 0.6825 - accuracy: 0.7553 - val_loss: 0.5857 - val_accuracy: 0.8182\n",
      "Epoch 57/100\n",
      "6/6 [==============================] - 0s 5ms/step - loss: 0.6767 - accuracy: 0.7660 - val_loss: 0.5790 - val_accuracy: 0.8182\n",
      "Epoch 58/100\n",
      "6/6 [==============================] - 0s 5ms/step - loss: 0.6711 - accuracy: 0.7660 - val_loss: 0.5722 - val_accuracy: 0.8182\n",
      "Epoch 59/100\n",
      "6/6 [==============================] - 0s 5ms/step - loss: 0.6657 - accuracy: 0.7766 - val_loss: 0.5648 - val_accuracy: 0.8182\n",
      "Epoch 60/100\n",
      "6/6 [==============================] - 0s 5ms/step - loss: 0.6600 - accuracy: 0.7872 - val_loss: 0.5589 - val_accuracy: 0.8182\n",
      "Epoch 61/100\n",
      "6/6 [==============================] - 0s 4ms/step - loss: 0.6544 - accuracy: 0.7872 - val_loss: 0.5524 - val_accuracy: 0.8182\n",
      "Epoch 62/100\n",
      "6/6 [==============================] - 0s 5ms/step - loss: 0.6491 - accuracy: 0.7872 - val_loss: 0.5474 - val_accuracy: 0.8182\n",
      "Epoch 63/100\n",
      "6/6 [==============================] - 0s 5ms/step - loss: 0.6439 - accuracy: 0.7872 - val_loss: 0.5421 - val_accuracy: 0.8182\n",
      "Epoch 64/100\n",
      "6/6 [==============================] - 0s 5ms/step - loss: 0.6385 - accuracy: 0.7872 - val_loss: 0.5364 - val_accuracy: 0.8182\n",
      "Epoch 65/100\n",
      "6/6 [==============================] - 0s 5ms/step - loss: 0.6332 - accuracy: 0.8085 - val_loss: 0.5301 - val_accuracy: 0.8182\n",
      "Epoch 66/100\n",
      "6/6 [==============================] - 0s 4ms/step - loss: 0.6282 - accuracy: 0.8085 - val_loss: 0.5239 - val_accuracy: 0.8182\n",
      "Epoch 67/100\n",
      "6/6 [==============================] - 0s 4ms/step - loss: 0.6232 - accuracy: 0.8191 - val_loss: 0.5174 - val_accuracy: 0.8182\n",
      "Epoch 68/100\n",
      "6/6 [==============================] - 0s 5ms/step - loss: 0.6181 - accuracy: 0.8511 - val_loss: 0.5120 - val_accuracy: 0.8182\n",
      "Epoch 69/100\n",
      "6/6 [==============================] - 0s 5ms/step - loss: 0.6134 - accuracy: 0.8511 - val_loss: 0.5063 - val_accuracy: 0.8182\n",
      "Epoch 70/100\n",
      "6/6 [==============================] - 0s 5ms/step - loss: 0.6087 - accuracy: 0.8511 - val_loss: 0.5004 - val_accuracy: 0.9091\n",
      "Epoch 71/100\n",
      "6/6 [==============================] - 0s 5ms/step - loss: 0.6037 - accuracy: 0.8617 - val_loss: 0.4962 - val_accuracy: 0.9091\n",
      "Epoch 72/100\n",
      "6/6 [==============================] - 0s 5ms/step - loss: 0.5990 - accuracy: 0.8617 - val_loss: 0.4915 - val_accuracy: 0.9091\n",
      "Epoch 73/100\n",
      "6/6 [==============================] - 0s 5ms/step - loss: 0.5945 - accuracy: 0.8617 - val_loss: 0.4866 - val_accuracy: 0.9091\n",
      "Epoch 74/100\n",
      "6/6 [==============================] - 0s 5ms/step - loss: 0.5899 - accuracy: 0.8617 - val_loss: 0.4815 - val_accuracy: 0.9091\n",
      "Epoch 75/100\n",
      "6/6 [==============================] - 0s 5ms/step - loss: 0.5854 - accuracy: 0.8617 - val_loss: 0.4767 - val_accuracy: 0.9091\n",
      "Epoch 76/100\n",
      "6/6 [==============================] - 0s 5ms/step - loss: 0.5809 - accuracy: 0.8723 - val_loss: 0.4727 - val_accuracy: 0.9091\n",
      "Epoch 77/100\n",
      "6/6 [==============================] - 0s 5ms/step - loss: 0.5768 - accuracy: 0.8723 - val_loss: 0.4683 - val_accuracy: 0.9091\n",
      "Epoch 78/100\n",
      "6/6 [==============================] - 0s 5ms/step - loss: 0.5724 - accuracy: 0.8723 - val_loss: 0.4633 - val_accuracy: 0.9091\n",
      "Epoch 79/100\n",
      "6/6 [==============================] - 0s 5ms/step - loss: 0.5681 - accuracy: 0.8723 - val_loss: 0.4596 - val_accuracy: 0.9091\n",
      "Epoch 80/100\n",
      "6/6 [==============================] - 0s 5ms/step - loss: 0.5641 - accuracy: 0.8723 - val_loss: 0.4548 - val_accuracy: 0.9091\n",
      "Epoch 81/100\n",
      "6/6 [==============================] - 0s 5ms/step - loss: 0.5599 - accuracy: 0.8723 - val_loss: 0.4511 - val_accuracy: 0.9091\n",
      "Epoch 82/100\n",
      "6/6 [==============================] - 0s 5ms/step - loss: 0.5559 - accuracy: 0.8723 - val_loss: 0.4481 - val_accuracy: 0.9091\n",
      "Epoch 83/100\n",
      "6/6 [==============================] - 0s 5ms/step - loss: 0.5519 - accuracy: 0.8723 - val_loss: 0.4427 - val_accuracy: 0.9091\n",
      "Epoch 84/100\n",
      "6/6 [==============================] - 0s 5ms/step - loss: 0.5480 - accuracy: 0.8723 - val_loss: 0.4394 - val_accuracy: 0.9091\n",
      "Epoch 85/100\n",
      "6/6 [==============================] - 0s 5ms/step - loss: 0.5440 - accuracy: 0.8723 - val_loss: 0.4356 - val_accuracy: 0.9091\n",
      "Epoch 86/100\n",
      "6/6 [==============================] - 0s 5ms/step - loss: 0.5400 - accuracy: 0.8723 - val_loss: 0.4314 - val_accuracy: 0.9091\n",
      "Epoch 87/100\n",
      "6/6 [==============================] - 0s 5ms/step - loss: 0.5364 - accuracy: 0.8723 - val_loss: 0.4282 - val_accuracy: 0.9091\n",
      "Epoch 88/100\n",
      "6/6 [==============================] - 0s 5ms/step - loss: 0.5326 - accuracy: 0.8723 - val_loss: 0.4247 - val_accuracy: 0.9091\n",
      "Epoch 89/100\n",
      "6/6 [==============================] - 0s 5ms/step - loss: 0.5288 - accuracy: 0.8723 - val_loss: 0.4209 - val_accuracy: 0.9091\n",
      "Epoch 90/100\n",
      "6/6 [==============================] - 0s 4ms/step - loss: 0.5253 - accuracy: 0.8830 - val_loss: 0.4163 - val_accuracy: 0.9091\n",
      "Epoch 91/100\n",
      "6/6 [==============================] - 0s 5ms/step - loss: 0.5215 - accuracy: 0.8936 - val_loss: 0.4129 - val_accuracy: 0.9091\n",
      "Epoch 92/100\n",
      "6/6 [==============================] - 0s 5ms/step - loss: 0.5180 - accuracy: 0.8936 - val_loss: 0.4096 - val_accuracy: 0.9091\n",
      "Epoch 93/100\n",
      "6/6 [==============================] - 0s 5ms/step - loss: 0.5145 - accuracy: 0.8936 - val_loss: 0.4065 - val_accuracy: 0.9091\n",
      "Epoch 94/100\n",
      "6/6 [==============================] - 0s 5ms/step - loss: 0.5113 - accuracy: 0.8936 - val_loss: 0.4032 - val_accuracy: 0.9091\n",
      "Epoch 95/100\n",
      "6/6 [==============================] - 0s 5ms/step - loss: 0.5078 - accuracy: 0.8936 - val_loss: 0.4001 - val_accuracy: 0.9091\n",
      "Epoch 96/100\n",
      "6/6 [==============================] - 0s 5ms/step - loss: 0.5044 - accuracy: 0.9043 - val_loss: 0.3966 - val_accuracy: 0.9091\n",
      "Epoch 97/100\n",
      "6/6 [==============================] - 0s 5ms/step - loss: 0.5009 - accuracy: 0.9043 - val_loss: 0.3933 - val_accuracy: 0.9091\n",
      "Epoch 98/100\n",
      "6/6 [==============================] - 0s 5ms/step - loss: 0.4976 - accuracy: 0.9043 - val_loss: 0.3902 - val_accuracy: 0.9091\n",
      "Epoch 99/100\n",
      "6/6 [==============================] - 0s 4ms/step - loss: 0.4944 - accuracy: 0.9043 - val_loss: 0.3877 - val_accuracy: 0.9091\n",
      "Epoch 100/100\n",
      "6/6 [==============================] - 0s 5ms/step - loss: 0.4912 - accuracy: 0.9043 - val_loss: 0.3849 - val_accuracy: 0.9091\n"
     ]
    }
   ],
   "source": [
    "tf_fit = model.fit(x=X_train_std, y=y_train,\n",
    "        batch_size=16,\n",
    "        validation_split=0.1,\n",
    "        epochs=100, \n",
    "        verbose=1)"
   ]
  },
  {
   "cell_type": "code",
   "execution_count": 40,
   "metadata": {},
   "outputs": [
    {
     "name": "stdout",
     "output_type": "stream",
     "text": [
      "loss                : ['0.51', '0.50', '0.50', '0.50', '0.49', '0.49']\n",
      "accuracy            : ['0.89', '0.90', '0.90', '0.90', '0.90', '0.90']\n",
      "val_loss            : ['0.40', '0.40', '0.39', '0.39', '0.39', '0.38']\n",
      "val_accuracy        : ['0.91', '0.91', '0.91', '0.91', '0.91', '0.91']\n"
     ]
    }
   ],
   "source": [
    "for key, val in tf_fit.history.items():\n",
    "    print( f'{key:20s}: {[ f\"{i:3.2f}\" for i in val[-6:]]}')"
   ]
  },
  {
   "cell_type": "code",
   "execution_count": 41,
   "metadata": {},
   "outputs": [
    {
     "data": {
      "text/plain": [
       "<matplotlib.legend.Legend at 0x1e0e1276dc0>"
      ]
     },
     "execution_count": 41,
     "metadata": {},
     "output_type": "execute_result"
    },
    {
     "data": {
      "image/png": "[encoded data removed]",
      "text/plain": [
       "<Figure size 864x360 with 2 Axes>"
      ]
     },
     "metadata": {
      "needs_background": "light"
     },
     "output_type": "display_data"
    }
   ],
   "source": [
    "hist = tf_fit.history\n",
    "\n",
    "fig = plt.figure(figsize=(12, 5))\n",
    "ax = fig.add_subplot(1, 2, 1)\n",
    "ax.plot(hist['loss'], lw=3)\n",
    "ax.plot(hist['val_loss'], lw=3)\n",
    "ax.set_title('Training loss', size=15)\n",
    "ax.set_xlabel('Epoch', size=15)\n",
    "ax.tick_params(axis='both', which='major', labelsize=15)\n",
    "ax.legend(['train','val'])\n",
    "\n",
    "ax = fig.add_subplot(1, 2, 2)\n",
    "ax.plot(hist['accuracy'], lw=3)\n",
    "ax.plot(hist['val_accuracy'], lw=3)\n",
    "ax.set_title('Training accuracy', size=15)\n",
    "ax.set_xlabel('Epoch', size=15)\n",
    "ax.tick_params(axis='both', which='major', labelsize=15)\n",
    "plt.tight_layout()\n",
    "ax.legend(['train','val'])"
   ]
  },
  {
   "cell_type": "markdown",
   "metadata": {},
   "source": [
    "## Model evaluation"
   ]
  },
  {
   "cell_type": "code",
   "execution_count": 42,
   "metadata": {},
   "outputs": [
    {
     "name": "stdout",
     "output_type": "stream",
     "text": [
      "Test loss: 0.4847   Test Acc.: 0.8889\n"
     ]
    }
   ],
   "source": [
    "results = model.evaluate(X_test_std, y_test, verbose=0)\n",
    "print(f'Test loss: {results[0]:.4f}   Test Acc.: {results[1]:.4f}')"
   ]
  },
  {
   "cell_type": "markdown",
   "metadata": {},
   "source": [
    "## Prediction"
   ]
  },
  {
   "cell_type": "code",
   "execution_count": 43,
   "metadata": {},
   "outputs": [
    {
     "name": "stdout",
     "output_type": "stream",
     "text": [
      "[[0.01516417 0.30543718 0.6793986 ]\n",
      " [0.7619554  0.19332662 0.04471803]\n",
      " [0.8042238  0.1610783  0.03469787]]\n"
     ]
    }
   ],
   "source": [
    "y_hat = model(X_test_std[:3])\n",
    "print(y_hat.numpy())"
   ]
  },
  {
   "cell_type": "code",
   "execution_count": 44,
   "metadata": {},
   "outputs": [
    {
     "data": {
      "image/png": "[encoded data removed]",
      "text/plain": [
       "<Figure size 432x288 with 1 Axes>"
      ]
     },
     "metadata": {
      "needs_background": "light"
     },
     "output_type": "display_data"
    }
   ],
   "source": [
    "yp = y_hat.numpy()[0]\n",
    "xp = list(range(yp.shape[0]))\n",
    "plt.bar(xp, yp)\n",
    "plt.title('Softmax Values')\n",
    "plt.show()"
   ]
  },
  {
   "cell_type": "code",
   "execution_count": 46,
   "metadata": {},
   "outputs": [
    {
     "data": {
      "text/plain": [
       "array([2, 0, 0], dtype=int64)"
      ]
     },
     "execution_count": 46,
     "metadata": {},
     "output_type": "execute_result"
    }
   ],
   "source": [
    "np.argmax(y_hat, axis=1)"
   ]
  },
  {
   "cell_type": "markdown",
   "metadata": {},
   "source": [
    "## Decision surface"
   ]
  },
  {
   "cell_type": "code",
   "execution_count": 45,
   "metadata": {},
   "outputs": [
    {
     "data": {
      "image/png": "[encoded data removed]",
      "text/plain": [
       "<Figure size 432x360 with 1 Axes>"
      ]
     },
     "metadata": {
      "needs_background": "light"
     },
     "output_type": "display_data"
    }
   ],
   "source": [
    "XP = sc.transform(X)\n",
    "x_min = XP[:, 0].min() - 0.1\n",
    "x_max = XP[:, 0].max() + 0.1\n",
    "y_min = XP[:, 1].min() - 0.1\n",
    "y_max = XP[:, 1].max() + 0.1\n",
    "\n",
    "xx, yy = np.meshgrid(np.linspace(x_min, x_max, 100), np.linspace(y_min, y_max, 100))\n",
    "f, ax = plt.subplots(1, 1, figsize=(6,5))\n",
    "Z = model.predict(np.c_[xx.ravel(), yy.ravel()])\n",
    "Z = np.argmax(Z, axis=1) # Find the class label\n",
    "Z = Z.reshape(xx.shape)\n",
    "\n",
    "ax.contourf(xx, yy, Z, alpha=0.3)\n",
    "markers = (\"s\", \"^\", \"o\", \"v\", \"x\")\n",
    "for idx, lb in enumerate(np.unique(y_test)):\n",
    "    ax.scatter(X_test_std[y_test==lb, 0], \n",
    "                X_test_std[y_test==lb, 1], \n",
    "                marker=markers[idx],\n",
    "                s=50)\n",
    "\n",
    "ax.set_title('ANN')\n",
    "ax.set_xlabel(\"X1\")\n",
    "ax.set_ylabel(\"X2\")\n",
    "plt.tight_layout(pad=3.0)\n",
    "plt.show()"
   ]
  }
 ],
 "metadata": {
  "kernelspec": {
   "display_name": "Python 3.9.12 ('tf')",
   "language": "python",
   "name": "python3"
  },
  "language_info": {
   "codemirror_mode": {
    "name": "ipython",
    "version": 3
   },
   "file_extension": ".py",
   "mimetype": "text/x-python",
   "name": "python",
   "nbconvert_exporter": "python",
   "pygments_lexer": "ipython3",
   "version": "3.9.12"
  },
  "orig_nbformat": 4,
  "vscode": {
   "interpreter": {
    "hash": "3f531f38061d288ff7109e336294c007d5438e97f3aa4943df1d0053d1256d75"
   }
  }
 },
 "nbformat": 4,
 "nbformat_minor": 2
}
