{
 "cells": [
  {
   "cell_type": "markdown",
   "source": [
    "# Chapter 13: Parallelizing Neural Network Training with TensorFlow  (Part 2/2)\n"
   ],
   "metadata": {}
  },
  {
   "cell_type": "markdown",
   "source": [
    "Note that the optional watermark extension is a small IPython notebook plugin that I developed to make the code reproducible. You can just skip the following line(s)."
   ],
   "metadata": {}
  },
  {
   "cell_type": "markdown",
   "source": [
    "## Building a neural network model in TensorFlow"
   ],
   "metadata": {}
  },
  {
   "cell_type": "markdown",
   "source": [
    "### The TensorFlow Keras API (tf.keras)"
   ],
   "metadata": {}
  },
  {
   "cell_type": "markdown",
   "source": [
    "### Building a linear regression model"
   ],
   "metadata": {}
  },
  {
   "cell_type": "code",
   "execution_count": 4,
   "source": [
    "import tensorflow as tf\r\n",
    "import numpy as np\r\n",
    "import matplotlib.pyplot as plt\r\n",
    "%matplotlib inline"
   ],
   "outputs": [],
   "metadata": {}
  },
  {
   "cell_type": "code",
   "execution_count": null,
   "source": [
    "X_train = np.arange(10).reshape((10, 1))\r\n",
    "y_train = np.array([1.0, 1.3, 3.1,\r\n",
    "                    2.0, 5.0, 6.3,\r\n",
    "                    6.6, 7.4, 8.0,\r\n",
    "                    9.0])\r\n",
    "\r\n",
    "\r\n",
    "plt.plot(X_train, y_train, 'o', markersize=10)\r\n",
    "plt.xlabel('x')\r\n",
    "plt.ylabel('y')\r\n",
    "plt.show()"
   ],
   "outputs": [],
   "metadata": {}
  },
  {
   "cell_type": "code",
   "execution_count": null,
   "source": [
    "X_train_norm = (X_train - np.mean(X_train))/np.std(X_train)\r\n",
    "\r\n",
    "ds_train_orig = tf.data.Dataset.from_tensor_slices(\r\n",
    "    (tf.cast(X_train_norm, tf.float32),\r\n",
    "     tf.cast(y_train, tf.float32)))"
   ],
   "outputs": [],
   "metadata": {}
  },
  {
   "cell_type": "code",
   "execution_count": null,
   "source": [
    "for x,y in ds_train_orig:\r\n",
    "    print(y.numpy())"
   ],
   "outputs": [],
   "metadata": {}
  },
  {
   "cell_type": "code",
   "execution_count": null,
   "source": [
    "class MyModel(tf.keras.Model):\r\n",
    "    def __init__(self):\r\n",
    "        super(MyModel, self).__init__()\r\n",
    "        self.w = tf.Variable(0.0, name='weight')\r\n",
    "        self.b = tf.Variable(0.0, name='bias')\r\n",
    "\r\n",
    "    def call(self, x):\r\n",
    "        return self.w*x + self.b\r\n",
    "\r\n",
    "\r\n",
    "model = MyModel()\r\n",
    "\r\n",
    "model.build(input_shape=(None, 1))\r\n",
    "model.summary()"
   ],
   "outputs": [],
   "metadata": {}
  },
  {
   "cell_type": "code",
   "execution_count": null,
   "source": [
    "def loss_fn(y_true, y_pred):\r\n",
    "    return tf.reduce_mean(tf.square(y_true - y_pred))\r\n",
    "\r\n",
    "\r\n",
    "## testing the function:\r\n",
    "yt = tf.convert_to_tensor([1.0])\r\n",
    "yp = tf.convert_to_tensor([1.5])\r\n",
    "\r\n",
    "loss_fn(yt, yp)"
   ],
   "outputs": [],
   "metadata": {}
  },
  {
   "cell_type": "code",
   "execution_count": null,
   "source": [
    "def train(model, inputs, outputs, learning_rate):\r\n",
    "    with tf.GradientTape() as tape:\r\n",
    "        current_loss = loss_fn(model(inputs), outputs)\r\n",
    "    dW, db = tape.gradient(current_loss, [model.w, model.b])\r\n",
    "    model.w.assign_sub(learning_rate * dW)\r\n",
    "    model.b.assign_sub(learning_rate * db)"
   ],
   "outputs": [],
   "metadata": {}
  },
  {
   "cell_type": "code",
   "execution_count": null,
   "source": [
    "tf.random.set_seed(1)\r\n",
    "\r\n",
    "num_epochs = 200\r\n",
    "log_steps = 100\r\n",
    "learning_rate = 0.001\r\n",
    "batch_size = 1\r\n",
    "steps_per_epoch = int(np.ceil(len(y_train) / batch_size))\r\n",
    "\r\n",
    "\r\n",
    "ds_train = ds_train_orig.shuffle(buffer_size=len(y_train))\r\n",
    "ds_train = ds_train.repeat(count=None)\r\n",
    "ds_train = ds_train.batch(1)\r\n",
    "\r\n",
    "Ws, bs = [], []\r\n",
    "\r\n",
    "for i, batch in enumerate(ds_train):\r\n",
    "    if i >= steps_per_epoch * num_epochs:\r\n",
    "        break\r\n",
    "    Ws.append(model.w.numpy())\r\n",
    "    bs.append(model.b.numpy())\r\n",
    "\r\n",
    "    bx, by = batch\r\n",
    "    loss_val = loss_fn(model(bx), by)\r\n",
    "\r\n",
    "    train(model, bx, by, learning_rate=learning_rate)\r\n",
    "    if i%log_steps==0:\r\n",
    "        print('Epoch {:4d} Step {:2d} Loss {:6.4f}'.format(\r\n",
    "              int(i/steps_per_epoch), i, loss_val))"
   ],
   "outputs": [],
   "metadata": {}
  },
  {
   "cell_type": "code",
   "execution_count": null,
   "source": [
    "print('Final Parameters:', model.w.numpy(), model.b.numpy())\r\n",
    "\r\n",
    "\r\n",
    "X_test = np.linspace(0, 9, num=100).reshape(-1, 1)\r\n",
    "X_test_norm = (X_test - np.mean(X_train)) / np.std(X_train)\r\n",
    "\r\n",
    "y_pred = model(tf.cast(X_test_norm, dtype=tf.float32))\r\n",
    "\r\n",
    "\r\n",
    "fig = plt.figure(figsize=(13, 5))\r\n",
    "ax = fig.add_subplot(1, 2, 1)\r\n",
    "plt.plot(X_train_norm, y_train, 'o', markersize=10)\r\n",
    "plt.plot(X_test_norm, y_pred, '--', lw=3)\r\n",
    "plt.legend(['Training examples', 'Linear Reg.'], fontsize=15)\r\n",
    "ax.set_xlabel('x', size=15)\r\n",
    "ax.set_ylabel('y', size=15)\r\n",
    "ax.tick_params(axis='both', which='major', labelsize=15)\r\n",
    "\r\n",
    "ax = fig.add_subplot(1, 2, 2)\r\n",
    "plt.plot(Ws, lw=3)\r\n",
    "plt.plot(bs, lw=3)\r\n",
    "plt.legend(['Weight w', 'Bias unit b'], fontsize=15)\r\n",
    "ax.set_xlabel('Iteration', size=15)\r\n",
    "ax.set_ylabel('Value', size=15)\r\n",
    "ax.tick_params(axis='both', which='major', labelsize=15)\r\n",
    "#plt.savefig('ch13-linreg-1.pdf')\r\n",
    "\r\n",
    "plt.show()"
   ],
   "outputs": [],
   "metadata": {}
  },
  {
   "cell_type": "markdown",
   "source": [
    "### Model training via the .compile() and .fit() methods"
   ],
   "metadata": {}
  },
  {
   "cell_type": "code",
   "execution_count": null,
   "source": [
    "tf.random.set_seed(1)\r\n",
    "model = MyModel()\r\n",
    "#model.build((None, 1))\r\n",
    "\r\n",
    "model.compile(optimizer='sgd', \r\n",
    "              loss=loss_fn,\r\n",
    "              metrics=['mae', 'mse'])"
   ],
   "outputs": [],
   "metadata": {}
  },
  {
   "cell_type": "code",
   "execution_count": null,
   "source": [
    "model.fit(X_train_norm, y_train, \r\n",
    "          epochs=num_epochs, batch_size=batch_size,\r\n",
    "          verbose=1)\r\n"
   ],
   "outputs": [],
   "metadata": {}
  },
  {
   "cell_type": "code",
   "execution_count": null,
   "source": [
    "print(model.w.numpy(), model.b.numpy())\r\n",
    "\r\n",
    "\r\n",
    "X_test = np.linspace(0, 9, num=100).reshape(-1, 1)\r\n",
    "X_test_norm = (X_test - np.mean(X_train)) / np.std(X_train)\r\n",
    "\r\n",
    "y_pred = model(tf.cast(X_test_norm, dtype=tf.float32))\r\n",
    "\r\n",
    "\r\n",
    "fig = plt.figure(figsize=(13, 5))\r\n",
    "ax = fig.add_subplot(1, 2, 1)\r\n",
    "plt.plot(X_train_norm, y_train, 'o', markersize=10)\r\n",
    "plt.plot(X_test_norm, y_pred, '--', lw=3)\r\n",
    "plt.legend(['Training Samples', 'Linear Regression'], fontsize=15)\r\n",
    "\r\n",
    "ax = fig.add_subplot(1, 2, 2)\r\n",
    "plt.plot(Ws, lw=3)\r\n",
    "plt.plot(bs, lw=3)\r\n",
    "plt.legend(['W', 'bias'], fontsize=15)\r\n",
    "plt.show()"
   ],
   "outputs": [],
   "metadata": {}
  },
  {
   "cell_type": "markdown",
   "source": [
    "## Building a multilayer perceptron for classifying flowers in the Iris dataset"
   ],
   "metadata": {}
  },
  {
   "cell_type": "code",
   "execution_count": 2,
   "source": [
    "import tensorflow_datasets as tfds\r\n",
    "\r\n",
    "iris, iris_info = tfds.load('iris', with_info=True)\r\n",
    "\r\n",
    "print(iris_info)"
   ],
   "outputs": [
    {
     "output_type": "stream",
     "name": "stderr",
     "text": [
      "Dl Completed...:   0%|          | 0/1 [00:00<?, ? url/s]"
     ]
    },
    {
     "output_type": "stream",
     "name": "stdout",
     "text": [
      "\u001b[1mDownloading and preparing dataset Unknown size (download: Unknown size, generated: Unknown size, total: Unknown size) to C:\\Users\\nnnpo\\tensorflow_datasets\\iris\\2.0.0...\u001b[0m\n"
     ]
    },
    {
     "output_type": "stream",
     "name": "stderr",
     "text": [
      "Dl Size...: 0 MiB [00:00, ? MiB/s]\n",
      "Dl Completed...: 100%|██████████| 1/1 [00:00<00:00,  1.09 url/s]\n",
      "                                                                "
     ]
    },
    {
     "output_type": "stream",
     "name": "stdout",
     "text": [
      "\u001b[1mDataset iris downloaded and prepared to C:\\Users\\nnnpo\\tensorflow_datasets\\iris\\2.0.0. Subsequent calls will reuse this data.\u001b[0m\n",
      "tfds.core.DatasetInfo(\n",
      "    name='iris',\n",
      "    full_name='iris/2.0.0',\n",
      "    description=\"\"\"\n",
      "    This is perhaps the best known database to be found in the pattern recognition\n",
      "    literature. Fisher's paper is a classic in the field and is referenced\n",
      "    frequently to this day. (See Duda & Hart, for example.) The data set contains\n",
      "    3 classes of 50 instances each, where each class refers to a type of iris\n",
      "    plant. One class is linearly separable from the other 2; the latter are NOT\n",
      "    linearly separable from each other.\n",
      "    \"\"\",\n",
      "    homepage='https://archive.ics.uci.edu/ml/datasets/iris',\n",
      "    data_path='C:\\\\Users\\\\nnnpo\\\\tensorflow_datasets\\\\iris\\\\2.0.0',\n",
      "    download_size=4.44 KiB,\n",
      "    dataset_size=7.62 KiB,\n",
      "    features=FeaturesDict({\n",
      "        'features': Tensor(shape=(4,), dtype=tf.float32),\n",
      "        'label': ClassLabel(shape=(), dtype=tf.int64, num_classes=3),\n",
      "    }),\n",
      "    supervised_keys=('features', 'label'),\n",
      "    disable_shuffling=False,\n",
      "    splits={\n",
      "        'train': <SplitInfo num_examples=150, num_shards=1>,\n",
      "    },\n",
      "    citation=\"\"\"@misc{Dua:2019 ,\n",
      "    author = \"Dua, Dheeru and Graff, Casey\",\n",
      "    year = \"2017\",\n",
      "    title = \"{UCI} Machine Learning Repository\",\n",
      "    url = \"http://archive.ics.uci.edu/ml\",\n",
      "    institution = \"University of California, Irvine, School of Information and Computer Sciences\"\n",
      "    }\"\"\",\n",
      ")\n"
     ]
    },
    {
     "output_type": "stream",
     "name": "stderr",
     "text": []
    }
   ],
   "metadata": {}
  },
  {
   "cell_type": "code",
   "execution_count": 5,
   "source": [
    "tf.random.set_seed(1)\r\n",
    "\r\n",
    "ds_orig = iris['train']\r\n",
    "ds_orig = ds_orig.shuffle(150, reshuffle_each_iteration=False)\r\n",
    "\r\n",
    "print(next(iter(ds_orig)))\r\n",
    "\r\n",
    "ds_train_orig = ds_orig.take(100)\r\n",
    "ds_test = ds_orig.skip(100)"
   ],
   "outputs": [
    {
     "output_type": "stream",
     "name": "stdout",
     "text": [
      "{'features': <tf.Tensor: shape=(4,), dtype=float32, numpy=array([6.5, 3. , 5.2, 2. ], dtype=float32)>, 'label': <tf.Tensor: shape=(), dtype=int64, numpy=2>}\n"
     ]
    }
   ],
   "metadata": {}
  },
  {
   "cell_type": "code",
   "execution_count": 6,
   "source": [
    "ds_orig = iris['train']\r\n",
    "ds_orig = ds_orig.shuffle(150, reshuffle_each_iteration=False)\r\n",
    "print(type(ds_orig))"
   ],
   "outputs": [
    {
     "output_type": "stream",
     "name": "stdout",
     "text": [
      "<class 'tensorflow.python.data.ops.dataset_ops.ShuffleDataset'>\n"
     ]
    }
   ],
   "metadata": {}
  },
  {
   "cell_type": "code",
   "execution_count": 7,
   "source": [
    "## checking the number of examples:\r\n",
    "\r\n",
    "n = 0\r\n",
    "for example in ds_train_orig:\r\n",
    "    n += 1\r\n",
    "print(n)\r\n",
    "\r\n",
    "\r\n",
    "n = 0\r\n",
    "for example in ds_test:\r\n",
    "    n += 1\r\n",
    "print(n)"
   ],
   "outputs": [
    {
     "output_type": "stream",
     "name": "stdout",
     "text": [
      "100\n",
      "50\n"
     ]
    }
   ],
   "metadata": {}
  },
  {
   "cell_type": "code",
   "execution_count": 8,
   "source": [
    "ds_train_orig = ds_train_orig.map(\r\n",
    "    lambda x: (x['features'], x['label']))\r\n",
    "\r\n",
    "ds_test = ds_test.map(\r\n",
    "    lambda x: (x['features'], x['label']))\r\n",
    "\r\n",
    "next(iter(ds_train_orig))"
   ],
   "outputs": [
    {
     "output_type": "stream",
     "name": "stdout",
     "text": [
      "WARNING:tensorflow:AutoGraph could not transform <function <lambda> at 0x000001926EF05940> and will run it as-is.\n",
      "Please report this to the TensorFlow team. When filing the bug, set the verbosity to 10 (on Linux, `export AUTOGRAPH_VERBOSITY=10`) and attach the full output.\n",
      "Cause: module 'gast' has no attribute 'Index'\n",
      "To silence this warning, decorate the function with @tf.autograph.experimental.do_not_convert\n"
     ]
    },
    {
     "output_type": "stream",
     "name": "stderr",
     "text": [
      "WARNING:tensorflow:AutoGraph could not transform <function <lambda> at 0x000001926EF05940> and will run it as-is.\n",
      "Please report this to the TensorFlow team. When filing the bug, set the verbosity to 10 (on Linux, `export AUTOGRAPH_VERBOSITY=10`) and attach the full output.\n",
      "Cause: module 'gast' has no attribute 'Index'\n",
      "To silence this warning, decorate the function with @tf.autograph.experimental.do_not_convert\n"
     ]
    },
    {
     "output_type": "stream",
     "name": "stdout",
     "text": [
      "WARNING: AutoGraph could not transform <function <lambda> at 0x000001926EF05940> and will run it as-is.\n",
      "Please report this to the TensorFlow team. When filing the bug, set the verbosity to 10 (on Linux, `export AUTOGRAPH_VERBOSITY=10`) and attach the full output.\n",
      "Cause: module 'gast' has no attribute 'Index'\n",
      "To silence this warning, decorate the function with @tf.autograph.experimental.do_not_convert\n",
      "WARNING:tensorflow:AutoGraph could not transform <function <lambda> at 0x000001926EF05B80> and will run it as-is.\n",
      "Please report this to the TensorFlow team. When filing the bug, set the verbosity to 10 (on Linux, `export AUTOGRAPH_VERBOSITY=10`) and attach the full output.\n",
      "Cause: module 'gast' has no attribute 'Index'\n",
      "To silence this warning, decorate the function with @tf.autograph.experimental.do_not_convert\n"
     ]
    },
    {
     "output_type": "stream",
     "name": "stderr",
     "text": [
      "WARNING:tensorflow:AutoGraph could not transform <function <lambda> at 0x000001926EF05B80> and will run it as-is.\n",
      "Please report this to the TensorFlow team. When filing the bug, set the verbosity to 10 (on Linux, `export AUTOGRAPH_VERBOSITY=10`) and attach the full output.\n",
      "Cause: module 'gast' has no attribute 'Index'\n",
      "To silence this warning, decorate the function with @tf.autograph.experimental.do_not_convert\n"
     ]
    },
    {
     "output_type": "stream",
     "name": "stdout",
     "text": [
      "WARNING: AutoGraph could not transform <function <lambda> at 0x000001926EF05B80> and will run it as-is.\n",
      "Please report this to the TensorFlow team. When filing the bug, set the verbosity to 10 (on Linux, `export AUTOGRAPH_VERBOSITY=10`) and attach the full output.\n",
      "Cause: module 'gast' has no attribute 'Index'\n",
      "To silence this warning, decorate the function with @tf.autograph.experimental.do_not_convert\n"
     ]
    },
    {
     "output_type": "execute_result",
     "data": {
      "text/plain": [
       "(<tf.Tensor: shape=(4,), dtype=float32, numpy=array([6.5, 3. , 5.2, 2. ], dtype=float32)>,\n",
       " <tf.Tensor: shape=(), dtype=int64, numpy=2>)"
      ]
     },
     "metadata": {},
     "execution_count": 8
    }
   ],
   "metadata": {}
  },
  {
   "cell_type": "code",
   "execution_count": 9,
   "source": [
    "iris_model = tf.keras.Sequential([\r\n",
    "    tf.keras.layers.Dense(16, activation='sigmoid', \r\n",
    "                          name='fc1', input_shape=(4,)),\r\n",
    "    tf.keras.layers.Dense(3, name='fc2', activation='softmax')])\r\n",
    "\r\n",
    "iris_model.summary()"
   ],
   "outputs": [
    {
     "output_type": "stream",
     "name": "stdout",
     "text": [
      "Model: \"sequential\"\n",
      "_________________________________________________________________\n",
      "Layer (type)                 Output Shape              Param #   \n",
      "=================================================================\n",
      "fc1 (Dense)                  (None, 16)                80        \n",
      "_________________________________________________________________\n",
      "fc2 (Dense)                  (None, 3)                 51        \n",
      "=================================================================\n",
      "Total params: 131\n",
      "Trainable params: 131\n",
      "Non-trainable params: 0\n",
      "_________________________________________________________________\n"
     ]
    }
   ],
   "metadata": {}
  },
  {
   "cell_type": "code",
   "execution_count": 10,
   "source": [
    "iris_model.compile(optimizer='adam',\r\n",
    "                   loss='sparse_categorical_crossentropy',\r\n",
    "                   metrics=['accuracy'])"
   ],
   "outputs": [],
   "metadata": {}
  },
  {
   "cell_type": "code",
   "execution_count": 11,
   "source": [
    "num_epochs = 100\r\n",
    "training_size = 100\r\n",
    "batch_size = 2\r\n",
    "steps_per_epoch = np.ceil(training_size / batch_size)\r\n",
    "\r\n",
    "ds_train = ds_train_orig.shuffle(buffer_size=training_size)\r\n",
    "ds_train = ds_train.repeat()\r\n",
    "ds_train = ds_train.batch(batch_size=batch_size)\r\n",
    "ds_train = ds_train.prefetch(buffer_size=1000)\r\n",
    "\r\n",
    "\r\n",
    "history = iris_model.fit(ds_train, epochs=num_epochs,\r\n",
    "                         steps_per_epoch=steps_per_epoch, \r\n",
    "                         verbose=0)"
   ],
   "outputs": [],
   "metadata": {}
  },
  {
   "cell_type": "code",
   "execution_count": 12,
   "source": [
    "hist = history.history\r\n",
    "\r\n",
    "fig = plt.figure(figsize=(12, 5))\r\n",
    "ax = fig.add_subplot(1, 2, 1)\r\n",
    "ax.plot(hist['loss'], lw=3)\r\n",
    "ax.set_title('Training loss', size=15)\r\n",
    "ax.set_xlabel('Epoch', size=15)\r\n",
    "ax.tick_params(axis='both', which='major', labelsize=15)\r\n",
    "\r\n",
    "ax = fig.add_subplot(1, 2, 2)\r\n",
    "ax.plot(hist['accuracy'], lw=3)\r\n",
    "ax.set_title('Training accuracy', size=15)\r\n",
    "ax.set_xlabel('Epoch', size=15)\r\n",
    "ax.tick_params(axis='both', which='major', labelsize=15)\r\n",
    "plt.tight_layout()\r\n",
    "#plt.savefig('ch13-cls-learning-curve.pdf')\r\n",
    "\r\n",
    "plt.show()"
   ],
   "outputs": [
    {
     "output_type": "display_data",
     "data": {
      "image/png": "[encoded data removed]",
      "image/svg+xml": "<?xml version=\"1.0\" encoding=\"utf-8\" standalone=\"no\"?>\r\n<!DOCTYPE svg PUBLIC \"-//W3C//DTD SVG 1.1//EN\"\r\n  \"http://www.w3.org/Graphics/SVG/1.1/DTD/svg11.dtd\">\r\n<svg height=\"351.232031pt\" version=\"1.1\" viewBox=\"0 0 854.160111 351.232031\" width=\"854.160111pt\" xmlns=\"http://www.w3.org/2000/svg\" xmlns:xlink=\"http://www.w3.org/1999/xlink\">\r\n <metadata>\r\n  <rdf:RDF xmlns:cc=\"http://creativecommons.org/ns#\" xmlns:dc=\"http://purl.org/dc/elements/1.1/\" xmlns:rdf=\"http://www.w3.org/1999/02/22-rdf-syntax-ns#\">\r\n   <cc:Work>\r\n    <dc:type rdf:resource=\"http://purl.org/dc/dcmitype/StillImage\"/>\r\n    <dc:date>2021-08-18T14:08:10.860793</dc:date>\r\n    <dc:format>image/svg+xml</dc:format>\r\n    <dc:creator>\r\n     <cc:Agent>\r\n      <dc:title>Matplotlib v3.4.3, https://matplotlib.org/</dc:title>\r\n     </cc:Agent>\r\n    </dc:creator>\r\n   </cc:Work>\r\n  </rdf:RDF>\r\n </metadata>\r\n <defs>\r\n  <style type=\"text/css\">*{stroke-linecap:butt;stroke-linejoin:round;}</style>\r\n </defs>\r\n <g id=\"figure_1\">\r\n  <g id=\"patch_1\">\r\n   <path d=\"M -0 351.232031 \r\nL 854.160111 351.232031 \r\nL 854.160111 0 \r\nL -0 0 \r\nz\r\n\" style=\"fill:none;\"/>\r\n  </g>\r\n  <g id=\"axes_1\">\r\n   <g id=\"patch_2\">\r\n    <path d=\"M 38.054688 303.997656 \r\nL 419.894507 303.997656 \r\nL 419.894507 24.597656 \r\nL 38.054688 24.597656 \r\nz\r\n\" style=\"fill:#ffffff;\"/>\r\n   </g>\r\n   <g id=\"matplotlib.axis_1\">\r\n    <g id=\"xtick_1\">\r\n     <g id=\"line2d_1\">\r\n      <defs>\r\n       <path d=\"M 0 0 \r\nL 0 3.5 \r\n\" id=\"md927c736b7\" style=\"stroke:#000000;stroke-width:0.8;\"/>\r\n      </defs>\r\n      <g>\r\n       <use style=\"stroke:#000000;stroke-width:0.8;\" x=\"55.411043\" xlink:href=\"#md927c736b7\" y=\"303.997656\"/>\r\n      </g>\r\n     </g>\r\n     <g id=\"text_1\">\r\n      <!-- 0 -->\r\n      <g transform=\"translate(50.639168 322.395312)scale(0.15 -0.15)\">\r\n       <defs>\r\n        <path d=\"M 2034 4250 \r\nQ 1547 4250 1301 3770 \r\nQ 1056 3291 1056 2328 \r\nQ 1056 1369 1301 889 \r\nQ 1547 409 2034 409 \r\nQ 2525 409 2770 889 \r\nQ 3016 1369 3016 2328 \r\nQ 3016 3291 2770 3770 \r\nQ 2525 4250 2034 4250 \r\nz\r\nM 2034 4750 \r\nQ 2819 4750 3233 4129 \r\nQ 3647 3509 3647 2328 \r\nQ 3647 1150 3233 529 \r\nQ 2819 -91 2034 -91 \r\nQ 1250 -91 836 529 \r\nQ 422 1150 422 2328 \r\nQ 422 3509 836 4129 \r\nQ 1250 4750 2034 4750 \r\nz\r\n\" id=\"DejaVuSans-30\" transform=\"scale(0.015625)\"/>\r\n       </defs>\r\n       <use xlink:href=\"#DejaVuSans-30\"/>\r\n      </g>\r\n     </g>\r\n    </g>\r\n    <g id=\"xtick_2\">\r\n     <g id=\"line2d_2\">\r\n      <g>\r\n       <use style=\"stroke:#000000;stroke-width:0.8;\" x=\"125.537732\" xlink:href=\"#md927c736b7\" y=\"303.997656\"/>\r\n      </g>\r\n     </g>\r\n     <g id=\"text_2\">\r\n      <!-- 20 -->\r\n      <g transform=\"translate(115.993982 322.395312)scale(0.15 -0.15)\">\r\n       <defs>\r\n        <path d=\"M 1228 531 \r\nL 3431 531 \r\nL 3431 0 \r\nL 469 0 \r\nL 469 531 \r\nQ 828 903 1448 1529 \r\nQ 2069 2156 2228 2338 \r\nQ 2531 2678 2651 2914 \r\nQ 2772 3150 2772 3378 \r\nQ 2772 3750 2511 3984 \r\nQ 2250 4219 1831 4219 \r\nQ 1534 4219 1204 4116 \r\nQ 875 4013 500 3803 \r\nL 500 4441 \r\nQ 881 4594 1212 4672 \r\nQ 1544 4750 1819 4750 \r\nQ 2544 4750 2975 4387 \r\nQ 3406 4025 3406 3419 \r\nQ 3406 3131 3298 2873 \r\nQ 3191 2616 2906 2266 \r\nQ 2828 2175 2409 1742 \r\nQ 1991 1309 1228 531 \r\nz\r\n\" id=\"DejaVuSans-32\" transform=\"scale(0.015625)\"/>\r\n       </defs>\r\n       <use xlink:href=\"#DejaVuSans-32\"/>\r\n       <use x=\"63.623047\" xlink:href=\"#DejaVuSans-30\"/>\r\n      </g>\r\n     </g>\r\n    </g>\r\n    <g id=\"xtick_3\">\r\n     <g id=\"line2d_3\">\r\n      <g>\r\n       <use style=\"stroke:#000000;stroke-width:0.8;\" x=\"195.66442\" xlink:href=\"#md927c736b7\" y=\"303.997656\"/>\r\n      </g>\r\n     </g>\r\n     <g id=\"text_3\">\r\n      <!-- 40 -->\r\n      <g transform=\"translate(186.12067 322.395312)scale(0.15 -0.15)\">\r\n       <defs>\r\n        <path d=\"M 2419 4116 \r\nL 825 1625 \r\nL 2419 1625 \r\nL 2419 4116 \r\nz\r\nM 2253 4666 \r\nL 3047 4666 \r\nL 3047 1625 \r\nL 3713 1625 \r\nL 3713 1100 \r\nL 3047 1100 \r\nL 3047 0 \r\nL 2419 0 \r\nL 2419 1100 \r\nL 313 1100 \r\nL 313 1709 \r\nL 2253 4666 \r\nz\r\n\" id=\"DejaVuSans-34\" transform=\"scale(0.015625)\"/>\r\n       </defs>\r\n       <use xlink:href=\"#DejaVuSans-34\"/>\r\n       <use x=\"63.623047\" xlink:href=\"#DejaVuSans-30\"/>\r\n      </g>\r\n     </g>\r\n    </g>\r\n    <g id=\"xtick_4\">\r\n     <g id=\"line2d_4\">\r\n      <g>\r\n       <use style=\"stroke:#000000;stroke-width:0.8;\" x=\"265.791109\" xlink:href=\"#md927c736b7\" y=\"303.997656\"/>\r\n      </g>\r\n     </g>\r\n     <g id=\"text_4\">\r\n      <!-- 60 -->\r\n      <g transform=\"translate(256.247359 322.395312)scale(0.15 -0.15)\">\r\n       <defs>\r\n        <path d=\"M 2113 2584 \r\nQ 1688 2584 1439 2293 \r\nQ 1191 2003 1191 1497 \r\nQ 1191 994 1439 701 \r\nQ 1688 409 2113 409 \r\nQ 2538 409 2786 701 \r\nQ 3034 994 3034 1497 \r\nQ 3034 2003 2786 2293 \r\nQ 2538 2584 2113 2584 \r\nz\r\nM 3366 4563 \r\nL 3366 3988 \r\nQ 3128 4100 2886 4159 \r\nQ 2644 4219 2406 4219 \r\nQ 1781 4219 1451 3797 \r\nQ 1122 3375 1075 2522 \r\nQ 1259 2794 1537 2939 \r\nQ 1816 3084 2150 3084 \r\nQ 2853 3084 3261 2657 \r\nQ 3669 2231 3669 1497 \r\nQ 3669 778 3244 343 \r\nQ 2819 -91 2113 -91 \r\nQ 1303 -91 875 529 \r\nQ 447 1150 447 2328 \r\nQ 447 3434 972 4092 \r\nQ 1497 4750 2381 4750 \r\nQ 2619 4750 2861 4703 \r\nQ 3103 4656 3366 4563 \r\nz\r\n\" id=\"DejaVuSans-36\" transform=\"scale(0.015625)\"/>\r\n       </defs>\r\n       <use xlink:href=\"#DejaVuSans-36\"/>\r\n       <use x=\"63.623047\" xlink:href=\"#DejaVuSans-30\"/>\r\n      </g>\r\n     </g>\r\n    </g>\r\n    <g id=\"xtick_5\">\r\n     <g id=\"line2d_5\">\r\n      <g>\r\n       <use style=\"stroke:#000000;stroke-width:0.8;\" x=\"335.917798\" xlink:href=\"#md927c736b7\" y=\"303.997656\"/>\r\n      </g>\r\n     </g>\r\n     <g id=\"text_5\">\r\n      <!-- 80 -->\r\n      <g transform=\"translate(326.374048 322.395312)scale(0.15 -0.15)\">\r\n       <defs>\r\n        <path d=\"M 2034 2216 \r\nQ 1584 2216 1326 1975 \r\nQ 1069 1734 1069 1313 \r\nQ 1069 891 1326 650 \r\nQ 1584 409 2034 409 \r\nQ 2484 409 2743 651 \r\nQ 3003 894 3003 1313 \r\nQ 3003 1734 2745 1975 \r\nQ 2488 2216 2034 2216 \r\nz\r\nM 1403 2484 \r\nQ 997 2584 770 2862 \r\nQ 544 3141 544 3541 \r\nQ 544 4100 942 4425 \r\nQ 1341 4750 2034 4750 \r\nQ 2731 4750 3128 4425 \r\nQ 3525 4100 3525 3541 \r\nQ 3525 3141 3298 2862 \r\nQ 3072 2584 2669 2484 \r\nQ 3125 2378 3379 2068 \r\nQ 3634 1759 3634 1313 \r\nQ 3634 634 3220 271 \r\nQ 2806 -91 2034 -91 \r\nQ 1263 -91 848 271 \r\nQ 434 634 434 1313 \r\nQ 434 1759 690 2068 \r\nQ 947 2378 1403 2484 \r\nz\r\nM 1172 3481 \r\nQ 1172 3119 1398 2916 \r\nQ 1625 2713 2034 2713 \r\nQ 2441 2713 2670 2916 \r\nQ 2900 3119 2900 3481 \r\nQ 2900 3844 2670 4047 \r\nQ 2441 4250 2034 4250 \r\nQ 1625 4250 1398 4047 \r\nQ 1172 3844 1172 3481 \r\nz\r\n\" id=\"DejaVuSans-38\" transform=\"scale(0.015625)\"/>\r\n       </defs>\r\n       <use xlink:href=\"#DejaVuSans-38\"/>\r\n       <use x=\"63.623047\" xlink:href=\"#DejaVuSans-30\"/>\r\n      </g>\r\n     </g>\r\n    </g>\r\n    <g id=\"xtick_6\">\r\n     <g id=\"line2d_6\">\r\n      <g>\r\n       <use style=\"stroke:#000000;stroke-width:0.8;\" x=\"406.044486\" xlink:href=\"#md927c736b7\" y=\"303.997656\"/>\r\n      </g>\r\n     </g>\r\n     <g id=\"text_6\">\r\n      <!-- 100 -->\r\n      <g transform=\"translate(391.728861 322.395312)scale(0.15 -0.15)\">\r\n       <defs>\r\n        <path d=\"M 794 531 \r\nL 1825 531 \r\nL 1825 4091 \r\nL 703 3866 \r\nL 703 4441 \r\nL 1819 4666 \r\nL 2450 4666 \r\nL 2450 531 \r\nL 3481 531 \r\nL 3481 0 \r\nL 794 0 \r\nL 794 531 \r\nz\r\n\" id=\"DejaVuSans-31\" transform=\"scale(0.015625)\"/>\r\n       </defs>\r\n       <use xlink:href=\"#DejaVuSans-31\"/>\r\n       <use x=\"63.623047\" xlink:href=\"#DejaVuSans-30\"/>\r\n       <use x=\"127.246094\" xlink:href=\"#DejaVuSans-30\"/>\r\n      </g>\r\n     </g>\r\n    </g>\r\n    <g id=\"text_7\">\r\n     <!-- Epoch -->\r\n     <g transform=\"translate(206.008191 340.9125)scale(0.15 -0.15)\">\r\n      <defs>\r\n       <path d=\"M 628 4666 \r\nL 3578 4666 \r\nL 3578 4134 \r\nL 1259 4134 \r\nL 1259 2753 \r\nL 3481 2753 \r\nL 3481 2222 \r\nL 1259 2222 \r\nL 1259 531 \r\nL 3634 531 \r\nL 3634 0 \r\nL 628 0 \r\nL 628 4666 \r\nz\r\n\" id=\"DejaVuSans-45\" transform=\"scale(0.015625)\"/>\r\n       <path d=\"M 1159 525 \r\nL 1159 -1331 \r\nL 581 -1331 \r\nL 581 3500 \r\nL 1159 3500 \r\nL 1159 2969 \r\nQ 1341 3281 1617 3432 \r\nQ 1894 3584 2278 3584 \r\nQ 2916 3584 3314 3078 \r\nQ 3713 2572 3713 1747 \r\nQ 3713 922 3314 415 \r\nQ 2916 -91 2278 -91 \r\nQ 1894 -91 1617 61 \r\nQ 1341 213 1159 525 \r\nz\r\nM 3116 1747 \r\nQ 3116 2381 2855 2742 \r\nQ 2594 3103 2138 3103 \r\nQ 1681 3103 1420 2742 \r\nQ 1159 2381 1159 1747 \r\nQ 1159 1113 1420 752 \r\nQ 1681 391 2138 391 \r\nQ 2594 391 2855 752 \r\nQ 3116 1113 3116 1747 \r\nz\r\n\" id=\"DejaVuSans-70\" transform=\"scale(0.015625)\"/>\r\n       <path d=\"M 1959 3097 \r\nQ 1497 3097 1228 2736 \r\nQ 959 2375 959 1747 \r\nQ 959 1119 1226 758 \r\nQ 1494 397 1959 397 \r\nQ 2419 397 2687 759 \r\nQ 2956 1122 2956 1747 \r\nQ 2956 2369 2687 2733 \r\nQ 2419 3097 1959 3097 \r\nz\r\nM 1959 3584 \r\nQ 2709 3584 3137 3096 \r\nQ 3566 2609 3566 1747 \r\nQ 3566 888 3137 398 \r\nQ 2709 -91 1959 -91 \r\nQ 1206 -91 779 398 \r\nQ 353 888 353 1747 \r\nQ 353 2609 779 3096 \r\nQ 1206 3584 1959 3584 \r\nz\r\n\" id=\"DejaVuSans-6f\" transform=\"scale(0.015625)\"/>\r\n       <path d=\"M 3122 3366 \r\nL 3122 2828 \r\nQ 2878 2963 2633 3030 \r\nQ 2388 3097 2138 3097 \r\nQ 1578 3097 1268 2742 \r\nQ 959 2388 959 1747 \r\nQ 959 1106 1268 751 \r\nQ 1578 397 2138 397 \r\nQ 2388 397 2633 464 \r\nQ 2878 531 3122 666 \r\nL 3122 134 \r\nQ 2881 22 2623 -34 \r\nQ 2366 -91 2075 -91 \r\nQ 1284 -91 818 406 \r\nQ 353 903 353 1747 \r\nQ 353 2603 823 3093 \r\nQ 1294 3584 2113 3584 \r\nQ 2378 3584 2631 3529 \r\nQ 2884 3475 3122 3366 \r\nz\r\n\" id=\"DejaVuSans-63\" transform=\"scale(0.015625)\"/>\r\n       <path d=\"M 3513 2113 \r\nL 3513 0 \r\nL 2938 0 \r\nL 2938 2094 \r\nQ 2938 2591 2744 2837 \r\nQ 2550 3084 2163 3084 \r\nQ 1697 3084 1428 2787 \r\nQ 1159 2491 1159 1978 \r\nL 1159 0 \r\nL 581 0 \r\nL 581 4863 \r\nL 1159 4863 \r\nL 1159 2956 \r\nQ 1366 3272 1645 3428 \r\nQ 1925 3584 2291 3584 \r\nQ 2894 3584 3203 3211 \r\nQ 3513 2838 3513 2113 \r\nz\r\n\" id=\"DejaVuSans-68\" transform=\"scale(0.015625)\"/>\r\n      </defs>\r\n      <use xlink:href=\"#DejaVuSans-45\"/>\r\n      <use x=\"63.183594\" xlink:href=\"#DejaVuSans-70\"/>\r\n      <use x=\"126.660156\" xlink:href=\"#DejaVuSans-6f\"/>\r\n      <use x=\"187.841797\" xlink:href=\"#DejaVuSans-63\"/>\r\n      <use x=\"242.822266\" xlink:href=\"#DejaVuSans-68\"/>\r\n     </g>\r\n    </g>\r\n   </g>\r\n   <g id=\"matplotlib.axis_2\">\r\n    <g id=\"ytick_1\">\r\n     <g id=\"line2d_7\">\r\n      <defs>\r\n       <path d=\"M 0 0 \r\nL -3.5 0 \r\n\" id=\"mf60687bdaf\" style=\"stroke:#000000;stroke-width:0.8;\"/>\r\n      </defs>\r\n      <g>\r\n       <use style=\"stroke:#000000;stroke-width:0.8;\" x=\"38.054688\" xlink:href=\"#mf60687bdaf\" y=\"277.913369\"/>\r\n      </g>\r\n     </g>\r\n     <g id=\"text_8\">\r\n      <!-- 0.2 -->\r\n      <g transform=\"translate(7.2 283.612197)scale(0.15 -0.15)\">\r\n       <defs>\r\n        <path d=\"M 684 794 \r\nL 1344 794 \r\nL 1344 0 \r\nL 684 0 \r\nL 684 794 \r\nz\r\n\" id=\"DejaVuSans-2e\" transform=\"scale(0.015625)\"/>\r\n       </defs>\r\n       <use xlink:href=\"#DejaVuSans-30\"/>\r\n       <use x=\"63.623047\" xlink:href=\"#DejaVuSans-2e\"/>\r\n       <use x=\"95.410156\" xlink:href=\"#DejaVuSans-32\"/>\r\n      </g>\r\n     </g>\r\n    </g>\r\n    <g id=\"ytick_2\">\r\n     <g id=\"line2d_8\">\r\n      <g>\r\n       <use style=\"stroke:#000000;stroke-width:0.8;\" x=\"38.054688\" xlink:href=\"#mf60687bdaf\" y=\"220.63243\"/>\r\n      </g>\r\n     </g>\r\n     <g id=\"text_9\">\r\n      <!-- 0.4 -->\r\n      <g transform=\"translate(7.2 226.331259)scale(0.15 -0.15)\">\r\n       <use xlink:href=\"#DejaVuSans-30\"/>\r\n       <use x=\"63.623047\" xlink:href=\"#DejaVuSans-2e\"/>\r\n       <use x=\"95.410156\" xlink:href=\"#DejaVuSans-34\"/>\r\n      </g>\r\n     </g>\r\n    </g>\r\n    <g id=\"ytick_3\">\r\n     <g id=\"line2d_9\">\r\n      <g>\r\n       <use style=\"stroke:#000000;stroke-width:0.8;\" x=\"38.054688\" xlink:href=\"#mf60687bdaf\" y=\"163.351492\"/>\r\n      </g>\r\n     </g>\r\n     <g id=\"text_10\">\r\n      <!-- 0.6 -->\r\n      <g transform=\"translate(7.2 169.05032)scale(0.15 -0.15)\">\r\n       <use xlink:href=\"#DejaVuSans-30\"/>\r\n       <use x=\"63.623047\" xlink:href=\"#DejaVuSans-2e\"/>\r\n       <use x=\"95.410156\" xlink:href=\"#DejaVuSans-36\"/>\r\n      </g>\r\n     </g>\r\n    </g>\r\n    <g id=\"ytick_4\">\r\n     <g id=\"line2d_10\">\r\n      <g>\r\n       <use style=\"stroke:#000000;stroke-width:0.8;\" x=\"38.054688\" xlink:href=\"#mf60687bdaf\" y=\"106.070553\"/>\r\n      </g>\r\n     </g>\r\n     <g id=\"text_11\">\r\n      <!-- 0.8 -->\r\n      <g transform=\"translate(7.2 111.769381)scale(0.15 -0.15)\">\r\n       <use xlink:href=\"#DejaVuSans-30\"/>\r\n       <use x=\"63.623047\" xlink:href=\"#DejaVuSans-2e\"/>\r\n       <use x=\"95.410156\" xlink:href=\"#DejaVuSans-38\"/>\r\n      </g>\r\n     </g>\r\n    </g>\r\n    <g id=\"ytick_5\">\r\n     <g id=\"line2d_11\">\r\n      <g>\r\n       <use style=\"stroke:#000000;stroke-width:0.8;\" x=\"38.054688\" xlink:href=\"#mf60687bdaf\" y=\"48.789614\"/>\r\n      </g>\r\n     </g>\r\n     <g id=\"text_12\">\r\n      <!-- 1.0 -->\r\n      <g transform=\"translate(7.2 54.488442)scale(0.15 -0.15)\">\r\n       <use xlink:href=\"#DejaVuSans-31\"/>\r\n       <use x=\"63.623047\" xlink:href=\"#DejaVuSans-2e\"/>\r\n       <use x=\"95.410156\" xlink:href=\"#DejaVuSans-30\"/>\r\n      </g>\r\n     </g>\r\n    </g>\r\n   </g>\r\n   <g id=\"line2d_12\">\r\n    <path clip-path=\"url(#p0113acd166)\" d=\"M 55.411043 37.297656 \r\nL 58.917377 64.303101 \r\nL 62.423712 81.927868 \r\nL 65.930046 95.35162 \r\nL 69.436381 107.953059 \r\nL 72.942715 118.478779 \r\nL 76.44905 127.961901 \r\nL 79.955384 136.573306 \r\nL 83.461718 144.21692 \r\nL 86.968053 151.110705 \r\nL 90.474387 156.705623 \r\nL 93.980722 163.600859 \r\nL 97.487056 168.401921 \r\nL 100.993391 173.551727 \r\nL 104.499725 177.839087 \r\nL 108.006059 181.911882 \r\nL 111.512394 185.984249 \r\nL 115.018728 189.035887 \r\nL 118.525063 192.529102 \r\nL 122.031397 194.965226 \r\nL 125.537732 198.010027 \r\nL 129.044066 201.264844 \r\nL 132.5504 202.937133 \r\nL 136.056735 205.605927 \r\nL 139.563069 207.700494 \r\nL 143.069404 209.49752 \r\nL 146.575738 211.798681 \r\nL 150.082073 213.607879 \r\nL 153.588407 215.530865 \r\nL 157.094741 216.981093 \r\nL 160.601076 218.566541 \r\nL 164.10741 220.993635 \r\nL 167.613745 222.588242 \r\nL 171.120079 224.610436 \r\nL 174.626414 224.689449 \r\nL 178.132748 227.068488 \r\nL 181.639083 229.294612 \r\nL 185.145417 231.039786 \r\nL 188.651751 232.326892 \r\nL 192.158086 233.77724 \r\nL 195.66442 235.333257 \r\nL 199.170755 237.304895 \r\nL 202.677089 238.891487 \r\nL 206.183424 240.093195 \r\nL 209.689758 241.174365 \r\nL 213.196092 243.105758 \r\nL 216.702427 244.460516 \r\nL 220.208761 246.071596 \r\nL 223.715096 247.089987 \r\nL 227.22143 249.092925 \r\nL 230.727765 250.348227 \r\nL 234.234099 251.321422 \r\nL 237.740433 252.426312 \r\nL 241.246768 252.932648 \r\nL 244.753102 255.117452 \r\nL 248.259437 256.424685 \r\nL 251.765771 257.404862 \r\nL 255.272106 258.806736 \r\nL 258.77844 259.446892 \r\nL 262.284774 260.973881 \r\nL 265.791109 261.708892 \r\nL 269.297443 263.133403 \r\nL 272.803778 263.797765 \r\nL 276.310112 264.353133 \r\nL 279.816447 266.06145 \r\nL 283.322781 266.923649 \r\nL 286.829115 268.610282 \r\nL 290.33545 269.173695 \r\nL 293.841784 270.336186 \r\nL 297.348119 271.031038 \r\nL 300.854453 271.314972 \r\nL 304.360788 272.974743 \r\nL 307.867122 272.952581 \r\nL 311.373457 273.717266 \r\nL 314.879791 275.245697 \r\nL 318.386125 276.168993 \r\nL 321.89246 276.499544 \r\nL 325.398794 277.949299 \r\nL 328.905129 278.551702 \r\nL 332.411463 279.265605 \r\nL 335.917798 280.175082 \r\nL 339.424132 279.560417 \r\nL 342.930466 281.544773 \r\nL 346.436801 282.103637 \r\nL 349.943135 282.600844 \r\nL 353.44947 283.02453 \r\nL 356.955804 283.202697 \r\nL 360.462139 284.024744 \r\nL 363.968473 284.757058 \r\nL 367.474807 285.115102 \r\nL 370.981142 286.374348 \r\nL 374.487476 286.975036 \r\nL 377.993811 287.635566 \r\nL 381.500145 288.604259 \r\nL 385.00648 288.172169 \r\nL 388.512814 289.412159 \r\nL 392.019148 289.349431 \r\nL 395.525483 290.811507 \r\nL 399.031817 290.955002 \r\nL 402.538152 291.297656 \r\n\" style=\"fill:none;stroke:#1f77b4;stroke-linecap:square;stroke-width:3;\"/>\r\n   </g>\r\n   <g id=\"patch_3\">\r\n    <path d=\"M 38.054688 303.997656 \r\nL 38.054688 24.597656 \r\n\" style=\"fill:none;stroke:#000000;stroke-linecap:square;stroke-linejoin:miter;stroke-width:0.8;\"/>\r\n   </g>\r\n   <g id=\"patch_4\">\r\n    <path d=\"M 419.894507 303.997656 \r\nL 419.894507 24.597656 \r\n\" style=\"fill:none;stroke:#000000;stroke-linecap:square;stroke-linejoin:miter;stroke-width:0.8;\"/>\r\n   </g>\r\n   <g id=\"patch_5\">\r\n    <path d=\"M 38.054688 303.997656 \r\nL 419.894507 303.997656 \r\n\" style=\"fill:none;stroke:#000000;stroke-linecap:square;stroke-linejoin:miter;stroke-width:0.8;\"/>\r\n   </g>\r\n   <g id=\"patch_6\">\r\n    <path d=\"M 38.054688 24.597656 \r\nL 419.894507 24.597656 \r\n\" style=\"fill:none;stroke:#000000;stroke-linecap:square;stroke-linejoin:miter;stroke-width:0.8;\"/>\r\n   </g>\r\n   <g id=\"text_13\">\r\n    <!-- Training loss -->\r\n    <g transform=\"translate(182.515613 18.597656)scale(0.15 -0.15)\">\r\n     <defs>\r\n      <path d=\"M -19 4666 \r\nL 3928 4666 \r\nL 3928 4134 \r\nL 2272 4134 \r\nL 2272 0 \r\nL 1638 0 \r\nL 1638 4134 \r\nL -19 4134 \r\nL -19 4666 \r\nz\r\n\" id=\"DejaVuSans-54\" transform=\"scale(0.015625)\"/>\r\n      <path d=\"M 2631 2963 \r\nQ 2534 3019 2420 3045 \r\nQ 2306 3072 2169 3072 \r\nQ 1681 3072 1420 2755 \r\nQ 1159 2438 1159 1844 \r\nL 1159 0 \r\nL 581 0 \r\nL 581 3500 \r\nL 1159 3500 \r\nL 1159 2956 \r\nQ 1341 3275 1631 3429 \r\nQ 1922 3584 2338 3584 \r\nQ 2397 3584 2469 3576 \r\nQ 2541 3569 2628 3553 \r\nL 2631 2963 \r\nz\r\n\" id=\"DejaVuSans-72\" transform=\"scale(0.015625)\"/>\r\n      <path d=\"M 2194 1759 \r\nQ 1497 1759 1228 1600 \r\nQ 959 1441 959 1056 \r\nQ 959 750 1161 570 \r\nQ 1363 391 1709 391 \r\nQ 2188 391 2477 730 \r\nQ 2766 1069 2766 1631 \r\nL 2766 1759 \r\nL 2194 1759 \r\nz\r\nM 3341 1997 \r\nL 3341 0 \r\nL 2766 0 \r\nL 2766 531 \r\nQ 2569 213 2275 61 \r\nQ 1981 -91 1556 -91 \r\nQ 1019 -91 701 211 \r\nQ 384 513 384 1019 \r\nQ 384 1609 779 1909 \r\nQ 1175 2209 1959 2209 \r\nL 2766 2209 \r\nL 2766 2266 \r\nQ 2766 2663 2505 2880 \r\nQ 2244 3097 1772 3097 \r\nQ 1472 3097 1187 3025 \r\nQ 903 2953 641 2809 \r\nL 641 3341 \r\nQ 956 3463 1253 3523 \r\nQ 1550 3584 1831 3584 \r\nQ 2591 3584 2966 3190 \r\nQ 3341 2797 3341 1997 \r\nz\r\n\" id=\"DejaVuSans-61\" transform=\"scale(0.015625)\"/>\r\n      <path d=\"M 603 3500 \r\nL 1178 3500 \r\nL 1178 0 \r\nL 603 0 \r\nL 603 3500 \r\nz\r\nM 603 4863 \r\nL 1178 4863 \r\nL 1178 4134 \r\nL 603 4134 \r\nL 603 4863 \r\nz\r\n\" id=\"DejaVuSans-69\" transform=\"scale(0.015625)\"/>\r\n      <path d=\"M 3513 2113 \r\nL 3513 0 \r\nL 2938 0 \r\nL 2938 2094 \r\nQ 2938 2591 2744 2837 \r\nQ 2550 3084 2163 3084 \r\nQ 1697 3084 1428 2787 \r\nQ 1159 2491 1159 1978 \r\nL 1159 0 \r\nL 581 0 \r\nL 581 3500 \r\nL 1159 3500 \r\nL 1159 2956 \r\nQ 1366 3272 1645 3428 \r\nQ 1925 3584 2291 3584 \r\nQ 2894 3584 3203 3211 \r\nQ 3513 2838 3513 2113 \r\nz\r\n\" id=\"DejaVuSans-6e\" transform=\"scale(0.015625)\"/>\r\n      <path d=\"M 2906 1791 \r\nQ 2906 2416 2648 2759 \r\nQ 2391 3103 1925 3103 \r\nQ 1463 3103 1205 2759 \r\nQ 947 2416 947 1791 \r\nQ 947 1169 1205 825 \r\nQ 1463 481 1925 481 \r\nQ 2391 481 2648 825 \r\nQ 2906 1169 2906 1791 \r\nz\r\nM 3481 434 \r\nQ 3481 -459 3084 -895 \r\nQ 2688 -1331 1869 -1331 \r\nQ 1566 -1331 1297 -1286 \r\nQ 1028 -1241 775 -1147 \r\nL 775 -588 \r\nQ 1028 -725 1275 -790 \r\nQ 1522 -856 1778 -856 \r\nQ 2344 -856 2625 -561 \r\nQ 2906 -266 2906 331 \r\nL 2906 616 \r\nQ 2728 306 2450 153 \r\nQ 2172 0 1784 0 \r\nQ 1141 0 747 490 \r\nQ 353 981 353 1791 \r\nQ 353 2603 747 3093 \r\nQ 1141 3584 1784 3584 \r\nQ 2172 3584 2450 3431 \r\nQ 2728 3278 2906 2969 \r\nL 2906 3500 \r\nL 3481 3500 \r\nL 3481 434 \r\nz\r\n\" id=\"DejaVuSans-67\" transform=\"scale(0.015625)\"/>\r\n      <path id=\"DejaVuSans-20\" transform=\"scale(0.015625)\"/>\r\n      <path d=\"M 603 4863 \r\nL 1178 4863 \r\nL 1178 0 \r\nL 603 0 \r\nL 603 4863 \r\nz\r\n\" id=\"DejaVuSans-6c\" transform=\"scale(0.015625)\"/>\r\n      <path d=\"M 2834 3397 \r\nL 2834 2853 \r\nQ 2591 2978 2328 3040 \r\nQ 2066 3103 1784 3103 \r\nQ 1356 3103 1142 2972 \r\nQ 928 2841 928 2578 \r\nQ 928 2378 1081 2264 \r\nQ 1234 2150 1697 2047 \r\nL 1894 2003 \r\nQ 2506 1872 2764 1633 \r\nQ 3022 1394 3022 966 \r\nQ 3022 478 2636 193 \r\nQ 2250 -91 1575 -91 \r\nQ 1294 -91 989 -36 \r\nQ 684 19 347 128 \r\nL 347 722 \r\nQ 666 556 975 473 \r\nQ 1284 391 1588 391 \r\nQ 1994 391 2212 530 \r\nQ 2431 669 2431 922 \r\nQ 2431 1156 2273 1281 \r\nQ 2116 1406 1581 1522 \r\nL 1381 1569 \r\nQ 847 1681 609 1914 \r\nQ 372 2147 372 2553 \r\nQ 372 3047 722 3315 \r\nQ 1072 3584 1716 3584 \r\nQ 2034 3584 2315 3537 \r\nQ 2597 3491 2834 3397 \r\nz\r\n\" id=\"DejaVuSans-73\" transform=\"scale(0.015625)\"/>\r\n     </defs>\r\n     <use xlink:href=\"#DejaVuSans-54\"/>\r\n     <use x=\"46.333984\" xlink:href=\"#DejaVuSans-72\"/>\r\n     <use x=\"87.447266\" xlink:href=\"#DejaVuSans-61\"/>\r\n     <use x=\"148.726562\" xlink:href=\"#DejaVuSans-69\"/>\r\n     <use x=\"176.509766\" xlink:href=\"#DejaVuSans-6e\"/>\r\n     <use x=\"239.888672\" xlink:href=\"#DejaVuSans-69\"/>\r\n     <use x=\"267.671875\" xlink:href=\"#DejaVuSans-6e\"/>\r\n     <use x=\"331.050781\" xlink:href=\"#DejaVuSans-67\"/>\r\n     <use x=\"394.527344\" xlink:href=\"#DejaVuSans-20\"/>\r\n     <use x=\"426.314453\" xlink:href=\"#DejaVuSans-6c\"/>\r\n     <use x=\"454.097656\" xlink:href=\"#DejaVuSans-6f\"/>\r\n     <use x=\"515.279297\" xlink:href=\"#DejaVuSans-73\"/>\r\n     <use x=\"567.378906\" xlink:href=\"#DejaVuSans-73\"/>\r\n    </g>\r\n   </g>\r\n  </g>\r\n  <g id=\"axes_2\">\r\n   <g id=\"patch_7\">\r\n    <path d=\"M 464.654688 303.997656 \r\nL 846.494507 303.997656 \r\nL 846.494507 24.597656 \r\nL 464.654688 24.597656 \r\nz\r\n\" style=\"fill:#ffffff;\"/>\r\n   </g>\r\n   <g id=\"matplotlib.axis_3\">\r\n    <g id=\"xtick_7\">\r\n     <g id=\"line2d_13\">\r\n      <g>\r\n       <use style=\"stroke:#000000;stroke-width:0.8;\" x=\"482.011043\" xlink:href=\"#md927c736b7\" y=\"303.997656\"/>\r\n      </g>\r\n     </g>\r\n     <g id=\"text_14\">\r\n      <!-- 0 -->\r\n      <g transform=\"translate(477.239168 322.395312)scale(0.15 -0.15)\">\r\n       <use xlink:href=\"#DejaVuSans-30\"/>\r\n      </g>\r\n     </g>\r\n    </g>\r\n    <g id=\"xtick_8\">\r\n     <g id=\"line2d_14\">\r\n      <g>\r\n       <use style=\"stroke:#000000;stroke-width:0.8;\" x=\"552.137732\" xlink:href=\"#md927c736b7\" y=\"303.997656\"/>\r\n      </g>\r\n     </g>\r\n     <g id=\"text_15\">\r\n      <!-- 20 -->\r\n      <g transform=\"translate(542.593982 322.395312)scale(0.15 -0.15)\">\r\n       <use xlink:href=\"#DejaVuSans-32\"/>\r\n       <use x=\"63.623047\" xlink:href=\"#DejaVuSans-30\"/>\r\n      </g>\r\n     </g>\r\n    </g>\r\n    <g id=\"xtick_9\">\r\n     <g id=\"line2d_15\">\r\n      <g>\r\n       <use style=\"stroke:#000000;stroke-width:0.8;\" x=\"622.26442\" xlink:href=\"#md927c736b7\" y=\"303.997656\"/>\r\n      </g>\r\n     </g>\r\n     <g id=\"text_16\">\r\n      <!-- 40 -->\r\n      <g transform=\"translate(612.72067 322.395312)scale(0.15 -0.15)\">\r\n       <use xlink:href=\"#DejaVuSans-34\"/>\r\n       <use x=\"63.623047\" xlink:href=\"#DejaVuSans-30\"/>\r\n      </g>\r\n     </g>\r\n    </g>\r\n    <g id=\"xtick_10\">\r\n     <g id=\"line2d_16\">\r\n      <g>\r\n       <use style=\"stroke:#000000;stroke-width:0.8;\" x=\"692.391109\" xlink:href=\"#md927c736b7\" y=\"303.997656\"/>\r\n      </g>\r\n     </g>\r\n     <g id=\"text_17\">\r\n      <!-- 60 -->\r\n      <g transform=\"translate(682.847359 322.395312)scale(0.15 -0.15)\">\r\n       <use xlink:href=\"#DejaVuSans-36\"/>\r\n       <use x=\"63.623047\" xlink:href=\"#DejaVuSans-30\"/>\r\n      </g>\r\n     </g>\r\n    </g>\r\n    <g id=\"xtick_11\">\r\n     <g id=\"line2d_17\">\r\n      <g>\r\n       <use style=\"stroke:#000000;stroke-width:0.8;\" x=\"762.517798\" xlink:href=\"#md927c736b7\" y=\"303.997656\"/>\r\n      </g>\r\n     </g>\r\n     <g id=\"text_18\">\r\n      <!-- 80 -->\r\n      <g transform=\"translate(752.974048 322.395312)scale(0.15 -0.15)\">\r\n       <use xlink:href=\"#DejaVuSans-38\"/>\r\n       <use x=\"63.623047\" xlink:href=\"#DejaVuSans-30\"/>\r\n      </g>\r\n     </g>\r\n    </g>\r\n    <g id=\"xtick_12\">\r\n     <g id=\"line2d_18\">\r\n      <g>\r\n       <use style=\"stroke:#000000;stroke-width:0.8;\" x=\"832.644486\" xlink:href=\"#md927c736b7\" y=\"303.997656\"/>\r\n      </g>\r\n     </g>\r\n     <g id=\"text_19\">\r\n      <!-- 100 -->\r\n      <g transform=\"translate(818.328861 322.395312)scale(0.15 -0.15)\">\r\n       <use xlink:href=\"#DejaVuSans-31\"/>\r\n       <use x=\"63.623047\" xlink:href=\"#DejaVuSans-30\"/>\r\n       <use x=\"127.246094\" xlink:href=\"#DejaVuSans-30\"/>\r\n      </g>\r\n     </g>\r\n    </g>\r\n    <g id=\"text_20\">\r\n     <!-- Epoch -->\r\n     <g transform=\"translate(632.608191 340.9125)scale(0.15 -0.15)\">\r\n      <use xlink:href=\"#DejaVuSans-45\"/>\r\n      <use x=\"63.183594\" xlink:href=\"#DejaVuSans-70\"/>\r\n      <use x=\"126.660156\" xlink:href=\"#DejaVuSans-6f\"/>\r\n      <use x=\"187.841797\" xlink:href=\"#DejaVuSans-63\"/>\r\n      <use x=\"242.822266\" xlink:href=\"#DejaVuSans-68\"/>\r\n     </g>\r\n    </g>\r\n   </g>\r\n   <g id=\"matplotlib.axis_4\">\r\n    <g id=\"ytick_6\">\r\n     <g id=\"line2d_19\">\r\n      <g>\r\n       <use style=\"stroke:#000000;stroke-width:0.8;\" x=\"464.654688\" xlink:href=\"#mf60687bdaf\" y=\"284.040514\"/>\r\n      </g>\r\n     </g>\r\n     <g id=\"text_21\">\r\n      <!-- 0.3 -->\r\n      <g transform=\"translate(433.8 289.739342)scale(0.15 -0.15)\">\r\n       <defs>\r\n        <path d=\"M 2597 2516 \r\nQ 3050 2419 3304 2112 \r\nQ 3559 1806 3559 1356 \r\nQ 3559 666 3084 287 \r\nQ 2609 -91 1734 -91 \r\nQ 1441 -91 1130 -33 \r\nQ 819 25 488 141 \r\nL 488 750 \r\nQ 750 597 1062 519 \r\nQ 1375 441 1716 441 \r\nQ 2309 441 2620 675 \r\nQ 2931 909 2931 1356 \r\nQ 2931 1769 2642 2001 \r\nQ 2353 2234 1838 2234 \r\nL 1294 2234 \r\nL 1294 2753 \r\nL 1863 2753 \r\nQ 2328 2753 2575 2939 \r\nQ 2822 3125 2822 3475 \r\nQ 2822 3834 2567 4026 \r\nQ 2313 4219 1838 4219 \r\nQ 1578 4219 1281 4162 \r\nQ 984 4106 628 3988 \r\nL 628 4550 \r\nQ 988 4650 1302 4700 \r\nQ 1616 4750 1894 4750 \r\nQ 2613 4750 3031 4423 \r\nQ 3450 4097 3450 3541 \r\nQ 3450 3153 3228 2886 \r\nQ 3006 2619 2597 2516 \r\nz\r\n\" id=\"DejaVuSans-33\" transform=\"scale(0.015625)\"/>\r\n       </defs>\r\n       <use xlink:href=\"#DejaVuSans-30\"/>\r\n       <use x=\"63.623047\" xlink:href=\"#DejaVuSans-2e\"/>\r\n       <use x=\"95.410156\" xlink:href=\"#DejaVuSans-33\"/>\r\n      </g>\r\n     </g>\r\n    </g>\r\n    <g id=\"ytick_7\">\r\n     <g id=\"line2d_20\">\r\n      <g>\r\n       <use style=\"stroke:#000000;stroke-width:0.8;\" x=\"464.654688\" xlink:href=\"#mf60687bdaf\" y=\"247.754801\"/>\r\n      </g>\r\n     </g>\r\n     <g id=\"text_22\">\r\n      <!-- 0.4 -->\r\n      <g transform=\"translate(433.8 253.453629)scale(0.15 -0.15)\">\r\n       <use xlink:href=\"#DejaVuSans-30\"/>\r\n       <use x=\"63.623047\" xlink:href=\"#DejaVuSans-2e\"/>\r\n       <use x=\"95.410156\" xlink:href=\"#DejaVuSans-34\"/>\r\n      </g>\r\n     </g>\r\n    </g>\r\n    <g id=\"ytick_8\">\r\n     <g id=\"line2d_21\">\r\n      <g>\r\n       <use style=\"stroke:#000000;stroke-width:0.8;\" x=\"464.654688\" xlink:href=\"#mf60687bdaf\" y=\"211.469087\"/>\r\n      </g>\r\n     </g>\r\n     <g id=\"text_23\">\r\n      <!-- 0.5 -->\r\n      <g transform=\"translate(433.8 217.167915)scale(0.15 -0.15)\">\r\n       <defs>\r\n        <path d=\"M 691 4666 \r\nL 3169 4666 \r\nL 3169 4134 \r\nL 1269 4134 \r\nL 1269 2991 \r\nQ 1406 3038 1543 3061 \r\nQ 1681 3084 1819 3084 \r\nQ 2600 3084 3056 2656 \r\nQ 3513 2228 3513 1497 \r\nQ 3513 744 3044 326 \r\nQ 2575 -91 1722 -91 \r\nQ 1428 -91 1123 -41 \r\nQ 819 9 494 109 \r\nL 494 744 \r\nQ 775 591 1075 516 \r\nQ 1375 441 1709 441 \r\nQ 2250 441 2565 725 \r\nQ 2881 1009 2881 1497 \r\nQ 2881 1984 2565 2268 \r\nQ 2250 2553 1709 2553 \r\nQ 1456 2553 1204 2497 \r\nQ 953 2441 691 2322 \r\nL 691 4666 \r\nz\r\n\" id=\"DejaVuSans-35\" transform=\"scale(0.015625)\"/>\r\n       </defs>\r\n       <use xlink:href=\"#DejaVuSans-30\"/>\r\n       <use x=\"63.623047\" xlink:href=\"#DejaVuSans-2e\"/>\r\n       <use x=\"95.410156\" xlink:href=\"#DejaVuSans-35\"/>\r\n      </g>\r\n     </g>\r\n    </g>\r\n    <g id=\"ytick_9\">\r\n     <g id=\"line2d_22\">\r\n      <g>\r\n       <use style=\"stroke:#000000;stroke-width:0.8;\" x=\"464.654688\" xlink:href=\"#mf60687bdaf\" y=\"175.183374\"/>\r\n      </g>\r\n     </g>\r\n     <g id=\"text_24\">\r\n      <!-- 0.6 -->\r\n      <g transform=\"translate(433.8 180.882202)scale(0.15 -0.15)\">\r\n       <use xlink:href=\"#DejaVuSans-30\"/>\r\n       <use x=\"63.623047\" xlink:href=\"#DejaVuSans-2e\"/>\r\n       <use x=\"95.410156\" xlink:href=\"#DejaVuSans-36\"/>\r\n      </g>\r\n     </g>\r\n    </g>\r\n    <g id=\"ytick_10\">\r\n     <g id=\"line2d_23\">\r\n      <g>\r\n       <use style=\"stroke:#000000;stroke-width:0.8;\" x=\"464.654688\" xlink:href=\"#mf60687bdaf\" y=\"138.897661\"/>\r\n      </g>\r\n     </g>\r\n     <g id=\"text_25\">\r\n      <!-- 0.7 -->\r\n      <g transform=\"translate(433.8 144.596489)scale(0.15 -0.15)\">\r\n       <defs>\r\n        <path d=\"M 525 4666 \r\nL 3525 4666 \r\nL 3525 4397 \r\nL 1831 0 \r\nL 1172 0 \r\nL 2766 4134 \r\nL 525 4134 \r\nL 525 4666 \r\nz\r\n\" id=\"DejaVuSans-37\" transform=\"scale(0.015625)\"/>\r\n       </defs>\r\n       <use xlink:href=\"#DejaVuSans-30\"/>\r\n       <use x=\"63.623047\" xlink:href=\"#DejaVuSans-2e\"/>\r\n       <use x=\"95.410156\" xlink:href=\"#DejaVuSans-37\"/>\r\n      </g>\r\n     </g>\r\n    </g>\r\n    <g id=\"ytick_11\">\r\n     <g id=\"line2d_24\">\r\n      <g>\r\n       <use style=\"stroke:#000000;stroke-width:0.8;\" x=\"464.654688\" xlink:href=\"#mf60687bdaf\" y=\"102.611947\"/>\r\n      </g>\r\n     </g>\r\n     <g id=\"text_26\">\r\n      <!-- 0.8 -->\r\n      <g transform=\"translate(433.8 108.310775)scale(0.15 -0.15)\">\r\n       <use xlink:href=\"#DejaVuSans-30\"/>\r\n       <use x=\"63.623047\" xlink:href=\"#DejaVuSans-2e\"/>\r\n       <use x=\"95.410156\" xlink:href=\"#DejaVuSans-38\"/>\r\n      </g>\r\n     </g>\r\n    </g>\r\n    <g id=\"ytick_12\">\r\n     <g id=\"line2d_25\">\r\n      <g>\r\n       <use style=\"stroke:#000000;stroke-width:0.8;\" x=\"464.654688\" xlink:href=\"#mf60687bdaf\" y=\"66.326234\"/>\r\n      </g>\r\n     </g>\r\n     <g id=\"text_27\">\r\n      <!-- 0.9 -->\r\n      <g transform=\"translate(433.8 72.025062)scale(0.15 -0.15)\">\r\n       <defs>\r\n        <path d=\"M 703 97 \r\nL 703 672 \r\nQ 941 559 1184 500 \r\nQ 1428 441 1663 441 \r\nQ 2288 441 2617 861 \r\nQ 2947 1281 2994 2138 \r\nQ 2813 1869 2534 1725 \r\nQ 2256 1581 1919 1581 \r\nQ 1219 1581 811 2004 \r\nQ 403 2428 403 3163 \r\nQ 403 3881 828 4315 \r\nQ 1253 4750 1959 4750 \r\nQ 2769 4750 3195 4129 \r\nQ 3622 3509 3622 2328 \r\nQ 3622 1225 3098 567 \r\nQ 2575 -91 1691 -91 \r\nQ 1453 -91 1209 -44 \r\nQ 966 3 703 97 \r\nz\r\nM 1959 2075 \r\nQ 2384 2075 2632 2365 \r\nQ 2881 2656 2881 3163 \r\nQ 2881 3666 2632 3958 \r\nQ 2384 4250 1959 4250 \r\nQ 1534 4250 1286 3958 \r\nQ 1038 3666 1038 3163 \r\nQ 1038 2656 1286 2365 \r\nQ 1534 2075 1959 2075 \r\nz\r\n\" id=\"DejaVuSans-39\" transform=\"scale(0.015625)\"/>\r\n       </defs>\r\n       <use xlink:href=\"#DejaVuSans-30\"/>\r\n       <use x=\"63.623047\" xlink:href=\"#DejaVuSans-2e\"/>\r\n       <use x=\"95.410156\" xlink:href=\"#DejaVuSans-39\"/>\r\n      </g>\r\n     </g>\r\n    </g>\r\n    <g id=\"ytick_13\">\r\n     <g id=\"line2d_26\">\r\n      <g>\r\n       <use style=\"stroke:#000000;stroke-width:0.8;\" x=\"464.654688\" xlink:href=\"#mf60687bdaf\" y=\"30.04052\"/>\r\n      </g>\r\n     </g>\r\n     <g id=\"text_28\">\r\n      <!-- 1.0 -->\r\n      <g transform=\"translate(433.8 35.739349)scale(0.15 -0.15)\">\r\n       <use xlink:href=\"#DejaVuSans-31\"/>\r\n       <use x=\"63.623047\" xlink:href=\"#DejaVuSans-2e\"/>\r\n       <use x=\"95.410156\" xlink:href=\"#DejaVuSans-30\"/>\r\n      </g>\r\n     </g>\r\n    </g>\r\n   </g>\r\n   <g id=\"line2d_27\">\r\n    <path clip-path=\"url(#pb68781cb79)\" d=\"M 482.011043 291.297656 \r\nL 485.517377 124.383372 \r\nL 489.023712 98.983375 \r\nL 492.530046 131.640508 \r\nL 496.036381 131.640508 \r\nL 499.542715 131.640508 \r\nL 503.04905 131.640508 \r\nL 506.555384 131.640508 \r\nL 510.061718 131.640508 \r\nL 513.568053 131.640508 \r\nL 517.074387 131.640508 \r\nL 520.580722 131.640508 \r\nL 524.087056 131.640508 \r\nL 527.593391 131.640508 \r\nL 531.099725 128.01194 \r\nL 534.606059 128.01194 \r\nL 538.112394 128.01194 \r\nL 541.618728 128.01194 \r\nL 545.125063 117.126236 \r\nL 548.631397 120.754804 \r\nL 552.137732 106.240511 \r\nL 555.644066 102.611943 \r\nL 559.1504 95.354807 \r\nL 562.656735 102.611943 \r\nL 566.163069 102.611943 \r\nL 569.669404 120.754804 \r\nL 573.175738 73.583378 \r\nL 576.682073 73.583378 \r\nL 580.188407 73.583378 \r\nL 583.694741 77.211946 \r\nL 587.201076 77.211946 \r\nL 590.70741 80.840514 \r\nL 594.213745 59.069085 \r\nL 597.720079 55.440517 \r\nL 601.226414 37.297656 \r\nL 604.732748 69.95481 \r\nL 608.239083 59.069085 \r\nL 611.745417 55.440517 \r\nL 615.251751 51.811949 \r\nL 618.758086 48.183382 \r\nL 622.26442 55.440517 \r\nL 625.770755 48.183382 \r\nL 629.277089 51.811949 \r\nL 632.783424 48.183382 \r\nL 636.289758 44.554814 \r\nL 639.796092 48.183382 \r\nL 643.302427 44.554814 \r\nL 646.808761 44.554814 \r\nL 650.315096 44.554814 \r\nL 653.82143 40.926224 \r\nL 657.327765 40.926224 \r\nL 660.834099 40.926224 \r\nL 664.340433 44.554814 \r\nL 667.846768 44.554814 \r\nL 671.353102 44.554814 \r\nL 674.859437 40.926224 \r\nL 678.365771 44.554814 \r\nL 681.872106 44.554814 \r\nL 685.37844 44.554814 \r\nL 688.884774 40.926224 \r\nL 692.391109 44.554814 \r\nL 695.897443 37.297656 \r\nL 699.403778 48.183382 \r\nL 702.910112 40.926224 \r\nL 706.416447 44.554814 \r\nL 709.922781 44.554814 \r\nL 713.429115 40.926224 \r\nL 716.93545 40.926224 \r\nL 720.441784 40.926224 \r\nL 723.948119 44.554814 \r\nL 727.454453 40.926224 \r\nL 730.960788 44.554814 \r\nL 734.467122 37.297656 \r\nL 737.973457 44.554814 \r\nL 741.479791 37.297656 \r\nL 744.986125 40.926224 \r\nL 748.49246 40.926224 \r\nL 751.998794 40.926224 \r\nL 755.505129 40.926224 \r\nL 759.011463 40.926224 \r\nL 762.517798 44.554814 \r\nL 766.024132 40.926224 \r\nL 769.530466 40.926224 \r\nL 773.036801 37.297656 \r\nL 776.543135 40.926224 \r\nL 780.04947 44.554814 \r\nL 783.555804 37.297656 \r\nL 787.062139 44.554814 \r\nL 790.568473 40.926224 \r\nL 794.074807 37.297656 \r\nL 797.581142 37.297656 \r\nL 801.087476 37.297656 \r\nL 804.593811 37.297656 \r\nL 808.100145 37.297656 \r\nL 811.60648 37.297656 \r\nL 815.112814 37.297656 \r\nL 818.619148 40.926224 \r\nL 822.125483 37.297656 \r\nL 825.631817 37.297656 \r\nL 829.138152 37.297656 \r\n\" style=\"fill:none;stroke:#1f77b4;stroke-linecap:square;stroke-width:3;\"/>\r\n   </g>\r\n   <g id=\"patch_8\">\r\n    <path d=\"M 464.654688 303.997656 \r\nL 464.654688 24.597656 \r\n\" style=\"fill:none;stroke:#000000;stroke-linecap:square;stroke-linejoin:miter;stroke-width:0.8;\"/>\r\n   </g>\r\n   <g id=\"patch_9\">\r\n    <path d=\"M 846.494507 303.997656 \r\nL 846.494507 24.597656 \r\n\" style=\"fill:none;stroke:#000000;stroke-linecap:square;stroke-linejoin:miter;stroke-width:0.8;\"/>\r\n   </g>\r\n   <g id=\"patch_10\">\r\n    <path d=\"M 464.654688 303.997656 \r\nL 846.494507 303.997656 \r\n\" style=\"fill:none;stroke:#000000;stroke-linecap:square;stroke-linejoin:miter;stroke-width:0.8;\"/>\r\n   </g>\r\n   <g id=\"patch_11\">\r\n    <path d=\"M 464.654688 24.597656 \r\nL 846.494507 24.597656 \r\n\" style=\"fill:none;stroke:#000000;stroke-linecap:square;stroke-linejoin:miter;stroke-width:0.8;\"/>\r\n   </g>\r\n   <g id=\"text_29\">\r\n    <!-- Training accuracy -->\r\n    <g transform=\"translate(589.763269 18.597656)scale(0.15 -0.15)\">\r\n     <defs>\r\n      <path d=\"M 544 1381 \r\nL 544 3500 \r\nL 1119 3500 \r\nL 1119 1403 \r\nQ 1119 906 1312 657 \r\nQ 1506 409 1894 409 \r\nQ 2359 409 2629 706 \r\nQ 2900 1003 2900 1516 \r\nL 2900 3500 \r\nL 3475 3500 \r\nL 3475 0 \r\nL 2900 0 \r\nL 2900 538 \r\nQ 2691 219 2414 64 \r\nQ 2138 -91 1772 -91 \r\nQ 1169 -91 856 284 \r\nQ 544 659 544 1381 \r\nz\r\nM 1991 3584 \r\nL 1991 3584 \r\nz\r\n\" id=\"DejaVuSans-75\" transform=\"scale(0.015625)\"/>\r\n      <path d=\"M 2059 -325 \r\nQ 1816 -950 1584 -1140 \r\nQ 1353 -1331 966 -1331 \r\nL 506 -1331 \r\nL 506 -850 \r\nL 844 -850 \r\nQ 1081 -850 1212 -737 \r\nQ 1344 -625 1503 -206 \r\nL 1606 56 \r\nL 191 3500 \r\nL 800 3500 \r\nL 1894 763 \r\nL 2988 3500 \r\nL 3597 3500 \r\nL 2059 -325 \r\nz\r\n\" id=\"DejaVuSans-79\" transform=\"scale(0.015625)\"/>\r\n     </defs>\r\n     <use xlink:href=\"#DejaVuSans-54\"/>\r\n     <use x=\"46.333984\" xlink:href=\"#DejaVuSans-72\"/>\r\n     <use x=\"87.447266\" xlink:href=\"#DejaVuSans-61\"/>\r\n     <use x=\"148.726562\" xlink:href=\"#DejaVuSans-69\"/>\r\n     <use x=\"176.509766\" xlink:href=\"#DejaVuSans-6e\"/>\r\n     <use x=\"239.888672\" xlink:href=\"#DejaVuSans-69\"/>\r\n     <use x=\"267.671875\" xlink:href=\"#DejaVuSans-6e\"/>\r\n     <use x=\"331.050781\" xlink:href=\"#DejaVuSans-67\"/>\r\n     <use x=\"394.527344\" xlink:href=\"#DejaVuSans-20\"/>\r\n     <use x=\"426.314453\" xlink:href=\"#DejaVuSans-61\"/>\r\n     <use x=\"487.59375\" xlink:href=\"#DejaVuSans-63\"/>\r\n     <use x=\"542.574219\" xlink:href=\"#DejaVuSans-63\"/>\r\n     <use x=\"597.554688\" xlink:href=\"#DejaVuSans-75\"/>\r\n     <use x=\"660.933594\" xlink:href=\"#DejaVuSans-72\"/>\r\n     <use x=\"702.046875\" xlink:href=\"#DejaVuSans-61\"/>\r\n     <use x=\"763.326172\" xlink:href=\"#DejaVuSans-63\"/>\r\n     <use x=\"818.306641\" xlink:href=\"#DejaVuSans-79\"/>\r\n    </g>\r\n   </g>\r\n  </g>\r\n </g>\r\n <defs>\r\n  <clipPath id=\"p0113acd166\">\r\n   <rect height=\"279.4\" width=\"381.83982\" x=\"38.054688\" y=\"24.597656\"/>\r\n  </clipPath>\r\n  <clipPath id=\"pb68781cb79\">\r\n   <rect height=\"279.4\" width=\"381.83982\" x=\"464.654688\" y=\"24.597656\"/>\r\n  </clipPath>\r\n </defs>\r\n</svg>\r\n",
      "text/plain": [
       "<Figure size 864x360 with 2 Axes>"
      ]
     },
     "metadata": {
      "needs_background": "light"
     }
    }
   ],
   "metadata": {}
  },
  {
   "cell_type": "markdown",
   "source": [
    "### Evaluating the trained model on the test dataset"
   ],
   "metadata": {}
  },
  {
   "cell_type": "code",
   "execution_count": 13,
   "source": [
    "results = iris_model.evaluate(ds_test.batch(50), verbose=0)\r\n",
    "print('Test loss: {:.4f}   Test Acc.: {:.4f}'.format(*results))"
   ],
   "outputs": [
    {
     "output_type": "stream",
     "name": "stdout",
     "text": [
      "Test loss: 0.1557   Test Acc.: 0.9800\n"
     ]
    }
   ],
   "metadata": {}
  },
  {
   "cell_type": "markdown",
   "source": [
    "### Saving and reloading the trained model"
   ],
   "metadata": {}
  },
  {
   "cell_type": "code",
   "execution_count": null,
   "source": [
    "iris_model.save('iris-classifier.h5', \r\n",
    "                overwrite=True,\r\n",
    "                include_optimizer=True,\r\n",
    "                save_format='h5')"
   ],
   "outputs": [],
   "metadata": {}
  },
  {
   "cell_type": "code",
   "execution_count": null,
   "source": [
    "iris_model_new = tf.keras.models.load_model('iris-classifier.h5')\r\n",
    "\r\n",
    "iris_model_new.summary()"
   ],
   "outputs": [],
   "metadata": {}
  },
  {
   "cell_type": "code",
   "execution_count": null,
   "source": [
    "results = iris_model_new.evaluate(ds_test.batch(50), verbose=0)\r\n",
    "print('Test loss: {:.4f}   Test Acc.: {:.4f}'.format(*results))"
   ],
   "outputs": [],
   "metadata": {}
  },
  {
   "cell_type": "code",
   "execution_count": null,
   "source": [
    "labels_train = []\r\n",
    "for i,item in enumerate(ds_train_orig):\r\n",
    "    labels_train.append(item[1].numpy())\r\n",
    "    \r\n",
    "labels_test = []\r\n",
    "for i,item in enumerate(ds_test):\r\n",
    "    labels_test.append(item[1].numpy())\r\n",
    "print('Training Set: ',len(labels_train), 'Test Set: ', len(labels_test))"
   ],
   "outputs": [],
   "metadata": {}
  },
  {
   "cell_type": "code",
   "execution_count": null,
   "source": [
    "iris_model_new.to_json()"
   ],
   "outputs": [],
   "metadata": {}
  },
  {
   "cell_type": "markdown",
   "source": [
    "## Choosing activation functions for multilayer neural networks\n"
   ],
   "metadata": {}
  },
  {
   "cell_type": "markdown",
   "source": [
    "### Logistic function recap"
   ],
   "metadata": {}
  },
  {
   "cell_type": "code",
   "execution_count": null,
   "source": [
    "import numpy as np\r\n",
    "\r\n",
    "X = np.array([1, 1.4, 2.5]) ## first value must be 1\r\n",
    "w = np.array([0.4, 0.3, 0.5])\r\n",
    "\r\n",
    "def net_input(X, w):\r\n",
    "    return np.dot(X, w)\r\n",
    "\r\n",
    "def logistic(z):\r\n",
    "    return 1.0 / (1.0 + np.exp(-z))\r\n",
    "\r\n",
    "def logistic_activation(X, w):\r\n",
    "    z = net_input(X, w)\r\n",
    "    return logistic(z)\r\n",
    "\r\n",
    "print('P(y=1|x) = %.3f' % logistic_activation(X, w)) "
   ],
   "outputs": [],
   "metadata": {}
  },
  {
   "cell_type": "code",
   "execution_count": null,
   "source": [
    "# W : array with shape = (n_output_units, n_hidden_units+1)\r\n",
    "# note that the first column are the bias units\r\n",
    "\r\n",
    "W = np.array([[1.1, 1.2, 0.8, 0.4],\r\n",
    "              [0.2, 0.4, 1.0, 0.2],\r\n",
    "              [0.6, 1.5, 1.2, 0.7]])\r\n",
    "\r\n",
    "# A : data array with shape = (n_hidden_units + 1, n_samples)\r\n",
    "# note that the first column of this array must be 1\r\n",
    "\r\n",
    "A = np.array([[1, 0.1, 0.4, 0.6]])\r\n",
    "Z = np.dot(W, A[0])\r\n",
    "y_probas = logistic(Z)\r\n",
    "print('Net Input: \\n', Z)\r\n",
    "\r\n",
    "print('Output Units:\\n', y_probas) "
   ],
   "outputs": [],
   "metadata": {}
  },
  {
   "cell_type": "code",
   "execution_count": null,
   "source": [
    "y_class = np.argmax(Z, axis=0)\r\n",
    "print('Predicted class label: %d' % y_class) "
   ],
   "outputs": [],
   "metadata": {}
  },
  {
   "cell_type": "markdown",
   "source": [
    "### Estimating class probabilities in multiclass classification via the softmax function"
   ],
   "metadata": {}
  },
  {
   "cell_type": "code",
   "execution_count": null,
   "source": [
    "def softmax(z):\r\n",
    "    return np.exp(z) / np.sum(np.exp(z))\r\n",
    "\r\n",
    "y_probas = softmax(Z)\r\n",
    "print('Probabilities:\\n', y_probas)\r\n",
    "\r\n",
    "np.sum(y_probas)"
   ],
   "outputs": [],
   "metadata": {}
  },
  {
   "cell_type": "code",
   "execution_count": null,
   "source": [
    "import tensorflow as tf\r\n",
    "\r\n",
    "Z_tensor = tf.expand_dims(Z, axis=0)\r\n",
    "tf.keras.activations.softmax(Z_tensor)"
   ],
   "outputs": [],
   "metadata": {}
  },
  {
   "cell_type": "markdown",
   "source": [
    "### Broadening the output spectrum using a hyperbolic tangent"
   ],
   "metadata": {}
  },
  {
   "cell_type": "code",
   "execution_count": null,
   "source": [
    "import matplotlib.pyplot as plt\r\n",
    "%matplotlib inline\r\n",
    "\r\n",
    "def tanh(z):\r\n",
    "    e_p = np.exp(z)\r\n",
    "    e_m = np.exp(-z)\r\n",
    "    return (e_p - e_m) / (e_p + e_m)\r\n",
    "\r\n",
    "z = np.arange(-5, 5, 0.005)\r\n",
    "log_act = logistic(z)\r\n",
    "tanh_act = tanh(z)\r\n",
    "plt.ylim([-1.5, 1.5])\r\n",
    "plt.xlabel('Net input $z$')\r\n",
    "plt.ylabel('Activation $\\phi(z)$')\r\n",
    "plt.axhline(1, color='black', linestyle=':')\r\n",
    "plt.axhline(0.5, color='black', linestyle=':')\r\n",
    "plt.axhline(0, color='black', linestyle=':')\r\n",
    "plt.axhline(-0.5, color='black', linestyle=':')\r\n",
    "plt.axhline(-1, color='black', linestyle=':')\r\n",
    "plt.plot(z, tanh_act,\r\n",
    "    linewidth=3, linestyle='--',\r\n",
    "    label='Tanh')\r\n",
    "plt.plot(z, log_act,\r\n",
    "    linewidth=3,\r\n",
    "    label='Logistic')\r\n",
    "plt.legend(loc='lower right')\r\n",
    "plt.tight_layout()\r\n",
    "plt.show()\r\n"
   ],
   "outputs": [],
   "metadata": {}
  },
  {
   "cell_type": "code",
   "execution_count": null,
   "source": [
    "np.tanh(z)"
   ],
   "outputs": [],
   "metadata": {}
  },
  {
   "cell_type": "code",
   "execution_count": null,
   "source": [
    "import tensorflow as tf\r\n",
    "\r\n",
    "tf.keras.activations.tanh(z)"
   ],
   "outputs": [],
   "metadata": {}
  },
  {
   "cell_type": "code",
   "execution_count": null,
   "source": [
    "from scipy.special import expit\r\n",
    "\r\n",
    "expit(z)"
   ],
   "outputs": [],
   "metadata": {}
  },
  {
   "cell_type": "code",
   "execution_count": null,
   "source": [
    "tf.keras.activations.sigmoid(z)"
   ],
   "outputs": [],
   "metadata": {}
  },
  {
   "cell_type": "markdown",
   "source": [
    "### Rectified linear unit activation"
   ],
   "metadata": {}
  },
  {
   "cell_type": "code",
   "execution_count": null,
   "source": [
    "import tensorflow as tf\r\n",
    "\r\n",
    "tf.keras.activations.relu(z)"
   ],
   "outputs": [],
   "metadata": {}
  },
  {
   "cell_type": "markdown",
   "source": [
    "## Summary"
   ],
   "metadata": {}
  },
  {
   "cell_type": "markdown",
   "source": [
    "# Appendix\n",
    "\n",
    "## Splitting a dataset: danger of mixing train/test examples"
   ],
   "metadata": {}
  },
  {
   "cell_type": "code",
   "execution_count": null,
   "source": [
    "## the correct way:\r\n",
    "ds = tf.data.Dataset.range(15)\r\n",
    "ds = ds.shuffle(15, reshuffle_each_iteration=False)\r\n",
    "\r\n",
    "\r\n",
    "ds_train = ds.take(10)\r\n",
    "ds_test = ds.skip(10)\r\n",
    "\r\n",
    "ds_train = ds_train.shuffle(10).repeat(10)\r\n",
    "ds_test = ds_test.shuffle(5)\r\n",
    "ds_test = ds_test.repeat(10)\r\n",
    "\r\n",
    "set_train = set()\r\n",
    "for i,item in enumerate(ds_train):\r\n",
    "    set_train.add(item.numpy())\r\n",
    "\r\n",
    "set_test = set()\r\n",
    "for i,item in enumerate(ds_test):\r\n",
    "    set_test.add(item.numpy())\r\n",
    "\r\n",
    "print(set_train, set_test)"
   ],
   "outputs": [],
   "metadata": {}
  },
  {
   "cell_type": "code",
   "execution_count": null,
   "source": [
    "## The wrong way:\r\n",
    "ds = tf.data.Dataset.range(15)\r\n",
    "ds = ds.shuffle(15, reshuffle_each_iteration=True)\r\n",
    "\r\n",
    "\r\n",
    "ds_train = ds.take(10)\r\n",
    "ds_test = ds.skip(10)\r\n",
    "\r\n",
    "ds_train = ds_train.shuffle(10).repeat(10)\r\n",
    "ds_test = ds_test.shuffle(5)\r\n",
    "ds_test = ds_test.repeat(10)\r\n",
    "\r\n",
    "set_train = set()\r\n",
    "for i,item in enumerate(ds_train):\r\n",
    "    set_train.add(item.numpy())\r\n",
    "\r\n",
    "set_test = set()\r\n",
    "for i,item in enumerate(ds_test):\r\n",
    "    set_test.add(item.numpy())\r\n",
    "\r\n",
    "print(set_train, set_test)"
   ],
   "outputs": [],
   "metadata": {}
  },
  {
   "cell_type": "markdown",
   "source": [
    "### Splitting a dataset using `tfds.Split`"
   ],
   "metadata": {}
  },
  {
   "cell_type": "code",
   "execution_count": null,
   "source": [
    "\r\n",
    "##--------------------------- Attention ------------------------##\r\n",
    "##                                                              ##\r\n",
    "##     Note: currently, tfds.Split has a bug  in TF 2.0.0       ##\r\n",
    "##                                                              ##\r\n",
    "##  I.e., splitting [2, 1] is expected to result in             ##\r\n",
    "##      100 train and 50 test examples                          ##\r\n",
    "##                                                              ##\r\n",
    "##  but instead, it results in 116 train and 34 test examples   ##\r\n",
    "##                                                              ##\r\n",
    "##--------------------------------------------------------------##\r\n",
    "\r\n",
    "import tensorflow as tf\r\n",
    "import tensorflow_datasets as tfds\r\n",
    "import numpy as np\r\n",
    "\r\n",
    "##  method 1: specifying percentage:\r\n",
    "#first_67_percent = tfds.Split.TRAIN.subsplit(tfds.percent[:67])\r\n",
    "#last_33_percent = tfds.Split.TRAIN.subsplit(tfds.percent[-33:])\r\n",
    "\r\n",
    "#ds_train_orig = tfds.load('iris', split=first_67_percent)\r\n",
    "#ds_test = tfds.load('iris', split=last_33_percent)\r\n",
    "\r\n",
    "\r\n",
    "##  method 2: specifying the weights\r\n",
    "split_train, split_test = tfds.Split.TRAIN.subsplit([2, 1])\r\n",
    "\r\n",
    "ds_train_orig = tfds.load('iris', split=split_train)\r\n",
    "ds_test = tfds.load('iris', split=split_test)\r\n",
    "\r\n",
    "print(next(iter(ds_train_orig)))\r\n",
    "print()\r\n",
    "print(next(iter(ds_test)))\r\n",
    "\r\n",
    "\r\n",
    "ds_train_orig = ds_train_orig.shuffle(100, reshuffle_each_iteration=True)\r\n",
    "ds_test  = ds_test.shuffle(50, reshuffle_each_iteration=False)\r\n",
    "\r\n",
    "ds_train_orig = ds_train_orig.map(\r\n",
    "    lambda x: (x['features'], x['label']))\r\n",
    "\r\n",
    "ds_test = ds_test.map(\r\n",
    "    lambda x: (x['features'], x['label']))\r\n",
    "\r\n",
    "print(next(iter(ds_train_orig)))\r\n",
    "\r\n",
    "\r\n",
    "for j in range(5):\r\n",
    "    labels_train = []\r\n",
    "    for i,item in enumerate(ds_train_orig):\r\n",
    "        labels_train.append(item[1].numpy())\r\n",
    "\r\n",
    "    labels_test = []\r\n",
    "    for i,item in enumerate(ds_test):\r\n",
    "        labels_test.append(item[1].numpy())\r\n",
    "    print('Training Set: ',len(labels_train), 'Test Set: ', len(labels_test))\r\n",
    "\r\n",
    "    labels_test = np.array(labels_test)\r\n",
    "\r\n",
    "    print(np.sum(labels_test == 0), np.sum(labels_test == 1), np.sum(labels_test == 2))"
   ],
   "outputs": [],
   "metadata": {}
  },
  {
   "cell_type": "markdown",
   "source": [
    "<br>\n",
    "<br>\n",
    "<br>"
   ],
   "metadata": {}
  }
 ],
 "metadata": {
  "kernelspec": {
   "name": "python3",
   "display_name": "Python 3.8.0 64-bit ('tf': conda)"
  },
  "language_info": {
   "codemirror_mode": {
    "name": "ipython",
    "version": 3
   },
   "file_extension": ".py",
   "mimetype": "text/x-python",
   "name": "python",
   "nbconvert_exporter": "python",
   "pygments_lexer": "ipython3",
   "version": "3.8.0"
  },
  "toc-showmarkdowntxt": false,
  "toc-showtags": false,
  "interpreter": {
   "hash": "b4a387497f54fd22d04ab06f3cac2b317ccdf5aa3fbc31422dd91bb954740c85"
  }
 },
 "nbformat": 4,
 "nbformat_minor": 4
}