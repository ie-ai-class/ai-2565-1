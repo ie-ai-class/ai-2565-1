{
 "cells": [
  {
   "cell_type": "markdown",
   "metadata": {},
   "source": [
    "# Iris dataset\n",
    "-  Network with softmax at the output"
   ]
  },
  {
   "cell_type": "code",
   "execution_count": 1,
   "metadata": {},
   "outputs": [],
   "source": [
    "import tensorflow as tf\n",
    "import matplotlib.pyplot as plt\n",
    "from sklearn import datasets\n",
    "from sklearn.model_selection import train_test_split\n",
    "from sklearn.preprocessing import StandardScaler"
   ]
  },
  {
   "cell_type": "code",
   "execution_count": 2,
   "metadata": {},
   "outputs": [],
   "source": [
    "# Read data\n",
    "iris = datasets.load_iris()\n",
    "# Extract the last 2 columns\n",
    "X = iris.data\n",
    "y = iris.target\n",
    "# Split data into training and testing data\n",
    "X_train, X_test, y_train, y_test = train_test_split(\n",
    "    X, y, test_size=0.3, random_state=1, stratify=y\n",
    ")\n",
    "# Standardization\n",
    "sc = StandardScaler()\n",
    "sc.fit(X_train)\n",
    "#X_train_std = sc.transform(X_train)\n",
    "#X_test_std = sc.transform(X_test)\n",
    "\n",
    "X_train_std = X_train\n",
    "X_test_std = X_test"
   ]
  },
  {
   "cell_type": "code",
   "execution_count": 3,
   "metadata": {},
   "outputs": [
    {
     "name": "stdout",
     "output_type": "stream",
     "text": [
      "WARNING:tensorflow:Please add `keras.layers.InputLayer` instead of `keras.Input` to Sequential model. `keras.Input` is intended to be used by Functional model.\n",
      "Model: \"sequential\"\n",
      "_________________________________________________________________\n",
      "Layer (type)                 Output Shape              Param #   \n",
      "=================================================================\n",
      "fc1 (Dense)                  (None, 16)                80        \n",
      "_________________________________________________________________\n",
      "fc2 (Dense)                  (None, 3)                 51        \n",
      "=================================================================\n",
      "Total params: 131\n",
      "Trainable params: 131\n",
      "Non-trainable params: 0\n",
      "_________________________________________________________________\n"
     ]
    }
   ],
   "source": [
    "tf.keras.backend.clear_session()\n",
    "model = tf.keras.Sequential([\n",
    "    tf.keras.Input(shape=(4,)),\n",
    "    tf.keras.layers.Dense(16, activation='sigmoid', name='fc1'),\n",
    "    tf.keras.layers.Dense(3, name='fc2', activation='softmax')\n",
    "    ])\n",
    "\n",
    "model.summary()\n",
    "\n",
    "model.compile(\n",
    "    optimizer='adam',\n",
    "    loss='sparse_categorical_crossentropy',\n",
    "    metrics=['accuracy'])"
   ]
  },
  {
   "cell_type": "code",
   "execution_count": 4,
   "metadata": {},
   "outputs": [
    {
     "name": "stdout",
     "output_type": "stream",
     "text": [
      "Epoch 1/100\n",
      "53/53 [==============================] - 1s 2ms/step - loss: 1.1334 - accuracy: 0.1048\n",
      "Epoch 2/100\n",
      "53/53 [==============================] - 0s 519us/step - loss: 1.0856 - accuracy: 0.3429\n",
      "Epoch 3/100\n",
      "53/53 [==============================] - 0s 481us/step - loss: 1.0503 - accuracy: 0.5524\n",
      "Epoch 4/100\n",
      "53/53 [==============================] - 0s 481us/step - loss: 1.0180 - accuracy: 0.7714\n",
      "Epoch 5/100\n",
      "53/53 [==============================] - 0s 519us/step - loss: 0.9868 - accuracy: 0.7238\n",
      "Epoch 6/100\n",
      "53/53 [==============================] - 0s 530us/step - loss: 0.9520 - accuracy: 0.7905\n",
      "Epoch 7/100\n",
      "53/53 [==============================] - 0s 471us/step - loss: 0.9183 - accuracy: 0.7429\n",
      "Epoch 8/100\n",
      "53/53 [==============================] - 0s 471us/step - loss: 0.8860 - accuracy: 0.7905\n",
      "Epoch 9/100\n",
      "53/53 [==============================] - 0s 462us/step - loss: 0.8521 - accuracy: 0.8667\n",
      "Epoch 10/100\n",
      "53/53 [==============================] - 0s 481us/step - loss: 0.8115 - accuracy: 0.8381\n",
      "Epoch 11/100\n",
      "53/53 [==============================] - 0s 481us/step - loss: 0.7772 - accuracy: 0.8286\n",
      "Epoch 12/100\n",
      "53/53 [==============================] - 0s 451us/step - loss: 0.7443 - accuracy: 0.8190\n",
      "Epoch 13/100\n",
      "53/53 [==============================] - 0s 481us/step - loss: 0.7074 - accuracy: 0.8762\n",
      "Epoch 14/100\n",
      "53/53 [==============================] - 0s 481us/step - loss: 0.6749 - accuracy: 0.9143\n",
      "Epoch 15/100\n",
      "53/53 [==============================] - 0s 462us/step - loss: 0.6476 - accuracy: 0.8667\n",
      "Epoch 16/100\n",
      "53/53 [==============================] - 0s 481us/step - loss: 0.6180 - accuracy: 0.9238\n",
      "Epoch 17/100\n",
      "53/53 [==============================] - 0s 462us/step - loss: 0.5942 - accuracy: 0.9048\n",
      "Epoch 18/100\n",
      "53/53 [==============================] - 0s 500us/step - loss: 0.5732 - accuracy: 0.9048\n",
      "Epoch 19/100\n",
      "53/53 [==============================] - 0s 482us/step - loss: 0.5526 - accuracy: 0.8762\n",
      "Epoch 20/100\n",
      "53/53 [==============================] - 0s 462us/step - loss: 0.5335 - accuracy: 0.9524\n",
      "Epoch 21/100\n",
      "53/53 [==============================] - 0s 462us/step - loss: 0.5173 - accuracy: 0.9429\n",
      "Epoch 22/100\n",
      "53/53 [==============================] - 0s 472us/step - loss: 0.5041 - accuracy: 0.9238\n",
      "Epoch 23/100\n",
      "53/53 [==============================] - 0s 481us/step - loss: 0.4901 - accuracy: 0.9619\n",
      "Epoch 24/100\n",
      "53/53 [==============================] - 0s 481us/step - loss: 0.4800 - accuracy: 0.9524\n",
      "Epoch 25/100\n",
      "53/53 [==============================] - 0s 500us/step - loss: 0.4650 - accuracy: 0.9619\n",
      "Epoch 26/100\n",
      "53/53 [==============================] - 0s 481us/step - loss: 0.4555 - accuracy: 0.9524\n",
      "Epoch 27/100\n",
      "53/53 [==============================] - 0s 481us/step - loss: 0.4453 - accuracy: 0.9619\n",
      "Epoch 28/100\n",
      "53/53 [==============================] - 0s 462us/step - loss: 0.4374 - accuracy: 0.9619\n",
      "Epoch 29/100\n",
      "53/53 [==============================] - 0s 500us/step - loss: 0.4275 - accuracy: 0.9524\n",
      "Epoch 30/100\n",
      "53/53 [==============================] - 0s 452us/step - loss: 0.4179 - accuracy: 0.9429\n",
      "Epoch 31/100\n",
      "53/53 [==============================] - 0s 462us/step - loss: 0.4125 - accuracy: 0.9524\n",
      "Epoch 32/100\n",
      "53/53 [==============================] - 0s 462us/step - loss: 0.4031 - accuracy: 0.9619\n",
      "Epoch 33/100\n",
      "53/53 [==============================] - 0s 442us/step - loss: 0.3942 - accuracy: 0.9619\n",
      "Epoch 34/100\n",
      "53/53 [==============================] - 0s 462us/step - loss: 0.3865 - accuracy: 0.9619\n",
      "Epoch 35/100\n",
      "53/53 [==============================] - 0s 481us/step - loss: 0.3811 - accuracy: 0.9619\n",
      "Epoch 36/100\n",
      "53/53 [==============================] - 0s 539us/step - loss: 0.3747 - accuracy: 0.9524\n",
      "Epoch 37/100\n",
      "53/53 [==============================] - 0s 539us/step - loss: 0.3704 - accuracy: 0.9619\n",
      "Epoch 38/100\n",
      "53/53 [==============================] - 0s 481us/step - loss: 0.3621 - accuracy: 0.9619\n",
      "Epoch 39/100\n",
      "53/53 [==============================] - 0s 481us/step - loss: 0.3563 - accuracy: 0.9619\n",
      "Epoch 40/100\n",
      "53/53 [==============================] - 0s 481us/step - loss: 0.3484 - accuracy: 0.9619\n",
      "Epoch 41/100\n",
      "53/53 [==============================] - 0s 452us/step - loss: 0.3430 - accuracy: 0.9619\n",
      "Epoch 42/100\n",
      "53/53 [==============================] - 0s 481us/step - loss: 0.3355 - accuracy: 0.9524\n",
      "Epoch 43/100\n",
      "53/53 [==============================] - 0s 539us/step - loss: 0.3311 - accuracy: 0.9714\n",
      "Epoch 44/100\n",
      "53/53 [==============================] - 0s 500us/step - loss: 0.3264 - accuracy: 0.9619\n",
      "Epoch 45/100\n",
      "53/53 [==============================] - 0s 519us/step - loss: 0.3225 - accuracy: 0.9714\n",
      "Epoch 46/100\n",
      "53/53 [==============================] - 0s 568us/step - loss: 0.3141 - accuracy: 0.9524\n",
      "Epoch 47/100\n",
      "53/53 [==============================] - 0s 500us/step - loss: 0.3099 - accuracy: 0.9524\n",
      "Epoch 48/100\n",
      "53/53 [==============================] - 0s 481us/step - loss: 0.3032 - accuracy: 0.9619\n",
      "Epoch 49/100\n",
      "53/53 [==============================] - 0s 471us/step - loss: 0.3000 - accuracy: 0.9714\n",
      "Epoch 50/100\n",
      "53/53 [==============================] - 0s 481us/step - loss: 0.2946 - accuracy: 0.9714\n",
      "Epoch 51/100\n",
      "53/53 [==============================] - 0s 481us/step - loss: 0.2885 - accuracy: 0.9714\n",
      "Epoch 52/100\n",
      "53/53 [==============================] - 0s 481us/step - loss: 0.2828 - accuracy: 0.9619\n",
      "Epoch 53/100\n",
      "53/53 [==============================] - 0s 462us/step - loss: 0.2816 - accuracy: 0.9429\n",
      "Epoch 54/100\n",
      "53/53 [==============================] - 0s 481us/step - loss: 0.2824 - accuracy: 0.9429\n",
      "Epoch 55/100\n",
      "53/53 [==============================] - 0s 462us/step - loss: 0.2723 - accuracy: 0.9619\n",
      "Epoch 56/100\n",
      "53/53 [==============================] - 0s 481us/step - loss: 0.2646 - accuracy: 0.9619\n",
      "Epoch 57/100\n",
      "53/53 [==============================] - 0s 481us/step - loss: 0.2603 - accuracy: 0.9714\n",
      "Epoch 58/100\n",
      "53/53 [==============================] - 0s 481us/step - loss: 0.2567 - accuracy: 0.9619\n",
      "Epoch 59/100\n",
      "53/53 [==============================] - 0s 539us/step - loss: 0.2526 - accuracy: 0.9619\n",
      "Epoch 60/100\n",
      "53/53 [==============================] - 0s 500us/step - loss: 0.2479 - accuracy: 0.9810\n",
      "Epoch 61/100\n",
      "53/53 [==============================] - 0s 616us/step - loss: 0.2439 - accuracy: 0.9619\n",
      "Epoch 62/100\n",
      "53/53 [==============================] - 0s 500us/step - loss: 0.2390 - accuracy: 0.9714\n",
      "Epoch 63/100\n",
      "53/53 [==============================] - 0s 481us/step - loss: 0.2367 - accuracy: 0.9619\n",
      "Epoch 64/100\n",
      "53/53 [==============================] - 0s 519us/step - loss: 0.2327 - accuracy: 0.9714\n",
      "Epoch 65/100\n",
      "53/53 [==============================] - 0s 481us/step - loss: 0.2302 - accuracy: 0.9619\n",
      "Epoch 66/100\n",
      "53/53 [==============================] - 0s 462us/step - loss: 0.2250 - accuracy: 0.9714\n",
      "Epoch 67/100\n",
      "53/53 [==============================] - 0s 481us/step - loss: 0.2223 - accuracy: 0.9714\n",
      "Epoch 68/100\n",
      "53/53 [==============================] - 0s 462us/step - loss: 0.2192 - accuracy: 0.9619\n",
      "Epoch 69/100\n",
      "53/53 [==============================] - 0s 462us/step - loss: 0.2130 - accuracy: 0.9619\n",
      "Epoch 70/100\n",
      "53/53 [==============================] - 0s 462us/step - loss: 0.2143 - accuracy: 0.9714\n",
      "Epoch 71/100\n",
      "53/53 [==============================] - 0s 481us/step - loss: 0.2086 - accuracy: 0.9524\n",
      "Epoch 72/100\n",
      "53/53 [==============================] - 0s 789us/step - loss: 0.2059 - accuracy: 0.9714\n",
      "Epoch 73/100\n",
      "53/53 [==============================] - 0s 481us/step - loss: 0.2056 - accuracy: 0.9714\n",
      "Epoch 74/100\n",
      "53/53 [==============================] - 0s 462us/step - loss: 0.1992 - accuracy: 0.9714\n",
      "Epoch 75/100\n",
      "53/53 [==============================] - 0s 462us/step - loss: 0.1965 - accuracy: 0.9619\n",
      "Epoch 76/100\n",
      "53/53 [==============================] - 0s 462us/step - loss: 0.1926 - accuracy: 0.9619\n",
      "Epoch 77/100\n",
      "53/53 [==============================] - 0s 481us/step - loss: 0.1899 - accuracy: 0.9714\n",
      "Epoch 78/100\n",
      "53/53 [==============================] - 0s 462us/step - loss: 0.1864 - accuracy: 0.9714\n",
      "Epoch 79/100\n",
      "53/53 [==============================] - 0s 481us/step - loss: 0.1873 - accuracy: 0.9619\n",
      "Epoch 80/100\n",
      "53/53 [==============================] - 0s 481us/step - loss: 0.1810 - accuracy: 0.9619\n",
      "Epoch 81/100\n",
      "53/53 [==============================] - 0s 462us/step - loss: 0.1805 - accuracy: 0.9524\n",
      "Epoch 82/100\n",
      "53/53 [==============================] - 0s 519us/step - loss: 0.1770 - accuracy: 0.9524\n",
      "Epoch 83/100\n",
      "53/53 [==============================] - 0s 462us/step - loss: 0.1768 - accuracy: 0.9714\n",
      "Epoch 84/100\n",
      "53/53 [==============================] - 0s 500us/step - loss: 0.1719 - accuracy: 0.9619\n",
      "Epoch 85/100\n",
      "53/53 [==============================] - 0s 462us/step - loss: 0.1716 - accuracy: 0.9714\n",
      "Epoch 86/100\n",
      "53/53 [==============================] - 0s 462us/step - loss: 0.1694 - accuracy: 0.9714\n",
      "Epoch 87/100\n",
      "53/53 [==============================] - 0s 500us/step - loss: 0.1653 - accuracy: 0.9619\n",
      "Epoch 88/100\n",
      "53/53 [==============================] - 0s 442us/step - loss: 0.1652 - accuracy: 0.9714\n",
      "Epoch 89/100\n",
      "53/53 [==============================] - 0s 481us/step - loss: 0.1643 - accuracy: 0.9714\n",
      "Epoch 90/100\n",
      "53/53 [==============================] - 0s 462us/step - loss: 0.1606 - accuracy: 0.9619\n",
      "Epoch 91/100\n",
      "53/53 [==============================] - 0s 462us/step - loss: 0.1581 - accuracy: 0.9619\n",
      "Epoch 92/100\n",
      "53/53 [==============================] - 0s 462us/step - loss: 0.1552 - accuracy: 0.9619\n",
      "Epoch 93/100\n",
      "53/53 [==============================] - 0s 481us/step - loss: 0.1559 - accuracy: 0.9714\n",
      "Epoch 94/100\n",
      "53/53 [==============================] - 0s 462us/step - loss: 0.1530 - accuracy: 0.9524\n",
      "Epoch 95/100\n",
      "53/53 [==============================] - 0s 539us/step - loss: 0.1518 - accuracy: 0.9524\n",
      "Epoch 96/100\n",
      "53/53 [==============================] - 0s 442us/step - loss: 0.1499 - accuracy: 0.9714\n",
      "Epoch 97/100\n",
      "53/53 [==============================] - 0s 481us/step - loss: 0.1474 - accuracy: 0.9810\n",
      "Epoch 98/100\n",
      "53/53 [==============================] - 0s 462us/step - loss: 0.1465 - accuracy: 0.9714\n",
      "Epoch 99/100\n",
      "53/53 [==============================] - 0s 500us/step - loss: 0.1437 - accuracy: 0.9619\n",
      "Epoch 100/100\n",
      "53/53 [==============================] - 0s 433us/step - loss: 0.1422 - accuracy: 0.9619\n"
     ]
    }
   ],
   "source": [
    "history = model.fit(X_train_std, y_train,\n",
    "        batch_size=2,\n",
    "        epochs=100, \n",
    "        verbose=1)"
   ]
  },
  {
   "cell_type": "code",
   "execution_count": 5,
   "metadata": {},
   "outputs": [
    {
     "data": {
      "image/png": "[encoded data removed]",
      "text/plain": [
       "<Figure size 864x360 with 2 Axes>"
      ]
     },
     "metadata": {
      "needs_background": "light"
     },
     "output_type": "display_data"
    }
   ],
   "source": [
    "hist = history.history\n",
    "\n",
    "fig = plt.figure(figsize=(12, 5))\n",
    "ax = fig.add_subplot(1, 2, 1)\n",
    "ax.plot(hist['loss'], lw=3)\n",
    "ax.set_title('Training loss', size=15)\n",
    "ax.set_xlabel('Epoch', size=15)\n",
    "ax.tick_params(axis='both', which='major', labelsize=15)\n",
    "\n",
    "ax = fig.add_subplot(1, 2, 2)\n",
    "ax.plot(hist['accuracy'], lw=3)\n",
    "ax.set_title('Training accuracy', size=15)\n",
    "ax.set_xlabel('Epoch', size=15)\n",
    "ax.tick_params(axis='both', which='major', labelsize=15)\n",
    "plt.tight_layout()\n",
    "#plt.savefig('ch13-cls-learning-curve.pdf')\n",
    "\n",
    "plt.show()"
   ]
  },
  {
   "cell_type": "code",
   "execution_count": 6,
   "metadata": {},
   "outputs": [
    {
     "name": "stdout",
     "output_type": "stream",
     "text": [
      "Test loss: 0.1205   Test Acc.: 1.0000\n"
     ]
    }
   ],
   "source": [
    "results = model.evaluate(X_test_std, y_test, verbose=0)\n",
    "print(f'Test loss: {results[0]:.4f}   Test Acc.: {results[1]:.4f}')"
   ]
  },
  {
   "cell_type": "code",
   "execution_count": 7,
   "metadata": {},
   "outputs": [
    {
     "name": "stdout",
     "output_type": "stream",
     "text": [
      "[[1.5237932e-04 9.3997560e-02 9.0585005e-01]\n",
      " [9.8596430e-01 1.4034160e-02 1.5680279e-06]\n",
      " [9.8436755e-01 1.5630636e-02 1.7881406e-06]]\n"
     ]
    }
   ],
   "source": [
    "y_hat = model(X_test_std[:3])\n",
    "print(y_hat.numpy())"
   ]
  },
  {
   "cell_type": "code",
   "execution_count": 8,
   "metadata": {},
   "outputs": [
    {
     "data": {
      "image/png": "[encoded data removed]",
      "text/plain": [
       "<Figure size 432x288 with 1 Axes>"
      ]
     },
     "metadata": {
      "needs_background": "light"
     },
     "output_type": "display_data"
    }
   ],
   "source": [
    "yp = y_hat.numpy()[0]\n",
    "xp = list(range(yp.shape[0]))\n",
    "plt.bar(xp, yp)\n",
    "plt.title('Softmax Values')\n",
    "plt.show()"
   ]
  }
 ],
 "metadata": {
  "interpreter": {
   "hash": "b4a387497f54fd22d04ab06f3cac2b317ccdf5aa3fbc31422dd91bb954740c85"
  },
  "kernelspec": {
   "display_name": "Python 3.8.0 64-bit ('tf': conda)",
   "name": "python3"
  },
  "language_info": {
   "codemirror_mode": {
    "name": "ipython",
    "version": 3
   },
   "file_extension": ".py",
   "mimetype": "text/x-python",
   "name": "python",
   "nbconvert_exporter": "python",
   "pygments_lexer": "ipython3",
   "version": "3.9.7"
  },
  "orig_nbformat": 4
 },
 "nbformat": 4,
 "nbformat_minor": 2
}
