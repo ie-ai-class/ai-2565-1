{
 "cells": [
  {
   "cell_type": "markdown",
   "source": [
    "# Handling categorical data"
   ],
   "metadata": {}
  },
  {
   "cell_type": "code",
   "execution_count": null,
   "source": [
    "import pandas as pd\r\n",
    "import numpy as np"
   ],
   "outputs": [],
   "metadata": {}
  },
  {
   "cell_type": "code",
   "execution_count": null,
   "source": [
    "data = [\r\n",
    "    [10.1, 'M', 'green', 'class1'],\r\n",
    "    [13.5, 'L', 'red', 'class2'],\r\n",
    "    [15.3, 'XL', 'blue', 'class1'],\r\n",
    "    [11.3, 'M', 'red', 'class1'],\r\n",
    "    [13.2, 'L', 'blue', 'class2']]"
   ],
   "outputs": [],
   "metadata": {}
  },
  {
   "cell_type": "code",
   "execution_count": null,
   "source": [
    "df = pd.DataFrame(data)\r\n",
    "df.columns = ['price', 'size', 'color', 'y']\r\n",
    "display(df)"
   ],
   "outputs": [],
   "metadata": {}
  },
  {
   "cell_type": "markdown",
   "source": [
    "## Mapping ordinal features (Fix 'size' column)"
   ],
   "metadata": {}
  },
  {
   "cell_type": "markdown",
   "source": [
    "### SKLearn Implementation"
   ],
   "metadata": {}
  },
  {
   "cell_type": "code",
   "execution_count": null,
   "source": [
    "from sklearn.preprocessing import OrdinalEncoder\r\n",
    "\r\n",
    "# Creating object\r\n",
    "enc = OrdinalEncoder(categories=[['M', 'L', 'XL']], dtype=np.int16)\r\n",
    "\r\n",
    "# Fitting\r\n",
    "enc.fit(df[['size']])\r\n",
    "print(enc.categories_)\r\n",
    "\r\n",
    "# Transformation\r\n",
    "size_enc = enc.transform(df[['size']])\r\n",
    "print(size_enc)"
   ],
   "outputs": [],
   "metadata": {}
  },
  {
   "cell_type": "code",
   "execution_count": null,
   "source": [
    "# Replacing original column\r\n",
    "df2 = df.copy()\r\n",
    "df2['size'] = size_enc\r\n",
    "display(df2)"
   ],
   "outputs": [],
   "metadata": {}
  },
  {
   "cell_type": "code",
   "execution_count": null,
   "source": [
    "# Inverse transformation\r\n",
    "temp = df2.copy()\r\n",
    "temp['size'] = enc.inverse_transform(temp[['size']])\r\n",
    "display(temp)"
   ],
   "outputs": [],
   "metadata": {}
  },
  {
   "cell_type": "markdown",
   "source": [
    "### Python Implementation"
   ],
   "metadata": {}
  },
  {
   "cell_type": "code",
   "execution_count": null,
   "source": [
    "temp = df.copy()\r\n",
    "\r\n",
    "# Transformation\r\n",
    "size_mapping = {'XL': 2, 'L': 1, 'M': 0}\r\n",
    "temp['size'] = temp['size'].map(size_mapping)\r\n",
    "display(temp)\r\n",
    "\r\n",
    "# Inverse transformation\r\n",
    "inv_size_mapping = {v: k for k, v in size_mapping.items()}\r\n",
    "temp['size'] = temp['size'].map(inv_size_mapping)\r\n",
    "display(temp)"
   ],
   "outputs": [],
   "metadata": {}
  },
  {
   "cell_type": "markdown",
   "source": [
    "## One-hot encoding on nominal features (Fixing 'color' column)"
   ],
   "metadata": {}
  },
  {
   "cell_type": "markdown",
   "source": [
    "### SKLearning implementation"
   ],
   "metadata": {}
  },
  {
   "cell_type": "code",
   "execution_count": null,
   "source": [
    "from sklearn.preprocessing import OneHotEncoder\r\n",
    "\r\n",
    "# Creating object\r\n",
    "ohe = OneHotEncoder(categories=[['green','red','blue']], dtype=np.int32)\r\n",
    "\r\n",
    "# Fitting\r\n",
    "ohe.fit(df[['color']]) \r\n",
    "print(ohe.categories_)\r\n",
    "\r\n",
    "# Transformation\r\n",
    "color_ohe = ohe.transform(df[['color']])\r\n",
    "print(color_ohe.toarray()) #ohe.transform return sparse matrix. So, \"toarray()\" method is needed."
   ],
   "outputs": [],
   "metadata": {}
  },
  {
   "cell_type": "code",
   "execution_count": null,
   "source": [
    "# Creating dataframe\r\n",
    "cols = ohe.categories_[0]\r\n",
    "temp = pd.DataFrame(color_ohe.toarray(), columns=cols)\r\n",
    "display(temp)"
   ],
   "outputs": [],
   "metadata": {}
  },
  {
   "cell_type": "code",
   "execution_count": null,
   "source": [
    "# Replacing original column\r\n",
    "df3 = pd.concat([df2, temp], axis=1)\r\n",
    "df3 = df3.drop(columns=['color'])\r\n",
    "\r\n",
    "# Rearranging columns\r\n",
    "cols = list(df3.columns)\r\n",
    "cols.remove('y')\r\n",
    "cols.append('y')\r\n",
    "df3 = df3[cols]\r\n",
    "display(df3)"
   ],
   "outputs": [],
   "metadata": {}
  },
  {
   "cell_type": "markdown",
   "source": [
    "#### Drop column OHE\r\n",
    "Drop one of the categories per feature. This is useful in situations where perfectly collinear features cause problems, such as when feeding the resulting data into a neural network or an unregularized regression.  However, dropping one category breaks the symmetry of the original representation and can therefore induce a bias in downstream models, for instance for penalized linear classification or regression models.\r\n"
   ],
   "metadata": {}
  },
  {
   "cell_type": "code",
   "execution_count": null,
   "source": [
    "ohe = OneHotEncoder(drop='first', categories=[['green','red','blue']], dtype=np.int32)\r\n",
    "color_ohe = ohe.fit_transform(df[['color']])\r\n",
    "print(color_ohe.toarray())\r\n",
    "\r\n",
    "# All columns\r\n",
    "cols = list(ohe.categories_[0])\r\n",
    "print(cols)\r\n",
    "\r\n",
    "# Drop first column\r\n",
    "cols.pop(0)\r\n",
    "print(cols)\r\n",
    "\r\n",
    "temp = pd.DataFrame(color_ohe.toarray(), columns=cols)\r\n",
    "display(temp)\r\n"
   ],
   "outputs": [],
   "metadata": {}
  },
  {
   "cell_type": "markdown",
   "source": [
    "### Pandas implementation"
   ],
   "metadata": {}
  },
  {
   "cell_type": "code",
   "execution_count": null,
   "source": [
    "pd.get_dummies(df[['color']])"
   ],
   "outputs": [],
   "metadata": {}
  },
  {
   "cell_type": "markdown",
   "source": [
    "## Encoding class labels (fix 'y' column)"
   ],
   "metadata": {}
  },
  {
   "cell_type": "code",
   "execution_count": null,
   "source": [
    "from sklearn.preprocessing import LabelEncoder\r\n",
    "le = LabelEncoder()\r\n",
    "\r\n",
    "# Fitting\r\n",
    "le.fit(df['y'])\r\n",
    "print(le.classes_)\r\n",
    "\r\n",
    "# Transformation\r\n",
    "y_le = le.transform(df['y'])\r\n",
    "\r\n",
    "# Replace original column\r\n",
    "df4 = df3.copy()\r\n",
    "df4['y'] = y_le\r\n",
    "display(df4)\r\n",
    "\r\n",
    "# Inverse transformation\r\n",
    "temp = df4.copy()\r\n",
    "temp['y'] = le.inverse_transform(df4['y'])\r\n",
    "display(temp) "
   ],
   "outputs": [],
   "metadata": {}
  },
  {
   "cell_type": "markdown",
   "source": [
    "### Python implementation"
   ],
   "metadata": {}
  },
  {
   "cell_type": "code",
   "execution_count": null,
   "source": [
    "temp = df3.copy()\r\n",
    "\r\n",
    "# Transformation\r\n",
    "class_mapping = {label: idx for idx, label in enumerate(np.unique(df['y']))}\r\n",
    "temp['y'] = temp['y'].map(class_mapping)\r\n",
    "display(temp)\r\n",
    "\r\n",
    "# Inverse transformation\r\n",
    "inv_class_mapping = {v: k for k, v in class_mapping.items()}\r\n",
    "temp['y'] = temp['y'].map(inv_class_mapping)\r\n",
    "display(temp)"
   ],
   "outputs": [],
   "metadata": {}
  }
 ],
 "metadata": {
  "anaconda-cloud": {},
  "kernelspec": {
   "name": "python3",
   "display_name": "Python 3.8.8 64-bit ('base': conda)"
  },
  "language_info": {
   "codemirror_mode": {
    "name": "ipython",
    "version": 3
   },
   "file_extension": ".py",
   "mimetype": "text/x-python",
   "name": "python",
   "nbconvert_exporter": "python",
   "pygments_lexer": "ipython3",
   "version": "3.8.8"
  },
  "interpreter": {
   "hash": "be725e0de8fb3f5fda9b0118bdf797fa9814e28e467c1cce77c5b9910d8a1786"
  }
 },
 "nbformat": 4,
 "nbformat_minor": 1
}