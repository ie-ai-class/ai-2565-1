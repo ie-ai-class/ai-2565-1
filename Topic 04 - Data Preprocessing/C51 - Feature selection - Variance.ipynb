{
 "cells": [
  {
   "cell_type": "markdown",
   "source": [
    "# Removing features with no variance"
   ],
   "metadata": {}
  },
  {
   "cell_type": "code",
   "execution_count": 70,
   "source": [
    "from sklearn.feature_selection import VarianceThreshold\r\n",
    "import numpy as np\r\n",
    "import pandas as pd"
   ],
   "outputs": [],
   "metadata": {}
  },
  {
   "cell_type": "code",
   "execution_count": 71,
   "source": [
    "data = {'rand1':np.random.random((5,)),\r\n",
    "        'const1':np.ones((5,)),\r\n",
    "        'const2':np.ones((5,)),\r\n",
    "        'const3':np.ones((5,)),\r\n",
    "        'rand2':np.random.random((5,))}\r\n",
    "df = pd.DataFrame(data=data)\r\n",
    "display(df)"
   ],
   "outputs": [
    {
     "output_type": "display_data",
     "data": {
      "text/plain": [
       "      rand1  const1  const2  const3     rand2\n",
       "0  0.461731     1.0     1.0     1.0  0.578446\n",
       "1  0.458634     1.0     1.0     1.0  0.040596\n",
       "2  0.008160     1.0     1.0     1.0  0.855567\n",
       "3  0.229969     1.0     1.0     1.0  0.177738\n",
       "4  0.220083     1.0     1.0     1.0  0.801892"
      ],
      "text/html": [
       "<div>\n",
       "<style scoped>\n",
       "    .dataframe tbody tr th:only-of-type {\n",
       "        vertical-align: middle;\n",
       "    }\n",
       "\n",
       "    .dataframe tbody tr th {\n",
       "        vertical-align: top;\n",
       "    }\n",
       "\n",
       "    .dataframe thead th {\n",
       "        text-align: right;\n",
       "    }\n",
       "</style>\n",
       "<table border=\"1\" class=\"dataframe\">\n",
       "  <thead>\n",
       "    <tr style=\"text-align: right;\">\n",
       "      <th></th>\n",
       "      <th>rand1</th>\n",
       "      <th>const1</th>\n",
       "      <th>const2</th>\n",
       "      <th>const3</th>\n",
       "      <th>rand2</th>\n",
       "    </tr>\n",
       "  </thead>\n",
       "  <tbody>\n",
       "    <tr>\n",
       "      <th>0</th>\n",
       "      <td>0.461731</td>\n",
       "      <td>1.0</td>\n",
       "      <td>1.0</td>\n",
       "      <td>1.0</td>\n",
       "      <td>0.578446</td>\n",
       "    </tr>\n",
       "    <tr>\n",
       "      <th>1</th>\n",
       "      <td>0.458634</td>\n",
       "      <td>1.0</td>\n",
       "      <td>1.0</td>\n",
       "      <td>1.0</td>\n",
       "      <td>0.040596</td>\n",
       "    </tr>\n",
       "    <tr>\n",
       "      <th>2</th>\n",
       "      <td>0.008160</td>\n",
       "      <td>1.0</td>\n",
       "      <td>1.0</td>\n",
       "      <td>1.0</td>\n",
       "      <td>0.855567</td>\n",
       "    </tr>\n",
       "    <tr>\n",
       "      <th>3</th>\n",
       "      <td>0.229969</td>\n",
       "      <td>1.0</td>\n",
       "      <td>1.0</td>\n",
       "      <td>1.0</td>\n",
       "      <td>0.177738</td>\n",
       "    </tr>\n",
       "    <tr>\n",
       "      <th>4</th>\n",
       "      <td>0.220083</td>\n",
       "      <td>1.0</td>\n",
       "      <td>1.0</td>\n",
       "      <td>1.0</td>\n",
       "      <td>0.801892</td>\n",
       "    </tr>\n",
       "  </tbody>\n",
       "</table>\n",
       "</div>"
      ]
     },
     "metadata": {}
    }
   ],
   "metadata": {}
  },
  {
   "cell_type": "code",
   "execution_count": 72,
   "source": [
    "# Creating object\r\n",
    "sel = VarianceThreshold(threshold=0)\r\n",
    "\r\n",
    "# Fitting\r\n",
    "sel.fit(df)"
   ],
   "outputs": [
    {
     "output_type": "execute_result",
     "data": {
      "text/plain": [
       "VarianceThreshold(threshold=0)"
      ]
     },
     "metadata": {},
     "execution_count": 72
    }
   ],
   "metadata": {}
  },
  {
   "cell_type": "code",
   "execution_count": 73,
   "source": [
    "# Check columns\r\n",
    "cols = df.columns\r\n",
    "print(f'All columns: {list(cols)}')\r\n",
    "\r\n",
    "sup = sel.get_support()\r\n",
    "print(f'Support array: {sup}')\r\n",
    "\r\n",
    "cols_sel = cols[sup]\r\n",
    "print(f'Chosen columns: {list(cols_sel)}')\r\n",
    "\r\n",
    "cols_rem = cols[np.logical_not(sup)]\r\n",
    "print(f'Removed columns: {list(cols_rem)}')\r\n"
   ],
   "outputs": [
    {
     "output_type": "stream",
     "name": "stdout",
     "text": [
      "All columns: ['rand1', 'const1', 'const2', 'const3', 'rand2']\n",
      "Support array: [ True False False False  True]\n",
      "Chosen columns: ['rand1', 'rand2']\n",
      "Removed columns: ['const1', 'const2', 'const3']\n"
     ]
    }
   ],
   "metadata": {}
  },
  {
   "cell_type": "code",
   "execution_count": 74,
   "source": [
    "df_sel = sel.transform(df)\r\n",
    "\r\n",
    "temp = pd.DataFrame(data=df_sel, columns=cols_sel)\r\n",
    "display(temp)"
   ],
   "outputs": [
    {
     "output_type": "display_data",
     "data": {
      "text/plain": [
       "      rand1     rand2\n",
       "0  0.461731  0.578446\n",
       "1  0.458634  0.040596\n",
       "2  0.008160  0.855567\n",
       "3  0.229969  0.177738\n",
       "4  0.220083  0.801892"
      ],
      "text/html": [
       "<div>\n",
       "<style scoped>\n",
       "    .dataframe tbody tr th:only-of-type {\n",
       "        vertical-align: middle;\n",
       "    }\n",
       "\n",
       "    .dataframe tbody tr th {\n",
       "        vertical-align: top;\n",
       "    }\n",
       "\n",
       "    .dataframe thead th {\n",
       "        text-align: right;\n",
       "    }\n",
       "</style>\n",
       "<table border=\"1\" class=\"dataframe\">\n",
       "  <thead>\n",
       "    <tr style=\"text-align: right;\">\n",
       "      <th></th>\n",
       "      <th>rand1</th>\n",
       "      <th>rand2</th>\n",
       "    </tr>\n",
       "  </thead>\n",
       "  <tbody>\n",
       "    <tr>\n",
       "      <th>0</th>\n",
       "      <td>0.461731</td>\n",
       "      <td>0.578446</td>\n",
       "    </tr>\n",
       "    <tr>\n",
       "      <th>1</th>\n",
       "      <td>0.458634</td>\n",
       "      <td>0.040596</td>\n",
       "    </tr>\n",
       "    <tr>\n",
       "      <th>2</th>\n",
       "      <td>0.008160</td>\n",
       "      <td>0.855567</td>\n",
       "    </tr>\n",
       "    <tr>\n",
       "      <th>3</th>\n",
       "      <td>0.229969</td>\n",
       "      <td>0.177738</td>\n",
       "    </tr>\n",
       "    <tr>\n",
       "      <th>4</th>\n",
       "      <td>0.220083</td>\n",
       "      <td>0.801892</td>\n",
       "    </tr>\n",
       "  </tbody>\n",
       "</table>\n",
       "</div>"
      ]
     },
     "metadata": {}
    }
   ],
   "metadata": {}
  }
 ],
 "metadata": {
  "orig_nbformat": 4,
  "language_info": {
   "name": "python",
   "version": "3.8.8",
   "mimetype": "text/x-python",
   "codemirror_mode": {
    "name": "ipython",
    "version": 3
   },
   "pygments_lexer": "ipython3",
   "nbconvert_exporter": "python",
   "file_extension": ".py"
  },
  "kernelspec": {
   "name": "python3",
   "display_name": "Python 3.8.8 64-bit ('base': conda)"
  },
  "interpreter": {
   "hash": "be725e0de8fb3f5fda9b0118bdf797fa9814e28e467c1cce77c5b9910d8a1786"
  }
 },
 "nbformat": 4,
 "nbformat_minor": 2
}