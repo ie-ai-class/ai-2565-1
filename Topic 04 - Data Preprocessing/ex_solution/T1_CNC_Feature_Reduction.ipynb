{
 "metadata": {
  "language_info": {
   "codemirror_mode": {
    "name": "ipython",
    "version": 3
   },
   "file_extension": ".py",
   "mimetype": "text/x-python",
   "name": "python",
   "nbconvert_exporter": "python",
   "pygments_lexer": "ipython3",
   "version": "3.8.8"
  },
  "orig_nbformat": 4,
  "kernelspec": {
   "name": "python3",
   "display_name": "Python 3.8.8 64-bit ('base': conda)"
  },
  "interpreter": {
   "hash": "be725e0de8fb3f5fda9b0118bdf797fa9814e28e467c1cce77c5b9910d8a1786"
  }
 },
 "nbformat": 4,
 "nbformat_minor": 2,
 "cells": [
  {
   "cell_type": "markdown",
   "source": [
    "# CNC Mill Tool Wear\r\n",
    "- https://www.kaggle.com/shasun/tool-wear-detection-in-cnc-mill\r\n",
    "- Predict \"Machining_Process\""
   ],
   "metadata": {}
  },
  {
   "cell_type": "markdown",
   "source": [
    "## Setup"
   ],
   "metadata": {}
  },
  {
   "cell_type": "code",
   "execution_count": 84,
   "source": [
    "import numpy as np\r\n",
    "import matplotlib.pyplot as plt\r\n",
    "import pandas as pd\r\n",
    "from sklearn.model_selection import train_test_split\r\n",
    "from sklearn.preprocessing import StandardScaler\r\n",
    "from sklearn.metrics import accuracy_score"
   ],
   "outputs": [],
   "metadata": {}
  },
  {
   "cell_type": "code",
   "execution_count": 85,
   "source": [
    "import os\r\n",
    "path_parent = os.path.dirname(os.getcwd())\r\n",
    "saveFolder = os.path.join(path_parent, 'Topic 02 - Classification', 'Data_CNC_Processed')\r\n",
    "print(saveFolder)\r\n",
    "#saveFolder = '..\\Topic 02 - Classification\\Data_CNC_Processed'\r\n",
    "filename = 'pred_machining_process'\r\n",
    "compression = 'gzip'\r\n",
    "df = pd.read_pickle(f'{saveFolder}/{filename}.pkl',compression=compression)\r\n",
    "df.head(3)"
   ],
   "outputs": [
    {
     "output_type": "stream",
     "name": "stdout",
     "text": [
      "f:\\Work\\Coding\\Class\\ai-class-2564-1\\Topic 02 - Classification\\Data_CNC_Processed\n"
     ]
    },
    {
     "output_type": "execute_result",
     "data": {
      "text/plain": [
       "   X1_ActualPosition  X1_ActualVelocity  X1_ActualAcceleration  \\\n",
       "0              198.0                0.0                   0.00   \n",
       "1              198.0              -10.8                -350.00   \n",
       "2              196.0              -17.8                  -6.25   \n",
       "\n",
       "   X1_CommandPosition  X1_CommandVelocity  X1_CommandAcceleration  \\\n",
       "0               198.0                 0.0                0.000000   \n",
       "1               198.0               -13.6             -358.000000   \n",
       "2               196.0               -17.9               -0.000095   \n",
       "\n",
       "   X1_CurrentFeedback  X1_DCBusVoltage  X1_OutputCurrent  X1_OutputVoltage  \\\n",
       "0                0.18           0.0207             329.0              2.77   \n",
       "1              -10.90           0.1860             328.0             23.30   \n",
       "2               -8.59           0.1400             328.0             30.60   \n",
       "\n",
       "   ...  S1_OutputCurrent  S1_OutputVoltage  S1_OutputPower  S1_SystemInertia  \\\n",
       "0  ...             329.0               0.0    6.960000e-07              12.0   \n",
       "1  ...             328.0               0.0   -5.270000e-07              12.0   \n",
       "2  ...             328.0               0.0    9.100000e-07              12.0   \n",
       "\n",
       "   M1_CURRENT_PROGRAM_NUMBER  M1_sequence_number  M1_CURRENT_FEEDRATE  \\\n",
       "0                        1.0                 0.0                 50.0   \n",
       "1                        1.0                 4.0                 50.0   \n",
       "2                        1.0                 7.0                 50.0   \n",
       "\n",
       "   Machining_Process  feedrate  clamp_pressure  \n",
       "0                  7         6             4.0  \n",
       "1                  7         6             4.0  \n",
       "2                  7         6             4.0  \n",
       "\n",
       "[3 rows x 50 columns]"
      ],
      "text/html": [
       "<div>\n",
       "<style scoped>\n",
       "    .dataframe tbody tr th:only-of-type {\n",
       "        vertical-align: middle;\n",
       "    }\n",
       "\n",
       "    .dataframe tbody tr th {\n",
       "        vertical-align: top;\n",
       "    }\n",
       "\n",
       "    .dataframe thead th {\n",
       "        text-align: right;\n",
       "    }\n",
       "</style>\n",
       "<table border=\"1\" class=\"dataframe\">\n",
       "  <thead>\n",
       "    <tr style=\"text-align: right;\">\n",
       "      <th></th>\n",
       "      <th>X1_ActualPosition</th>\n",
       "      <th>X1_ActualVelocity</th>\n",
       "      <th>X1_ActualAcceleration</th>\n",
       "      <th>X1_CommandPosition</th>\n",
       "      <th>X1_CommandVelocity</th>\n",
       "      <th>X1_CommandAcceleration</th>\n",
       "      <th>X1_CurrentFeedback</th>\n",
       "      <th>X1_DCBusVoltage</th>\n",
       "      <th>X1_OutputCurrent</th>\n",
       "      <th>X1_OutputVoltage</th>\n",
       "      <th>...</th>\n",
       "      <th>S1_OutputCurrent</th>\n",
       "      <th>S1_OutputVoltage</th>\n",
       "      <th>S1_OutputPower</th>\n",
       "      <th>S1_SystemInertia</th>\n",
       "      <th>M1_CURRENT_PROGRAM_NUMBER</th>\n",
       "      <th>M1_sequence_number</th>\n",
       "      <th>M1_CURRENT_FEEDRATE</th>\n",
       "      <th>Machining_Process</th>\n",
       "      <th>feedrate</th>\n",
       "      <th>clamp_pressure</th>\n",
       "    </tr>\n",
       "  </thead>\n",
       "  <tbody>\n",
       "    <tr>\n",
       "      <th>0</th>\n",
       "      <td>198.0</td>\n",
       "      <td>0.0</td>\n",
       "      <td>0.00</td>\n",
       "      <td>198.0</td>\n",
       "      <td>0.0</td>\n",
       "      <td>0.000000</td>\n",
       "      <td>0.18</td>\n",
       "      <td>0.0207</td>\n",
       "      <td>329.0</td>\n",
       "      <td>2.77</td>\n",
       "      <td>...</td>\n",
       "      <td>329.0</td>\n",
       "      <td>0.0</td>\n",
       "      <td>6.960000e-07</td>\n",
       "      <td>12.0</td>\n",
       "      <td>1.0</td>\n",
       "      <td>0.0</td>\n",
       "      <td>50.0</td>\n",
       "      <td>7</td>\n",
       "      <td>6</td>\n",
       "      <td>4.0</td>\n",
       "    </tr>\n",
       "    <tr>\n",
       "      <th>1</th>\n",
       "      <td>198.0</td>\n",
       "      <td>-10.8</td>\n",
       "      <td>-350.00</td>\n",
       "      <td>198.0</td>\n",
       "      <td>-13.6</td>\n",
       "      <td>-358.000000</td>\n",
       "      <td>-10.90</td>\n",
       "      <td>0.1860</td>\n",
       "      <td>328.0</td>\n",
       "      <td>23.30</td>\n",
       "      <td>...</td>\n",
       "      <td>328.0</td>\n",
       "      <td>0.0</td>\n",
       "      <td>-5.270000e-07</td>\n",
       "      <td>12.0</td>\n",
       "      <td>1.0</td>\n",
       "      <td>4.0</td>\n",
       "      <td>50.0</td>\n",
       "      <td>7</td>\n",
       "      <td>6</td>\n",
       "      <td>4.0</td>\n",
       "    </tr>\n",
       "    <tr>\n",
       "      <th>2</th>\n",
       "      <td>196.0</td>\n",
       "      <td>-17.8</td>\n",
       "      <td>-6.25</td>\n",
       "      <td>196.0</td>\n",
       "      <td>-17.9</td>\n",
       "      <td>-0.000095</td>\n",
       "      <td>-8.59</td>\n",
       "      <td>0.1400</td>\n",
       "      <td>328.0</td>\n",
       "      <td>30.60</td>\n",
       "      <td>...</td>\n",
       "      <td>328.0</td>\n",
       "      <td>0.0</td>\n",
       "      <td>9.100000e-07</td>\n",
       "      <td>12.0</td>\n",
       "      <td>1.0</td>\n",
       "      <td>7.0</td>\n",
       "      <td>50.0</td>\n",
       "      <td>7</td>\n",
       "      <td>6</td>\n",
       "      <td>4.0</td>\n",
       "    </tr>\n",
       "  </tbody>\n",
       "</table>\n",
       "<p>3 rows × 50 columns</p>\n",
       "</div>"
      ]
     },
     "metadata": {},
     "execution_count": 85
    }
   ],
   "metadata": {}
  },
  {
   "cell_type": "code",
   "execution_count": 86,
   "source": [
    "max_features = 20"
   ],
   "outputs": [],
   "metadata": {}
  },
  {
   "cell_type": "markdown",
   "source": [
    "# Transform X with variance selector"
   ],
   "metadata": {}
  },
  {
   "cell_type": "code",
   "execution_count": 87,
   "source": [
    "from sklearn.feature_selection import VarianceThreshold\r\n",
    "\r\n",
    "colsX = np.array([item for item in df.columns if item not in 'Machining_Process'])\r\n",
    "X = df[colsX].values\r\n",
    "y = df['Machining_Process'].values\r\n",
    "\r\n",
    "# Creating object\r\n",
    "sel = VarianceThreshold(threshold=0)\r\n",
    "\r\n",
    "# Fitting\r\n",
    "sel.fit(X)\r\n",
    "\r\n",
    "# Boolean\r\n",
    "sup = sel.get_support()\r\n",
    "cols_sel = colsX[sup]\r\n",
    "print(f'Chosen columns:')\r\n",
    "print('-'*30)\r\n",
    "print(*cols_sel, sep=', ')\r\n",
    "\r\n",
    "cols_rem = colsX[np.logical_not(sup)]\r\n",
    "print(f'\\nRemoved columns:')\r\n",
    "print('-'*30)\r\n",
    "print(*cols_rem, sep=', ')\r\n",
    "\r\n",
    "X = sel.transform(X)\r\n",
    "dfX = pd.DataFrame(data=X, columns=cols_sel)\r\n",
    "dfX.head()\r\n",
    "\r\n",
    "# Initialize dictionary to store selector\r\n",
    "sel = {}"
   ],
   "outputs": [
    {
     "output_type": "stream",
     "name": "stdout",
     "text": [
      "Chosen columns:\n",
      "------------------------------\n",
      "X1_ActualPosition, X1_ActualVelocity, X1_ActualAcceleration, X1_CommandPosition, X1_CommandVelocity, X1_CommandAcceleration, X1_CurrentFeedback, X1_DCBusVoltage, X1_OutputCurrent, X1_OutputVoltage, X1_OutputPower, Y1_ActualPosition, Y1_ActualVelocity, Y1_ActualAcceleration, Y1_CommandPosition, Y1_CommandVelocity, Y1_CommandAcceleration, Y1_CurrentFeedback, Y1_DCBusVoltage, Y1_OutputCurrent, Y1_OutputVoltage, Y1_OutputPower, Z1_ActualPosition, Z1_ActualVelocity, Z1_ActualAcceleration, Z1_CommandPosition, Z1_CommandVelocity, Z1_CommandAcceleration, S1_ActualPosition, S1_ActualVelocity, S1_ActualAcceleration, S1_CommandPosition, S1_CommandVelocity, S1_CommandAcceleration, S1_CurrentFeedback, S1_DCBusVoltage, S1_OutputCurrent, S1_OutputVoltage, S1_OutputPower, M1_CURRENT_PROGRAM_NUMBER, M1_sequence_number, M1_CURRENT_FEEDRATE, feedrate, clamp_pressure\n",
      "\n",
      "Removed columns:\n",
      "------------------------------\n",
      "Z1_CurrentFeedback, Z1_DCBusVoltage, Z1_OutputCurrent, Z1_OutputVoltage, S1_SystemInertia\n"
     ]
    }
   ],
   "metadata": {}
  },
  {
   "cell_type": "markdown",
   "source": [
    "## L1"
   ],
   "metadata": {}
  },
  {
   "cell_type": "code",
   "execution_count": 88,
   "source": [
    "from sklearn.feature_selection import SelectFromModel\r\n",
    "from sklearn.linear_model import LogisticRegression\r\n",
    "\r\n",
    "# Split\r\n",
    "X_train, X_test, y_train, y_test = train_test_split(X, y, test_size=0.9, random_state=0, stratify=y)\r\n",
    "stdsc = StandardScaler()\r\n",
    "X_train_std = stdsc.fit_transform(X_train)\r\n",
    "print(X_train_std.shape)\r\n",
    "# Classifier\r\n",
    "lr = LogisticRegression(solver='liblinear', penalty='l1', C=0.1, multi_class='ovr')\r\n",
    "\r\n",
    "# Create selector object\r\n",
    "threshold=1e-5\r\n",
    "sel['L1'] = SelectFromModel(estimator=lr, norm_order=1, threshold=threshold, max_features=max_features)\r\n",
    "\r\n",
    "# Training\r\n",
    "sel['L1'].fit(X_train_std, y_train)\r\n",
    "\r\n",
    "# Extract norm of weights\r\n",
    "coef = sel['L1'].estimator_.coef_\r\n",
    "coef_norm = np.linalg.norm(coef , ord=1, axis=0)\r\n",
    "\r\n",
    "# Get column boolean\r\n",
    "sup = sel['L1'].get_support()\r\n",
    "print('\\nSupport array')\r\n",
    "print('-'*30)\r\n",
    "print(*sup, sep=', ')"
   ],
   "outputs": [
    {
     "output_type": "stream",
     "name": "stdout",
     "text": [
      "(2528, 44)\n",
      "\n",
      "Support array\n",
      "------------------------------\n",
      "True, False, True, False, False, False, True, True, True, False, True, False, False, False, False, True, False, True, True, True, False, True, False, False, True, True, False, False, True, False, False, True, False, False, False, False, True, False, False, False, True, True, True, True\n"
     ]
    }
   ],
   "metadata": {}
  },
  {
   "cell_type": "code",
   "execution_count": 89,
   "source": [
    "# Sort array from based on weights from large to small\r\n",
    "cols = dfX.columns\r\n",
    "idxs = np.argsort(coef_norm)[::-1]\r\n",
    "sup = sup[idxs]\r\n",
    "coef_norm = coef_norm[idxs]\r\n",
    "cols = cols[idxs]\r\n",
    "\r\n",
    "# Print results\r\n",
    "for count, (col, coef) in enumerate(zip(cols, coef_norm)):\r\n",
    "    print(f\"{count+1:2d}) {col:30s} \\t{coef:5.3f}\")"
   ],
   "outputs": [
    {
     "output_type": "stream",
     "name": "stdout",
     "text": [
      " 1) feedrate                       \t1.117\n",
      " 2) clamp_pressure                 \t0.728\n",
      " 3) Y1_OutputCurrent               \t0.704\n",
      " 4) X1_OutputCurrent               \t0.518\n",
      " 5) X1_ActualPosition              \t0.488\n",
      " 6) M1_CURRENT_FEEDRATE            \t0.478\n",
      " 7) M1_sequence_number             \t0.424\n",
      " 8) S1_CommandPosition             \t0.386\n",
      " 9) S1_OutputCurrent               \t0.341\n",
      "10) Y1_CurrentFeedback             \t0.319\n",
      "11) Y1_OutputPower                 \t0.282\n",
      "12) X1_OutputPower                 \t0.281\n",
      "13) Y1_DCBusVoltage                \t0.244\n",
      "14) X1_ActualAcceleration          \t0.225\n",
      "15) Z1_ActualAcceleration          \t0.204\n",
      "16) Z1_CommandPosition             \t0.202\n",
      "17) S1_ActualPosition              \t0.197\n",
      "18) X1_CurrentFeedback             \t0.193\n",
      "19) Y1_CommandVelocity             \t0.189\n",
      "20) X1_DCBusVoltage                \t0.163\n",
      "21) Z1_ActualVelocity              \t0.162\n",
      "22) Y1_CommandPosition             \t0.153\n",
      "23) X1_ActualVelocity              \t0.149\n",
      "24) X1_CommandAcceleration         \t0.147\n",
      "25) Y1_ActualVelocity              \t0.123\n",
      "26) M1_CURRENT_PROGRAM_NUMBER      \t0.108\n",
      "27) S1_CommandAcceleration         \t0.106\n",
      "28) Y1_ActualAcceleration          \t0.100\n",
      "29) X1_OutputVoltage               \t0.091\n",
      "30) S1_ActualAcceleration          \t0.086\n",
      "31) S1_CurrentFeedback             \t0.084\n",
      "32) Y1_CommandAcceleration         \t0.071\n",
      "33) Y1_OutputVoltage               \t0.062\n",
      "34) X1_CommandPosition             \t0.061\n",
      "35) S1_ActualVelocity              \t0.050\n",
      "36) Z1_CommandVelocity             \t0.045\n",
      "37) Z1_CommandAcceleration         \t0.015\n",
      "38) X1_CommandVelocity             \t0.000\n",
      "39) S1_CommandVelocity             \t0.000\n",
      "40) S1_DCBusVoltage                \t0.000\n",
      "41) Y1_ActualPosition              \t0.000\n",
      "42) S1_OutputVoltage               \t0.000\n",
      "43) Z1_ActualPosition              \t0.000\n",
      "44) S1_OutputPower                 \t0.000\n"
     ]
    }
   ],
   "metadata": {}
  },
  {
   "cell_type": "code",
   "execution_count": 90,
   "source": [
    "# Print columns\r\n",
    "cols_sel = cols[sup]\r\n",
    "print('\\nChosen columns')\r\n",
    "print('-'*30)\r\n",
    "print(*cols_sel, sep=', ')\r\n",
    "\r\n",
    "cols_rem = cols[np.logical_not(sup)]\r\n",
    "print(f'\\nRemoved columns')\r\n",
    "print('-'*30)\r\n",
    "print(*cols_rem, sep=', ')"
   ],
   "outputs": [
    {
     "output_type": "stream",
     "name": "stdout",
     "text": [
      "\n",
      "Chosen columns\n",
      "------------------------------\n",
      "feedrate, clamp_pressure, Y1_OutputCurrent, X1_OutputCurrent, X1_ActualPosition, M1_CURRENT_FEEDRATE, M1_sequence_number, S1_CommandPosition, S1_OutputCurrent, Y1_CurrentFeedback, Y1_OutputPower, X1_OutputPower, Y1_DCBusVoltage, X1_ActualAcceleration, Z1_ActualAcceleration, Z1_CommandPosition, S1_ActualPosition, X1_CurrentFeedback, Y1_CommandVelocity, X1_DCBusVoltage\n",
      "\n",
      "Removed columns\n",
      "------------------------------\n",
      "Z1_ActualVelocity, Y1_CommandPosition, X1_ActualVelocity, X1_CommandAcceleration, Y1_ActualVelocity, M1_CURRENT_PROGRAM_NUMBER, S1_CommandAcceleration, Y1_ActualAcceleration, X1_OutputVoltage, S1_ActualAcceleration, S1_CurrentFeedback, Y1_CommandAcceleration, Y1_OutputVoltage, X1_CommandPosition, S1_ActualVelocity, Z1_CommandVelocity, Z1_CommandAcceleration, X1_CommandVelocity, S1_CommandVelocity, S1_DCBusVoltage, Y1_ActualPosition, S1_OutputVoltage, Z1_ActualPosition, S1_OutputPower\n"
     ]
    }
   ],
   "metadata": {}
  },
  {
   "cell_type": "markdown",
   "source": [
    "## Importance"
   ],
   "metadata": {}
  },
  {
   "cell_type": "code",
   "execution_count": 91,
   "source": [
    "from sklearn.ensemble import RandomForestClassifier\r\n",
    "\r\n",
    "# Split\r\n",
    "X_train, X_test, y_train, y_test = train_test_split(X, y, test_size=0.9, random_state=0, stratify=y)\r\n",
    "stdsc = StandardScaler()\r\n",
    "X_train_std = stdsc.fit_transform(X_train)\r\n",
    "print(X_train_std.shape)\r\n",
    "\r\n",
    "#Create classifier\r\n",
    "forest = RandomForestClassifier(n_estimators=500, random_state=0, n_jobs=-1)\r\n",
    "\r\n",
    "#Create object\r\n",
    "threshold = 1e-15\r\n",
    "sel['imp'] = SelectFromModel(forest, threshold=threshold, max_features=max_features)\r\n",
    "\r\n",
    "# Training (Actually, it does not matter whether we have X_train_std or X_train because random forrest does not care)\r\n",
    "sel['imp'].fit(X_train_std, y_train)\r\n",
    "\r\n",
    "# Columns chosen\r\n",
    "sup = sel['imp'].get_support()\r\n",
    "\r\n",
    "# Extract importances values\r\n",
    "importances = sel['imp'].estimator_.feature_importances_\r\n",
    "\r\n",
    "# Select only chosen columns\r\n",
    "print('\\nSupport array')\r\n",
    "print('-'*30)\r\n",
    "print(*sup, sep=', ')"
   ],
   "outputs": [
    {
     "output_type": "stream",
     "name": "stdout",
     "text": [
      "(2528, 44)\n",
      "\n",
      "Support array\n",
      "------------------------------\n",
      "False, True, True, False, False, False, True, True, False, True, True, False, True, True, False, False, False, True, True, False, True, True, False, False, False, False, False, False, True, False, True, True, False, False, True, True, True, False, True, False, True, False, False, False\n"
     ]
    }
   ],
   "metadata": {}
  },
  {
   "cell_type": "code",
   "execution_count": 92,
   "source": [
    "# Sort array from based on importances from large to small\r\n",
    "cols = dfX.columns\r\n",
    "idxs = np.argsort(importances)[::-1]\r\n",
    "sup = sup[idxs]\r\n",
    "importances = importances[idxs]\r\n",
    "cols = cols[idxs]\r\n",
    "\r\n",
    "# Print results\r\n",
    "for count, (col, importance) in enumerate(zip(cols, importances)):\r\n",
    "    print(f\"{count+1:2d}) {col:30s} \\t{importance:5.3f}\")"
   ],
   "outputs": [
    {
     "output_type": "stream",
     "name": "stdout",
     "text": [
      " 1) S1_CommandPosition             \t0.043\n",
      " 2) S1_ActualPosition              \t0.043\n",
      " 3) Y1_CurrentFeedback             \t0.042\n",
      " 4) S1_CurrentFeedback             \t0.039\n",
      " 5) X1_OutputPower                 \t0.038\n",
      " 6) X1_CurrentFeedback             \t0.038\n",
      " 7) Y1_OutputPower                 \t0.038\n",
      " 8) S1_ActualAcceleration          \t0.037\n",
      " 9) Y1_DCBusVoltage                \t0.035\n",
      "10) Y1_OutputVoltage               \t0.035\n",
      "11) X1_OutputVoltage               \t0.035\n",
      "12) X1_DCBusVoltage                \t0.035\n",
      "13) S1_OutputPower                 \t0.035\n",
      "14) X1_ActualAcceleration          \t0.031\n",
      "15) X1_ActualVelocity              \t0.030\n",
      "16) Y1_ActualAcceleration          \t0.029\n",
      "17) M1_sequence_number             \t0.029\n",
      "18) Y1_ActualVelocity              \t0.028\n",
      "19) S1_OutputCurrent               \t0.025\n",
      "20) S1_DCBusVoltage                \t0.023\n",
      "21) Y1_CommandPosition             \t0.020\n",
      "22) Y1_ActualPosition              \t0.020\n",
      "23) Z1_ActualAcceleration          \t0.020\n",
      "24) Z1_CommandPosition             \t0.020\n",
      "25) Z1_ActualPosition              \t0.019\n",
      "26) X1_ActualPosition              \t0.019\n",
      "27) clamp_pressure                 \t0.018\n",
      "28) X1_CommandPosition             \t0.018\n",
      "29) S1_ActualVelocity              \t0.018\n",
      "30) S1_OutputVoltage               \t0.018\n",
      "31) Z1_ActualVelocity              \t0.014\n",
      "32) Y1_OutputCurrent               \t0.014\n",
      "33) X1_CommandVelocity             \t0.014\n",
      "34) X1_OutputCurrent               \t0.013\n",
      "35) Y1_CommandVelocity             \t0.013\n",
      "36) Y1_CommandAcceleration         \t0.012\n",
      "37) X1_CommandAcceleration         \t0.012\n",
      "38) feedrate                       \t0.012\n",
      "39) S1_CommandAcceleration         \t0.008\n",
      "40) M1_CURRENT_FEEDRATE            \t0.007\n",
      "41) M1_CURRENT_PROGRAM_NUMBER      \t0.002\n",
      "42) Z1_CommandVelocity             \t0.002\n",
      "43) Z1_CommandAcceleration         \t0.001\n",
      "44) S1_CommandVelocity             \t0.000\n"
     ]
    }
   ],
   "metadata": {}
  },
  {
   "cell_type": "code",
   "execution_count": 93,
   "source": [
    "# Print columns\r\n",
    "cols_sel = cols[sup]\r\n",
    "print('\\nChosen columns')\r\n",
    "print('-'*30)\r\n",
    "print(*cols_sel, sep=', ')\r\n",
    "\r\n",
    "cols_rem = cols[np.logical_not(sup)]\r\n",
    "print(f'\\nRemoved columns')\r\n",
    "print('-'*30)\r\n",
    "print(*cols_rem, sep=', ')"
   ],
   "outputs": [
    {
     "output_type": "stream",
     "name": "stdout",
     "text": [
      "\n",
      "Chosen columns\n",
      "------------------------------\n",
      "S1_CommandPosition, S1_ActualPosition, Y1_CurrentFeedback, S1_CurrentFeedback, X1_OutputPower, X1_CurrentFeedback, Y1_OutputPower, S1_ActualAcceleration, Y1_DCBusVoltage, Y1_OutputVoltage, X1_OutputVoltage, X1_DCBusVoltage, S1_OutputPower, X1_ActualAcceleration, X1_ActualVelocity, Y1_ActualAcceleration, M1_sequence_number, Y1_ActualVelocity, S1_OutputCurrent, S1_DCBusVoltage\n",
      "\n",
      "Removed columns\n",
      "------------------------------\n",
      "Y1_CommandPosition, Y1_ActualPosition, Z1_ActualAcceleration, Z1_CommandPosition, Z1_ActualPosition, X1_ActualPosition, clamp_pressure, X1_CommandPosition, S1_ActualVelocity, S1_OutputVoltage, Z1_ActualVelocity, Y1_OutputCurrent, X1_CommandVelocity, X1_OutputCurrent, Y1_CommandVelocity, Y1_CommandAcceleration, X1_CommandAcceleration, feedrate, S1_CommandAcceleration, M1_CURRENT_FEEDRATE, M1_CURRENT_PROGRAM_NUMBER, Z1_CommandVelocity, Z1_CommandAcceleration, S1_CommandVelocity\n"
     ]
    }
   ],
   "metadata": {}
  },
  {
   "cell_type": "markdown",
   "source": [
    "# Sequential feature selector\r\n",
    "- KNN yields much worse accuracy\r\n",
    "- Better results with small forrest as classifier\r\n",
    "- Backward yields better accuracy\r\n"
   ],
   "metadata": {}
  },
  {
   "cell_type": "code",
   "execution_count": 94,
   "source": [
    "from sklearn.neighbors import KNeighborsClassifier\r\n",
    "from sklearn.feature_selection import SequentialFeatureSelector\r\n",
    "\r\n",
    "# Split\r\n",
    "X_train, X_test, y_train, y_test = train_test_split(X, y, test_size=0.98, random_state=0, stratify=y)\r\n",
    "stdsc = StandardScaler()\r\n",
    "X_train_std = stdsc.fit_transform(X_train)\r\n",
    "print(X_train_std.shape)\r\n",
    "\r\n",
    "# Create classifier\r\n",
    "knn = KNeighborsClassifier(n_neighbors=3)\r\n",
    "forest = RandomForestClassifier(n_estimators=10, random_state=0, n_jobs=-1)\r\n",
    "\r\n",
    "# Create selector object\r\n",
    "sel['seq_forward'] = SequentialFeatureSelector(forest, direction='forward', n_features_to_select=max_features, scoring='accuracy', cv=3, n_jobs=-1)\r\n",
    "\r\n",
    "# Training\r\n",
    "sel['seq_forward'].fit(X_train_std, y_train)\r\n",
    "\r\n",
    "# Get column boolean\r\n",
    "sup = sel['seq_forward'].get_support()\r\n",
    "print('\\nSupport array')\r\n",
    "print('-'*30)\r\n",
    "print(*sup, sep=', ')"
   ],
   "outputs": [
    {
     "output_type": "stream",
     "name": "stdout",
     "text": [
      "(505, 44)\n",
      "\n",
      "Support array\n",
      "------------------------------\n",
      "False, False, False, False, False, True, False, False, True, False, False, True, True, False, True, True, False, False, False, True, True, False, True, True, False, True, True, True, True, False, False, True, True, False, False, False, False, True, False, True, False, False, True, True\n"
     ]
    }
   ],
   "metadata": {}
  },
  {
   "cell_type": "code",
   "execution_count": 95,
   "source": [
    "# Print columns\r\n",
    "cols = dfX.columns\r\n",
    "cols_sel = cols[sup]\r\n",
    "print('\\nChosen columns')\r\n",
    "print('-'*30)\r\n",
    "print(*cols_sel, sep=', ')\r\n",
    "\r\n",
    "cols_rem = cols[np.logical_not(sup)]\r\n",
    "print(f'\\nRemoved columns')\r\n",
    "print('-'*30)\r\n",
    "print(*cols_rem, sep=', ')"
   ],
   "outputs": [
    {
     "output_type": "stream",
     "name": "stdout",
     "text": [
      "\n",
      "Chosen columns\n",
      "------------------------------\n",
      "X1_CommandAcceleration, X1_OutputCurrent, Y1_ActualPosition, Y1_ActualVelocity, Y1_CommandPosition, Y1_CommandVelocity, Y1_OutputCurrent, Y1_OutputVoltage, Z1_ActualPosition, Z1_ActualVelocity, Z1_CommandPosition, Z1_CommandVelocity, Z1_CommandAcceleration, S1_ActualPosition, S1_CommandPosition, S1_CommandVelocity, S1_OutputVoltage, M1_CURRENT_PROGRAM_NUMBER, feedrate, clamp_pressure\n",
      "\n",
      "Removed columns\n",
      "------------------------------\n",
      "X1_ActualPosition, X1_ActualVelocity, X1_ActualAcceleration, X1_CommandPosition, X1_CommandVelocity, X1_CurrentFeedback, X1_DCBusVoltage, X1_OutputVoltage, X1_OutputPower, Y1_ActualAcceleration, Y1_CommandAcceleration, Y1_CurrentFeedback, Y1_DCBusVoltage, Y1_OutputPower, Z1_ActualAcceleration, S1_ActualVelocity, S1_ActualAcceleration, S1_CommandAcceleration, S1_CurrentFeedback, S1_DCBusVoltage, S1_OutputCurrent, S1_OutputPower, M1_sequence_number, M1_CURRENT_FEEDRATE\n"
     ]
    }
   ],
   "metadata": {}
  },
  {
   "cell_type": "code",
   "execution_count": 96,
   "source": [
    "from sklearn.neighbors import KNeighborsClassifier\r\n",
    "from sklearn.feature_selection import SequentialFeatureSelector\r\n",
    "\r\n",
    "# Split\r\n",
    "X_train, X_test, y_train, y_test = train_test_split(X, y, test_size=0.98, random_state=0, stratify=y)\r\n",
    "stdsc = StandardScaler()\r\n",
    "X_train_std = stdsc.fit_transform(X_train)\r\n",
    "print(X_train_std.shape)\r\n",
    "\r\n",
    "# Create classifier\r\n",
    "knn = KNeighborsClassifier(n_neighbors=3)\r\n",
    "forest = RandomForestClassifier(n_estimators=10, random_state=0, n_jobs=-1)\r\n",
    "\r\n",
    "# Create selector object\r\n",
    "sel['seq_backward'] = SequentialFeatureSelector(forest, direction='backward', n_features_to_select=max_features, scoring='accuracy', cv=3, n_jobs=-1)\r\n",
    "\r\n",
    "# Training\r\n",
    "sel['seq_backward'].fit(X_train_std, y_train)\r\n",
    "\r\n",
    "# Get column boolean\r\n",
    "sup = sel['seq_backward'].get_support()\r\n",
    "print('\\nSupport array')\r\n",
    "print('-'*30)\r\n",
    "print(*sup, sep=', ')"
   ],
   "outputs": [
    {
     "output_type": "stream",
     "name": "stdout",
     "text": [
      "(505, 44)\n",
      "\n",
      "Support array\n",
      "------------------------------\n",
      "False, False, False, True, False, False, False, False, True, False, True, True, False, True, False, True, True, True, False, True, False, True, True, False, True, False, False, False, True, False, False, True, False, False, False, False, True, False, True, True, True, False, True, True\n"
     ]
    }
   ],
   "metadata": {}
  },
  {
   "cell_type": "markdown",
   "source": [
    "## Training with random forrest"
   ],
   "metadata": {}
  },
  {
   "cell_type": "code",
   "execution_count": 97,
   "source": [
    "from sklearn.ensemble import RandomForestClassifier\r\n",
    "\r\n",
    "paramSetAll = {\r\n",
    "    \"ex1\": {\r\n",
    "        \"criterion\": \"gini\",\r\n",
    "        \"n_estimators\": 25,\r\n",
    "        \"max_samples\": None,\r\n",
    "        \"max_features\": \"auto\",\r\n",
    "        \"max_depth\": None,\r\n",
    "    },\r\n",
    "    \"ex2\": {\r\n",
    "        \"criterion\": \"gini\",\r\n",
    "        \"n_estimators\": 50,\r\n",
    "        \"max_samples\": None,\r\n",
    "        \"max_features\": \"auto\",\r\n",
    "        \"max_depth\": None,\r\n",
    "    },\r\n",
    "    \"ex3\": {\r\n",
    "        \"criterion\": \"gini\",\r\n",
    "        \"n_estimators\": 100,\r\n",
    "        \"max_samples\": None,\r\n",
    "        \"max_features\": \"auto\",\r\n",
    "        \"max_depth\": None,\r\n",
    "    },\r\n",
    "}"
   ],
   "outputs": [],
   "metadata": {}
  },
  {
   "cell_type": "code",
   "execution_count": 98,
   "source": [
    "cl = list(range(1,4))\r\n",
    "ca = [ f'ex{i}' for i in cl]\r\n",
    "paramSet = { k: paramSetAll[k] for k in ca} \r\n",
    "print(paramSet)"
   ],
   "outputs": [
    {
     "output_type": "stream",
     "name": "stdout",
     "text": [
      "{'ex1': {'criterion': 'gini', 'n_estimators': 25, 'max_samples': None, 'max_features': 'auto', 'max_depth': None}, 'ex2': {'criterion': 'gini', 'n_estimators': 50, 'max_samples': None, 'max_features': 'auto', 'max_depth': None}, 'ex3': {'criterion': 'gini', 'n_estimators': 100, 'max_samples': None, 'max_features': 'auto', 'max_depth': None}}\n"
     ]
    }
   ],
   "metadata": {}
  },
  {
   "cell_type": "code",
   "execution_count": 99,
   "source": [
    "def training(X_train, y_train, X_test, y_test):\r\n",
    "    for paramName, paramValue in paramSet.items():\r\n",
    "        # Extract parameteres\r\n",
    "        forrest = RandomForestClassifier(**paramValue)\r\n",
    "\r\n",
    "        # Training\r\n",
    "        forrest.fit(X_train, y_train)\r\n",
    "\r\n",
    "        # Prediction\r\n",
    "        y_pred = forrest.predict(X_test)\r\n",
    "\r\n",
    "        # Misclassification from the test samples\r\n",
    "        sumMiss = (y_test != y_pred).sum()\r\n",
    "\r\n",
    "        # Accuracy score from the test samples\r\n",
    "        accuracyScore = accuracy_score(y_test, y_pred)\r\n",
    "\r\n",
    "        print(f\"Parameters: {paramValue}\")\r\n",
    "        print(f\"Misclassified examples: {sumMiss}\")\r\n",
    "        print(f\"Accuracy score: {accuracyScore}\")\r\n",
    "        print(f\"--------------------------------------------------\")"
   ],
   "outputs": [],
   "metadata": {}
  },
  {
   "cell_type": "code",
   "execution_count": 100,
   "source": [
    "# Split\r\n",
    "X_train, X_test, y_train, y_test = train_test_split(X, y, test_size=0.3, random_state=0, stratify=y)\r\n",
    "\r\n",
    "# Standardize\r\n",
    "stdsc = StandardScaler()\r\n",
    "X_train_std = stdsc.fit_transform(X_train)\r\n",
    "X_test_std = stdsc.transform(X_test)\r\n",
    "print(X_train_std.shape)"
   ],
   "outputs": [
    {
     "output_type": "stream",
     "name": "stdout",
     "text": [
      "(17700, 44)\n"
     ]
    }
   ],
   "metadata": {}
  },
  {
   "cell_type": "code",
   "execution_count": 101,
   "source": [
    "# No transformation\r\n",
    "training(X_train_std, y_train, X_test_std, y_test)"
   ],
   "outputs": [
    {
     "output_type": "stream",
     "name": "stdout",
     "text": [
      "Parameters: {'criterion': 'gini', 'n_estimators': 25, 'max_samples': None, 'max_features': 'auto', 'max_depth': None}\n",
      "Misclassified examples: 2416\n",
      "Accuracy score: 0.681518586870551\n",
      "--------------------------------------------------\n",
      "Parameters: {'criterion': 'gini', 'n_estimators': 50, 'max_samples': None, 'max_features': 'auto', 'max_depth': None}\n",
      "Misclassified examples: 2311\n",
      "Accuracy score: 0.6953598734510941\n",
      "--------------------------------------------------\n",
      "Parameters: {'criterion': 'gini', 'n_estimators': 100, 'max_samples': None, 'max_features': 'auto', 'max_depth': None}\n",
      "Misclassified examples: 2162\n",
      "Accuracy score: 0.7150013182177696\n",
      "--------------------------------------------------\n"
     ]
    }
   ],
   "metadata": {}
  },
  {
   "cell_type": "code",
   "execution_count": 102,
   "source": [
    "X_train_std_trans = sel['L1'].transform(X_train_std)\r\n",
    "X_test_std_trans = sel['L1'].transform(X_test_std)\r\n",
    "\r\n",
    "training(X_train_std_trans, y_train, X_test_std_trans, y_test)"
   ],
   "outputs": [
    {
     "output_type": "stream",
     "name": "stdout",
     "text": [
      "Parameters: {'criterion': 'gini', 'n_estimators': 25, 'max_samples': None, 'max_features': 'auto', 'max_depth': None}\n",
      "Misclassified examples: 2343\n",
      "Accuracy score: 0.6911415765884524\n",
      "--------------------------------------------------\n",
      "Parameters: {'criterion': 'gini', 'n_estimators': 50, 'max_samples': None, 'max_features': 'auto', 'max_depth': None}\n",
      "Misclassified examples: 2222\n",
      "Accuracy score: 0.7070920116003163\n",
      "--------------------------------------------------\n",
      "Parameters: {'criterion': 'gini', 'n_estimators': 100, 'max_samples': None, 'max_features': 'auto', 'max_depth': None}\n",
      "Misclassified examples: 2121\n",
      "Accuracy score: 0.7204060110730293\n",
      "--------------------------------------------------\n"
     ]
    }
   ],
   "metadata": {}
  },
  {
   "cell_type": "code",
   "execution_count": 103,
   "source": [
    "X_train_std_trans = sel['imp'].transform(X_train_std)\r\n",
    "X_test_std_trans = sel['imp'].transform(X_test_std)\r\n",
    "\r\n",
    "training(X_train_std_trans, y_train, X_test_std_trans, y_test)"
   ],
   "outputs": [
    {
     "output_type": "stream",
     "name": "stdout",
     "text": [
      "Parameters: {'criterion': 'gini', 'n_estimators': 25, 'max_samples': None, 'max_features': 'auto', 'max_depth': None}\n",
      "Misclassified examples: 3545\n",
      "Accuracy score: 0.5326918006854733\n",
      "--------------------------------------------------\n",
      "Parameters: {'criterion': 'gini', 'n_estimators': 50, 'max_samples': None, 'max_features': 'auto', 'max_depth': None}\n",
      "Misclassified examples: 3450\n",
      "Accuracy score: 0.5452148694964408\n",
      "--------------------------------------------------\n",
      "Parameters: {'criterion': 'gini', 'n_estimators': 100, 'max_samples': None, 'max_features': 'auto', 'max_depth': None}\n",
      "Misclassified examples: 3295\n",
      "Accuracy score: 0.5656472449248616\n",
      "--------------------------------------------------\n"
     ]
    }
   ],
   "metadata": {}
  },
  {
   "cell_type": "code",
   "execution_count": 104,
   "source": [
    "X_train_std_trans = sel['seq_forward'].transform(X_train_std)\r\n",
    "X_test_std_trans = sel['seq_forward'].transform(X_test_std)\r\n",
    "\r\n",
    "training(X_train_std_trans, y_train, X_test_std_trans, y_test)"
   ],
   "outputs": [
    {
     "output_type": "stream",
     "name": "stdout",
     "text": [
      "Parameters: {'criterion': 'gini', 'n_estimators': 25, 'max_samples': None, 'max_features': 'auto', 'max_depth': None}\n",
      "Misclassified examples: 2141\n",
      "Accuracy score: 0.7177695755338782\n",
      "--------------------------------------------------\n",
      "Parameters: {'criterion': 'gini', 'n_estimators': 50, 'max_samples': None, 'max_features': 'auto', 'max_depth': None}\n",
      "Misclassified examples: 2034\n",
      "Accuracy score: 0.7318745056683365\n",
      "--------------------------------------------------\n",
      "Parameters: {'criterion': 'gini', 'n_estimators': 100, 'max_samples': None, 'max_features': 'auto', 'max_depth': None}\n",
      "Misclassified examples: 1988\n",
      "Accuracy score: 0.7379383074083838\n",
      "--------------------------------------------------\n"
     ]
    }
   ],
   "metadata": {}
  },
  {
   "cell_type": "code",
   "execution_count": 105,
   "source": [
    "X_train_std_trans = sel['seq_backward'].transform(X_train_std)\r\n",
    "X_test_std_trans = sel['seq_backward'].transform(X_test_std)\r\n",
    "\r\n",
    "training(X_train_std_trans, y_train, X_test_std_trans, y_test)"
   ],
   "outputs": [
    {
     "output_type": "stream",
     "name": "stdout",
     "text": [
      "Parameters: {'criterion': 'gini', 'n_estimators': 25, 'max_samples': None, 'max_features': 'auto', 'max_depth': None}\n",
      "Misclassified examples: 2110\n",
      "Accuracy score: 0.7218560506195624\n",
      "--------------------------------------------------\n",
      "Parameters: {'criterion': 'gini', 'n_estimators': 50, 'max_samples': None, 'max_features': 'auto', 'max_depth': None}\n",
      "Misclassified examples: 2054\n",
      "Accuracy score: 0.7292380701291853\n",
      "--------------------------------------------------\n",
      "Parameters: {'criterion': 'gini', 'n_estimators': 100, 'max_samples': None, 'max_features': 'auto', 'max_depth': None}\n",
      "Misclassified examples: 1998\n",
      "Accuracy score: 0.7366200896388083\n",
      "--------------------------------------------------\n"
     ]
    }
   ],
   "metadata": {}
  }
 ]
}