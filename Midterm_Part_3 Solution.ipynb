{
 "cells": [
  {
   "cell_type": "markdown",
   "metadata": {},
   "source": [
    "# Part 3 (Extra credit 5 points)\n",
    "\n",
    "ถ้าเราจะเลือกเพียงแค่ 3 Feature มาใช้ในการทำ Machine Learning (เพื่อเพิ่ม Efficiency ในการ Training) ในกรนีนี้เราควรจะเลือก Feature อะไรที่ให้ Accuracy มากที่สุด"
   ]
  },
  {
   "cell_type": "markdown",
   "metadata": {},
   "source": [
    "## Algorithm\n",
    "\n",
    "ในกรณีนี้เราจะใช้ K-Nearest Neighbor ในการช่วยตัดสินใจในการเลือก Feature (แต่ในการทำ Prediction จริงเราอาจจะใช้ตัวอื่นได้)\n",
    "\n",
    "1. เลือก Feature ขึ้นมา 3 Feature\n",
    "2. ใช้ K-Nearest Neighbor ในการ Train ข้อมูล Training Data\n",
    "3. หา Accuracy โดยการใช้ Test Data\n",
    "\n",
    "ทำข้อ 1. ถึง 3. กับทุก Combination ของ 3 Feature ที่จะเป็นไปได้ แล้วคำตอบก็คือ ชุด Feature ที่มีค่า Accuracy มากที่สุด "
   ]
  },
  {
   "cell_type": "markdown",
   "metadata": {},
   "source": [
    "## Tips\n",
    "\n",
    "- เวลาตอบให้เขียน Code ที่แสดงผลชื่อ Column ที่เลือก และ Accuracy เช่น\n",
    "    - Alcohol, Malic acid, Ash (Accuracy = 0.88) (Format ไม่ต้องตามนี้ก็ได้ แต่ข้อมูลขอแบบนี้)\n",
    "- คำตอบอาจจะมีได้มากกว่า 1 คำตอบ\n",
    "- อย่าลืมว่า K-Nearest Neighbor ต้องทำการ Standardize ข้อมูล\n",
    "- สามารถใช้ itertools.combinations ในการสร้าง Unique Set ของ Feature ที่จะทดลอง (ใช้วิธีอื่นก็ได้)\n",
    "\n",
    "```python\n",
    "import itertools\n",
    "all_combos = list(itertools.combinations([1,2,3,5], 2))\n",
    "print(all_combos)\n",
    "#[(1, 2), (1, 3), (1, 5), (2, 3), (2, 5), (3, 5)]\n",
    "\n",
    "```"
   ]
  },
  {
   "cell_type": "code",
   "execution_count": null,
   "metadata": {},
   "outputs": [],
   "source": [
    "import numpy as np\n",
    "import pandas as pd\n",
    "from sklearn import datasets\n",
    "from sklearn.model_selection import train_test_split\n",
    "from sklearn.preprocessing import StandardScaler\n",
    "from sklearn.metrics import accuracy_score\n",
    "from sklearn.neighbors import KNeighborsClassifier\n",
    "import itertools"
   ]
  }
 ],
 "metadata": {
  "kernelspec": {
   "display_name": "Python 3.9.7 ('base')",
   "language": "python",
   "name": "python3"
  },
  "language_info": {
   "codemirror_mode": {
    "name": "ipython",
    "version": 3
   },
   "file_extension": ".py",
   "mimetype": "text/x-python",
   "name": "python",
   "nbconvert_exporter": "python",
   "pygments_lexer": "ipython3",
   "version": "3.9.7"
  },
  "vscode": {
   "interpreter": {
    "hash": "79088bb772545dc9740b3f6fd02f1fa74686ae15b783fc1c2abf8492adb1c7fb"
   }
  }
 },
 "nbformat": 4,
 "nbformat_minor": 2
}
