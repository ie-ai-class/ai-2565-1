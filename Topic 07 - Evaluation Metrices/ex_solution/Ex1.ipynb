{
 "cells": [
  {
   "cell_type": "markdown",
   "metadata": {},
   "source": [
    "# Exercise 1: Breast Cancer Data (Binary)"
   ]
  },
  {
   "cell_type": "code",
   "execution_count": 35,
   "metadata": {},
   "outputs": [],
   "source": [
    "import pandas as pd\n",
    "import numpy as np\n",
    "import matplotlib.pyplot as plt\n",
    "from sklearn.model_selection import train_test_split\n",
    "from sklearn.preprocessing import StandardScaler\n",
    "from sklearn.svm import SVC\n",
    "from sklearn.pipeline import Pipeline"
   ]
  },
  {
   "cell_type": "code",
   "execution_count": 36,
   "metadata": {},
   "outputs": [
    {
     "data": {
      "text/plain": [
       "<AxesSubplot:>"
      ]
     },
     "execution_count": 36,
     "metadata": {},
     "output_type": "execute_result"
    },
    {
     "data": {
      "image/png": "[encoded data removed]",
      "text/plain": [
       "<Figure size 432x288 with 1 Axes>"
      ]
     },
     "metadata": {
      "needs_background": "light"
     },
     "output_type": "display_data"
    }
   ],
   "source": [
    "# Breast cancer data\n",
    "from sklearn.datasets import load_breast_cancer\n",
    "\n",
    "# Load data\n",
    "dataObj = load_breast_cancer()\n",
    "X = dataObj.data\n",
    "y = dataObj.target\n",
    "df = pd.DataFrame(data=X, columns=dataObj.feature_names)\n",
    "df.insert(loc=0, column='class', value=y)\n",
    "\n",
    "df['class'].value_counts().plot(kind='bar')"
   ]
  },
  {
   "cell_type": "code",
   "execution_count": 37,
   "metadata": {},
   "outputs": [
    {
     "data": {
      "text/plain": [
       "<AxesSubplot:>"
      ]
     },
     "execution_count": 37,
     "metadata": {},
     "output_type": "execute_result"
    },
    {
     "data": {
      "image/png": "[encoded data removed]",
      "text/plain": [
       "<Figure size 432x288 with 1 Axes>"
      ]
     },
     "metadata": {
      "needs_background": "light"
     },
     "output_type": "display_data"
    }
   ],
   "source": [
    "# Let make an imbalance dataset by sample small amount of class 0 (having cancer)\n",
    "df0 = df[df['class'] == 0].sample(frac=0.10, random_state=1)\n",
    "df1 = df[df['class'] == 1]\n",
    "dfSample = pd.concat([df0, df1], axis=0, ignore_index=True)\n",
    "dfSample['class'].value_counts().plot(kind='bar')"
   ]
  },
  {
   "cell_type": "code",
   "execution_count": 38,
   "metadata": {},
   "outputs": [],
   "source": [
    "colsX = [i for i in dfSample.columns if i != 'class']\n",
    "X = dfSample[colsX].values\n",
    "y = dfSample['class'].values\n",
    "\n",
    "# Splitting data\n",
    "X_train, X_test, y_train, y_test = train_test_split(X, y,\n",
    "    test_size=0.20,\n",
    "    stratify=y,\n",
    "    random_state=1)\n",
    "\n",
    "# Constructing a pipeline object\n",
    "pipe_svc = Pipeline([('scl', StandardScaler()),\n",
    "            ('clf', SVC(random_state=1))])\n",
    "\n",
    "# Training\n",
    "pipe_svc.fit(X_train, y_train)\n",
    "\n",
    "# Prediction from test data\n",
    "y_pred = pipe_svc.predict(X_test)"
   ]
  },
  {
   "cell_type": "markdown",
   "metadata": {},
   "source": [
    "## Visualize confusion matrix"
   ]
  },
  {
   "cell_type": "code",
   "execution_count": 39,
   "metadata": {},
   "outputs": [
    {
     "data": {
      "image/png": "[encoded data removed]",
      "text/plain": [
       "<Figure size 432x288 with 2 Axes>"
      ]
     },
     "metadata": {
      "needs_background": "light"
     },
     "output_type": "display_data"
    }
   ],
   "source": [
    "from sklearn.metrics import plot_confusion_matrix\n",
    "plot_confusion_matrix(estimator=pipe_svc, X=X_test, y_true=y_test, labels=[0,1])  \n",
    "plt.show()"
   ]
  },
  {
   "cell_type": "markdown",
   "metadata": {},
   "source": [
    "## Calculate metrices\n",
    "- Accuracy\n",
    "- Precision\n",
    "- Recall\n",
    "- F1"
   ]
  },
  {
   "cell_type": "code",
   "execution_count": 40,
   "metadata": {},
   "outputs": [
    {
     "name": "stdout",
     "output_type": "stream",
     "text": [
      "Accuracy: 0.974\n",
      "Precision: 1.000\n",
      "Recall: 0.500\n",
      "F1: 0.500\n"
     ]
    }
   ],
   "source": [
    "from sklearn.metrics import accuracy_score, precision_score ,recall_score, f1_score\n",
    "\n",
    "# Accuracy\n",
    "ACC = accuracy_score(y_true=y_test, y_pred=y_pred)\n",
    "print(f\"Accuracy:{ACC:6.3f}\")\n",
    "\n",
    "# Precision\n",
    "PRE = precision_score(y_true=y_test, y_pred=y_pred, pos_label=0)\n",
    "print(f\"Precision:{PRE:6.3f}\")\n",
    "\n",
    "# Recall\n",
    "REC = recall_score(y_true=y_test, y_pred=y_pred, pos_label=0)\n",
    "print(f\"Recall:{REC:6.3f}\")\n",
    "\n",
    "# F1\n",
    "F1 = f1_score(y_true=y_test, y_pred=y_pred, pos_label=0)\n",
    "print(f\"F1:{REC:6.3f}\")"
   ]
  },
  {
   "cell_type": "markdown",
   "metadata": {},
   "source": [
    "## Perform gridsearch on `recall`"
   ]
  },
  {
   "cell_type": "code",
   "execution_count": 41,
   "metadata": {},
   "outputs": [
    {
     "name": "stdout",
     "output_type": "stream",
     "text": [
      "0.9\n",
      "{'clf__C': 1.0, 'clf__kernel': 'linear'}\n"
     ]
    }
   ],
   "source": [
    "from sklearn.model_selection import GridSearchCV\n",
    "from sklearn.metrics import make_scorer\n",
    "\n",
    "c_gamma_range = [0.01, 0.1, 1.0, 10.0]\n",
    "param_range = [0.0001, 0.001, 0.01, 0.1, 1.0, 10.0, 100.0, 1000.0]\n",
    "set1 = {'clf__C': param_range, 'clf__kernel': ['linear']}\n",
    "set2 = {'clf__C': param_range, 'clf__gamma': param_range, 'clf__kernel': ['rbf']}\n",
    "param_grid = [set1, set2]\n",
    "\n",
    "# Making scorer wrapper so that we can pass the desired argument.\n",
    "scorer = make_scorer(recall_score, pos_label=0)\n",
    "\n",
    "# Grid search.\n",
    "gs = GridSearchCV(estimator=pipe_svc,\n",
    "                  param_grid=param_grid,\n",
    "                  # Use scorer here\n",
    "                  scoring=scorer,\n",
    "                  cv=10,\n",
    "                  n_jobs=-1)\n",
    "                  \n",
    "gs = gs.fit(X_train, y_train)\n",
    "print(gs.best_score_)\n",
    "print(gs.best_params_)"
   ]
  },
  {
   "cell_type": "markdown",
   "metadata": {},
   "source": [
    "## Re-evaluate the metrices"
   ]
  },
  {
   "cell_type": "code",
   "execution_count": 42,
   "metadata": {},
   "outputs": [
    {
     "data": {
      "image/png": "[encoded data removed]",
      "text/plain": [
       "<Figure size 432x288 with 2 Axes>"
      ]
     },
     "metadata": {
      "needs_background": "light"
     },
     "output_type": "display_data"
    },
    {
     "name": "stdout",
     "output_type": "stream",
     "text": [
      "Accuracy: 1.000\n",
      "Precision: 1.000\n",
      "Recall: 1.000\n",
      "F1: 1.000\n"
     ]
    }
   ],
   "source": [
    "y_pred = gs.predict(X_test)\n",
    "\n",
    "# Visualization\n",
    "plot_confusion_matrix(estimator=gs, X=X_test, y_true=y_test, labels=[0,1])  \n",
    "plt.show()\n",
    "\n",
    "# Accuracy\n",
    "ACC = accuracy_score(y_true=y_test, y_pred=y_pred)\n",
    "print(f\"Accuracy:{ACC:6.3f}\")\n",
    "\n",
    "# Precision\n",
    "PRE = precision_score(y_true=y_test, y_pred=y_pred, pos_label=0)\n",
    "print(f\"Precision:{PRE:6.3f}\")\n",
    "\n",
    "# Recall\n",
    "REC = recall_score(y_true=y_test, y_pred=y_pred, pos_label=0)\n",
    "print(f\"Recall:{REC:6.3f}\")\n",
    "\n",
    "# F1\n",
    "F1 = f1_score(y_true=y_test, y_pred=y_pred, pos_label=0)\n",
    "print(f\"F1:{REC:6.3f}\")"
   ]
  },
  {
   "cell_type": "markdown",
   "metadata": {},
   "source": [
    "## Use `class_weight` option"
   ]
  },
  {
   "cell_type": "code",
   "execution_count": 43,
   "metadata": {},
   "outputs": [],
   "source": [
    "# Constructing a pipeline object\n",
    "pipe_svc_balanced = Pipeline([('scl', StandardScaler()),\n",
    "            ('clf', SVC(random_state=1, class_weight='balanced'))])\n",
    "\n",
    "# Training\n",
    "pipe_svc_balanced.fit(X_train, y_train)\n",
    "\n",
    "# Prediction from test data\n",
    "y_pred = pipe_svc_balanced.predict(X_test)"
   ]
  },
  {
   "cell_type": "code",
   "execution_count": 44,
   "metadata": {},
   "outputs": [
    {
     "data": {
      "image/png": "[encoded data removed]",
      "text/plain": [
       "<Figure size 432x288 with 2 Axes>"
      ]
     },
     "metadata": {
      "needs_background": "light"
     },
     "output_type": "display_data"
    },
    {
     "name": "stdout",
     "output_type": "stream",
     "text": [
      "Accuracy: 1.000\n",
      "Precision: 1.000\n",
      "Recall: 1.000\n",
      "F1: 1.000\n"
     ]
    }
   ],
   "source": [
    "# Visualization\n",
    "plot_confusion_matrix(estimator=pipe_svc_balanced, X=X_test, y_true=y_test, labels=[0,1])  \n",
    "plt.show()\n",
    "\n",
    "# Accuracy\n",
    "ACC = accuracy_score(y_true=y_test, y_pred=y_pred)\n",
    "print(f\"Accuracy:{ACC:6.3f}\")\n",
    "\n",
    "# Precision\n",
    "PRE = precision_score(y_true=y_test, y_pred=y_pred, pos_label=0)\n",
    "print(f\"Precision:{PRE:6.3f}\")\n",
    "\n",
    "# Recall\n",
    "REC = recall_score(y_true=y_test, y_pred=y_pred, pos_label=0)\n",
    "print(f\"Recall:{REC:6.3f}\")\n",
    "\n",
    "# F1\n",
    "F1 = f1_score(y_true=y_test, y_pred=y_pred, pos_label=0)\n",
    "print(f\"F1:{REC:6.3f}\")"
   ]
  },
  {
   "cell_type": "markdown",
   "metadata": {},
   "source": [
    "## Use SMOTE "
   ]
  },
  {
   "cell_type": "code",
   "execution_count": 45,
   "metadata": {},
   "outputs": [],
   "source": [
    "from imblearn.over_sampling import SMOTE\n",
    "oversample = SMOTE()\n",
    "X_train_os, y_train_os = oversample.fit_resample(X_train, y_train)\n",
    "pd.Series(y_train_os).value_counts()\n",
    "\n",
    "# Training\n",
    "pipe_svc.fit(X_train_os, y_train_os)\n",
    "# Prediction from test data\n",
    "y_pred = pipe_svc.predict(X_test)"
   ]
  },
  {
   "cell_type": "code",
   "execution_count": 46,
   "metadata": {},
   "outputs": [
    {
     "data": {
      "image/png": "[encoded data removed]",
      "text/plain": [
       "<Figure size 432x288 with 2 Axes>"
      ]
     },
     "metadata": {
      "needs_background": "light"
     },
     "output_type": "display_data"
    },
    {
     "name": "stdout",
     "output_type": "stream",
     "text": [
      "Accuracy: 1.000\n",
      "Precision: 1.000\n",
      "Recall: 1.000\n",
      "F1: 1.000\n"
     ]
    }
   ],
   "source": [
    "# Visualization\n",
    "plot_confusion_matrix(estimator=pipe_svc, X=X_test, y_true=y_test, labels=[0,1])  \n",
    "plt.show()\n",
    "\n",
    "# Accuracy\n",
    "ACC = accuracy_score(y_true=y_test, y_pred=y_pred)\n",
    "print(f\"Accuracy:{ACC:6.3f}\")\n",
    "\n",
    "# Precision\n",
    "PRE = precision_score(y_true=y_test, y_pred=y_pred, pos_label=0)\n",
    "print(f\"Precision:{PRE:6.3f}\")\n",
    "\n",
    "# Recall\n",
    "REC = recall_score(y_true=y_test, y_pred=y_pred, pos_label=0)\n",
    "print(f\"Recall:{REC:6.3f}\")\n",
    "\n",
    "# F1\n",
    "F1 = f1_score(y_true=y_test, y_pred=y_pred, pos_label=0)\n",
    "print(f\"F1:{REC:6.3f}\")"
   ]
  }
 ],
 "metadata": {
  "kernelspec": {
   "display_name": "Python 3.9.7 ('base')",
   "language": "python",
   "name": "python3"
  },
  "language_info": {
   "codemirror_mode": {
    "name": "ipython",
    "version": 3
   },
   "file_extension": ".py",
   "mimetype": "text/x-python",
   "name": "python",
   "nbconvert_exporter": "python",
   "pygments_lexer": "ipython3",
   "version": "3.9.7"
  },
  "orig_nbformat": 4,
  "vscode": {
   "interpreter": {
    "hash": "79088bb772545dc9740b3f6fd02f1fa74686ae15b783fc1c2abf8492adb1c7fb"
   }
  }
 },
 "nbformat": 4,
 "nbformat_minor": 2
}
