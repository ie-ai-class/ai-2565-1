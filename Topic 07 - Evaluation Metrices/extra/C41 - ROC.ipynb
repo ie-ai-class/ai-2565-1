{
 "cells": [
  {
   "cell_type": "markdown",
   "metadata": {},
   "source": [
    "# ROC and AUC"
   ]
  },
  {
   "cell_type": "markdown",
   "metadata": {},
   "source": [
    "## Setting up\n",
    "- Breat cancer data\n",
    "- 2 classes\n",
    "- 30 features"
   ]
  },
  {
   "cell_type": "code",
   "execution_count": null,
   "metadata": {},
   "outputs": [],
   "source": [
    "import pandas as pd\n",
    "import numpy as np\n",
    "import matplotlib.pyplot as plt\n",
    "from sklearn.model_selection import train_test_split\n",
    "from sklearn.preprocessing import StandardScaler\n",
    "from sklearn.linear_model import LogisticRegression\n",
    "from sklearn.pipeline import Pipeline\n",
    "\n",
    "# Breast cancer data\n",
    "from sklearn.datasets import load_breast_cancer\n",
    "\n",
    "# Load data\n",
    "dataObj = load_breast_cancer()\n",
    "X = dataObj.data\n",
    "y = dataObj.target\n",
    "\n",
    "# Remove some data (to make ROC curve looks more interesting)\n",
    "X = X[:,[1,2]]\n",
    "\n",
    "# Splitting data\n",
    "X_train, X_test, y_train, y_test = train_test_split(X, y,\n",
    "    test_size=0.20,\n",
    "    stratify=y,\n",
    "    random_state=1)"
   ]
  },
  {
   "cell_type": "markdown",
   "metadata": {},
   "source": [
    "## ROC Curve"
   ]
  },
  {
   "cell_type": "code",
   "execution_count": null,
   "metadata": {},
   "outputs": [],
   "source": [
    "from sklearn.metrics import plot_roc_curve\n",
    "\n",
    "# Parameters\n",
    "#C = 1e-5\n",
    "#C = 1e-2\n",
    "C = 1\n",
    "#C = 10\n",
    "\n",
    "# Estimator\n",
    "pipe_lr = Pipeline([('scl', StandardScaler()),\n",
    "                    ('clf', LogisticRegression(random_state=0, C=C))])\n",
    "# Training\n",
    "pipe_lr.fit(X_train, y_train)\n",
    "\n",
    "#Plot ROC curve\n",
    "plot_roc_curve(pipe_lr, X_test,y_test)"
   ]
  },
  {
   "cell_type": "markdown",
   "metadata": {},
   "source": [
    "## Details"
   ]
  },
  {
   "cell_type": "code",
   "execution_count": null,
   "metadata": {},
   "outputs": [],
   "source": [
    "from sklearn.metrics import roc_curve\n",
    "\n",
    "# Make prediction\n",
    "y_pred = pipe_lr.predict(X_test)\n",
    "\n",
    "# Calculate probability\n",
    "proba = pipe_lr.predict_proba(X_test)\n",
    "\n",
    "# Display using dataframe\n",
    "comb = np.concatenate((y_pred.reshape(-1,1), proba, y_test.reshape(-1,1)), axis=1)\n",
    "df = pd.DataFrame(comb, columns=['y_pred','Prob(y=0)','Prob(y=1)','y_test'])\n",
    "display(df)"
   ]
  },
  {
   "cell_type": "code",
   "execution_count": null,
   "metadata": {},
   "outputs": [],
   "source": [
    "# Calculate FPR, TPR, threholds values\n",
    "fpr, tpr, thresholds = roc_curve(y_true=y_test, y_score=proba[:,1], pos_label=1)\n",
    "\n",
    "# Display in dataframe\n",
    "comb = np.stack((thresholds, fpr, tpr), axis=1)\n",
    "df = pd.DataFrame(comb, columns=['Threshold', 'FPR', 'TPR'])\n",
    "display(df)"
   ]
  },
  {
   "cell_type": "markdown",
   "metadata": {},
   "source": [
    "## Calculate AUC"
   ]
  },
  {
   "cell_type": "code",
   "execution_count": null,
   "metadata": {},
   "outputs": [],
   "source": [
    "from sklearn.metrics import roc_auc_score\n",
    "\n",
    "#AUC Value\n",
    "auc_score = roc_auc_score(y_true=y_test, y_score=proba[:,1])\n",
    "print(f\"AUC:{auc_score:6.3f}\")"
   ]
  },
  {
   "cell_type": "markdown",
   "metadata": {},
   "source": [
    "## Predicting class with different threshold"
   ]
  },
  {
   "cell_type": "code",
   "execution_count": null,
   "metadata": {},
   "outputs": [],
   "source": [
    "# Let assume that we need TPR to be very high, we can lower the threshold\n",
    "y_pred2 = np.where(proba[:,1] > 0.2, 1, 0)\n",
    "print(y_pred2)"
   ]
  }
 ],
 "metadata": {
  "kernelspec": {
   "display_name": "Python 3",
   "language": "python",
   "name": "python3"
  },
  "language_info": {
   "codemirror_mode": {
    "name": "ipython",
    "version": 3
   },
   "file_extension": ".py",
   "mimetype": "text/x-python",
   "name": "python",
   "nbconvert_exporter": "python",
   "pygments_lexer": "ipython3",
   "version": "3.8.5"
  }
 },
 "nbformat": 4,
 "nbformat_minor": 2
}
