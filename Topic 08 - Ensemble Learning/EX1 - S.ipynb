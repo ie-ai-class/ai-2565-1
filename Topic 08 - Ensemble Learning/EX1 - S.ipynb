{
 "cells": [
  {
   "cell_type": "markdown",
   "metadata": {},
   "source": [
    "# CNC Mill Tool Wear\n",
    "- https://www.kaggle.com/shasun/tool-wear-detection-in-cnc-mill\n",
    "- Predict \"Machining_Process\""
   ]
  },
  {
   "cell_type": "code",
   "execution_count": 8,
   "metadata": {},
   "outputs": [],
   "source": [
    "import numpy as np\n",
    "import matplotlib.pyplot as plt\n",
    "import pandas as pd\n",
    "from sklearn.model_selection import train_test_split"
   ]
  },
  {
   "cell_type": "code",
   "execution_count": 14,
   "metadata": {},
   "outputs": [
    {
     "data": {
      "text/html": [
       "<div>\n",
       "<style scoped>\n",
       "    .dataframe tbody tr th:only-of-type {\n",
       "        vertical-align: middle;\n",
       "    }\n",
       "\n",
       "    .dataframe tbody tr th {\n",
       "        vertical-align: top;\n",
       "    }\n",
       "\n",
       "    .dataframe thead th {\n",
       "        text-align: right;\n",
       "    }\n",
       "</style>\n",
       "<table border=\"1\" class=\"dataframe\">\n",
       "  <thead>\n",
       "    <tr style=\"text-align: right;\">\n",
       "      <th></th>\n",
       "      <th>X1_ActualPosition</th>\n",
       "      <th>X1_ActualVelocity</th>\n",
       "      <th>X1_ActualAcceleration</th>\n",
       "      <th>X1_CommandPosition</th>\n",
       "      <th>X1_CommandVelocity</th>\n",
       "      <th>X1_CommandAcceleration</th>\n",
       "      <th>X1_CurrentFeedback</th>\n",
       "      <th>X1_DCBusVoltage</th>\n",
       "      <th>X1_OutputCurrent</th>\n",
       "      <th>X1_OutputVoltage</th>\n",
       "      <th>...</th>\n",
       "      <th>S1_OutputCurrent</th>\n",
       "      <th>S1_OutputVoltage</th>\n",
       "      <th>S1_OutputPower</th>\n",
       "      <th>S1_SystemInertia</th>\n",
       "      <th>M1_CURRENT_PROGRAM_NUMBER</th>\n",
       "      <th>M1_sequence_number</th>\n",
       "      <th>M1_CURRENT_FEEDRATE</th>\n",
       "      <th>Machining_Process</th>\n",
       "      <th>feedrate</th>\n",
       "      <th>clamp_pressure</th>\n",
       "    </tr>\n",
       "  </thead>\n",
       "  <tbody>\n",
       "    <tr>\n",
       "      <th>0</th>\n",
       "      <td>198.0</td>\n",
       "      <td>0.0</td>\n",
       "      <td>0.00</td>\n",
       "      <td>198.0</td>\n",
       "      <td>0.0</td>\n",
       "      <td>0.000000</td>\n",
       "      <td>0.18</td>\n",
       "      <td>0.0207</td>\n",
       "      <td>329.0</td>\n",
       "      <td>2.77</td>\n",
       "      <td>...</td>\n",
       "      <td>329.0</td>\n",
       "      <td>0.0</td>\n",
       "      <td>6.960000e-07</td>\n",
       "      <td>12.0</td>\n",
       "      <td>1.0</td>\n",
       "      <td>0.0</td>\n",
       "      <td>50.0</td>\n",
       "      <td>7</td>\n",
       "      <td>6</td>\n",
       "      <td>4.0</td>\n",
       "    </tr>\n",
       "    <tr>\n",
       "      <th>1</th>\n",
       "      <td>198.0</td>\n",
       "      <td>-10.8</td>\n",
       "      <td>-350.00</td>\n",
       "      <td>198.0</td>\n",
       "      <td>-13.6</td>\n",
       "      <td>-358.000000</td>\n",
       "      <td>-10.90</td>\n",
       "      <td>0.1860</td>\n",
       "      <td>328.0</td>\n",
       "      <td>23.30</td>\n",
       "      <td>...</td>\n",
       "      <td>328.0</td>\n",
       "      <td>0.0</td>\n",
       "      <td>-5.270000e-07</td>\n",
       "      <td>12.0</td>\n",
       "      <td>1.0</td>\n",
       "      <td>4.0</td>\n",
       "      <td>50.0</td>\n",
       "      <td>7</td>\n",
       "      <td>6</td>\n",
       "      <td>4.0</td>\n",
       "    </tr>\n",
       "    <tr>\n",
       "      <th>2</th>\n",
       "      <td>196.0</td>\n",
       "      <td>-17.8</td>\n",
       "      <td>-6.25</td>\n",
       "      <td>196.0</td>\n",
       "      <td>-17.9</td>\n",
       "      <td>-0.000095</td>\n",
       "      <td>-8.59</td>\n",
       "      <td>0.1400</td>\n",
       "      <td>328.0</td>\n",
       "      <td>30.60</td>\n",
       "      <td>...</td>\n",
       "      <td>328.0</td>\n",
       "      <td>0.0</td>\n",
       "      <td>9.100000e-07</td>\n",
       "      <td>12.0</td>\n",
       "      <td>1.0</td>\n",
       "      <td>7.0</td>\n",
       "      <td>50.0</td>\n",
       "      <td>7</td>\n",
       "      <td>6</td>\n",
       "      <td>4.0</td>\n",
       "    </tr>\n",
       "  </tbody>\n",
       "</table>\n",
       "<p>3 rows × 50 columns</p>\n",
       "</div>"
      ],
      "text/plain": [
       "   X1_ActualPosition  X1_ActualVelocity  X1_ActualAcceleration  \\\n",
       "0              198.0                0.0                   0.00   \n",
       "1              198.0              -10.8                -350.00   \n",
       "2              196.0              -17.8                  -6.25   \n",
       "\n",
       "   X1_CommandPosition  X1_CommandVelocity  X1_CommandAcceleration  \\\n",
       "0               198.0                 0.0                0.000000   \n",
       "1               198.0               -13.6             -358.000000   \n",
       "2               196.0               -17.9               -0.000095   \n",
       "\n",
       "   X1_CurrentFeedback  X1_DCBusVoltage  X1_OutputCurrent  X1_OutputVoltage  \\\n",
       "0                0.18           0.0207             329.0              2.77   \n",
       "1              -10.90           0.1860             328.0             23.30   \n",
       "2               -8.59           0.1400             328.0             30.60   \n",
       "\n",
       "   ...  S1_OutputCurrent  S1_OutputVoltage  S1_OutputPower  S1_SystemInertia  \\\n",
       "0  ...             329.0               0.0    6.960000e-07              12.0   \n",
       "1  ...             328.0               0.0   -5.270000e-07              12.0   \n",
       "2  ...             328.0               0.0    9.100000e-07              12.0   \n",
       "\n",
       "   M1_CURRENT_PROGRAM_NUMBER  M1_sequence_number  M1_CURRENT_FEEDRATE  \\\n",
       "0                        1.0                 0.0                 50.0   \n",
       "1                        1.0                 4.0                 50.0   \n",
       "2                        1.0                 7.0                 50.0   \n",
       "\n",
       "   Machining_Process  feedrate  clamp_pressure  \n",
       "0                  7         6             4.0  \n",
       "1                  7         6             4.0  \n",
       "2                  7         6             4.0  \n",
       "\n",
       "[3 rows x 50 columns]"
      ]
     },
     "metadata": {},
     "output_type": "display_data"
    },
    {
     "name": "stdout",
     "output_type": "stream",
     "text": [
      "(25286, 50)\n"
     ]
    },
    {
     "data": {
      "text/plain": [
       "<AxesSubplot:>"
      ]
     },
     "execution_count": 14,
     "metadata": {},
     "output_type": "execute_result"
    },
    {
     "data": {
      "image/png": "[encoded data removed]",
      "text/plain": [
       "<Figure size 432x288 with 1 Axes>"
      ]
     },
     "metadata": {
      "needs_background": "light"
     },
     "output_type": "display_data"
    }
   ],
   "source": [
    "# Read data\n",
    "df = pd.read_pickle('./data/pred_machining_process.pkl',compression='gzip')\n",
    "\n",
    "# Read from CSV instead\n",
    "#df = pd.read_csv('./data/pred_machining_process.csv')\n",
    "\n",
    "display(df.head(3))\n",
    "print(df.shape)\n",
    "df['Machining_Process'].value_counts().sort_index().plot(kind='bar')\n"
   ]
  },
  {
   "cell_type": "code",
   "execution_count": 13,
   "metadata": {},
   "outputs": [
    {
     "name": "stdout",
     "output_type": "stream",
     "text": [
      "(2528, 50)\n"
     ]
    },
    {
     "data": {
      "image/png": "[encoded data removed]",
      "text/plain": [
       "<Figure size 432x288 with 1 Axes>"
      ]
     },
     "metadata": {
      "needs_background": "light"
     },
     "output_type": "display_data"
    }
   ],
   "source": [
    "from sklearn.preprocessing import StandardScaler\n",
    "from sklearn.decomposition import PCA\n",
    "\n",
    "# Sample data (for experimenting)\n",
    "df = df.groupby(by='Machining_Process').sample(frac=0.1, random_state=1)\n",
    "print(df.shape)\n",
    "df['Machining_Process'].value_counts().sort_index().plot(kind='bar')\n",
    "\n",
    "# Extract data\n",
    "colsX = np.array([item for item in df.columns if item not in 'Machining_Process'])\n",
    "X = df[colsX].values\n",
    "y = df['Machining_Process'].values\n",
    "\n",
    "# Reduce no. of columns of ALL data\n",
    "X = StandardScaler().fit_transform(X)\n",
    "X = PCA(n_components=4).fit_transform(X)\n",
    "\n",
    "# Split data\n",
    "X_train, X_test, y_train, y_test = train_test_split(X, y, test_size=0.3, random_state=0, stratify=y)"
   ]
  },
  {
   "cell_type": "markdown",
   "metadata": {},
   "source": [
    "# Voting Classifier"
   ]
  },
  {
   "cell_type": "code",
   "execution_count": 4,
   "metadata": {},
   "outputs": [],
   "source": [
    "from sklearn.preprocessing import StandardScaler\n",
    "from sklearn.linear_model import LogisticRegression\n",
    "from sklearn.tree import DecisionTreeClassifier\n",
    "from sklearn.neighbors import KNeighborsClassifier \n",
    "from sklearn.pipeline import Pipeline\n",
    "from sklearn.ensemble import VotingClassifier\n",
    "from sklearn.model_selection import cross_validate\n",
    "from sklearn.metrics import accuracy_score, precision_score, recall_score, f1_score\n",
    "from sklearn.metrics import make_scorer\n",
    "from sklearn.metrics import classification_report\n",
    "from sklearn.model_selection import GridSearchCV"
   ]
  },
  {
   "cell_type": "markdown",
   "metadata": {},
   "source": [
    "# Bagging Classifier"
   ]
  },
  {
   "cell_type": "code",
   "execution_count": 5,
   "metadata": {},
   "outputs": [],
   "source": [
    "from sklearn.tree import DecisionTreeClassifier\n",
    "from sklearn.ensemble import BaggingClassifier"
   ]
  },
  {
   "cell_type": "markdown",
   "metadata": {},
   "source": [
    "# Gradient Boosting Classifier"
   ]
  },
  {
   "cell_type": "code",
   "execution_count": 6,
   "metadata": {},
   "outputs": [],
   "source": [
    "from sklearn.ensemble import GradientBoostingClassifier"
   ]
  },
  {
   "cell_type": "markdown",
   "metadata": {},
   "source": [
    "# Popular Gradient Boosting Libraries"
   ]
  },
  {
   "cell_type": "code",
   "execution_count": 7,
   "metadata": {},
   "outputs": [],
   "source": [
    "from xgboost import XGBClassifier\n",
    "from lightgbm import LGBMClassifier\n",
    "from catboost import CatBoostClassifier"
   ]
  }
 ],
 "metadata": {
  "kernelspec": {
   "display_name": "Python 3.9.7 ('base')",
   "language": "python",
   "name": "python3"
  },
  "language_info": {
   "codemirror_mode": {
    "name": "ipython",
    "version": 3
   },
   "file_extension": ".py",
   "mimetype": "text/x-python",
   "name": "python",
   "nbconvert_exporter": "python",
   "pygments_lexer": "ipython3",
   "version": "3.9.7"
  },
  "orig_nbformat": 4,
  "vscode": {
   "interpreter": {
    "hash": "79088bb772545dc9740b3f6fd02f1fa74686ae15b783fc1c2abf8492adb1c7fb"
   }
  }
 },
 "nbformat": 4,
 "nbformat_minor": 2
}
